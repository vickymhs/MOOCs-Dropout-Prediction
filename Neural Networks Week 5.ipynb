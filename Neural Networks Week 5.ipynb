{
 "cells": [
  {
   "cell_type": "code",
   "execution_count": 35,
   "metadata": {},
   "outputs": [],
   "source": [
    "import numpy as np\n",
    "import pandas as pd\n",
    "import seaborn as sns\n",
    "import matplotlib.pyplot as plt\n",
    "import matplotlib.units as units\n",
    "import matplotlib.ticker as ticker\n",
    "import random\n",
    "import time                   # To time processes\n",
    "import warnings               # To suppress warnings\n",
    "import itertools\n",
    "import datetime\n",
    "import tensorflow as tf\n",
    "import csv\n",
    "import math\n",
    "\n",
    "from random import shuffle\n",
    "from pandas import read_csv\n",
    "from sklearn import metrics\n",
    "from sklearn import svm\n",
    "from matplotlib import pyplot\n",
    "from numpy import array\n",
    "from numpy import argmax\n",
    "from scipy import stats\n",
    "\n",
    "\n",
    "from sklearn.preprocessing import LabelEncoder\n",
    "from sklearn.preprocessing import OneHotEncoder\n",
    "\n",
    "from sklearn.metrics import accuracy_score\n",
    "from sklearn.metrics import classification_report, confusion_matrix  \n",
    "from sklearn.metrics import accuracy_score\n",
    "from sklearn.metrics import mean_squared_error\n",
    "from sklearn.metrics import roc_curve\n",
    "from sklearn.metrics import roc_auc_score\n",
    "from sklearn.metrics import recall_score\n",
    "from sklearn.metrics import precision_score\n",
    "from sklearn.cluster import KMeans\n",
    "from sklearn.metrics import precision_recall_curve\n",
    "\n",
    "from sklearn.utils import class_weight\n",
    "from sklearn.utils.fixes import signature\n",
    "from sklearn.ensemble import RandomForestClassifier\n",
    "from sklearn.tree import DecisionTreeClassifier\n",
    "from sklearn.linear_model import LogisticRegression\n",
    "from sklearn.neural_network import MLPClassifier\n",
    "from sklearn.base import TransformerMixin\n",
    "from sklearn.naive_bayes import GaussianNB\n",
    "from sklearn.naive_bayes import MultinomialNB\n",
    "from sklearn.discriminant_analysis import LinearDiscriminantAnalysis\n",
    "\n",
    "\n",
    "from sklearn.model_selection import train_test_split\n",
    "from sklearn.model_selection import KFold\n",
    "from sklearn.model_selection import cross_val_score\n",
    "from sklearn.feature_selection import SelectKBest\n",
    "from sklearn.feature_selection import chi2\n",
    "\n",
    "from keras.models import Sequential\n",
    "from keras.layers import Dense\n",
    "from keras.layers import Dropout\n",
    "from keras.callbacks import Callback\n",
    "\n",
    "from imblearn.over_sampling import SMOTE, ADASYN\n",
    "from imblearn.over_sampling import RandomOverSampler\n",
    "\n",
    "from matplotlib.pyplot import *\n",
    "\n",
    "warnings.filterwarnings(\"ignore\")"
   ]
  },
  {
   "cell_type": "code",
   "execution_count": 2,
   "metadata": {},
   "outputs": [],
   "source": [
    "dataset5 = read_csv(\"Week 5.csv\", encoding=\"ISO-8859-1\")\n",
    "df_week5=dataset5[['viewed','explored','certified','grade','nevents','ndays_act','nchapters','LoE_DI','Last event date','Completed_or_not']]"
   ]
  },
  {
   "cell_type": "code",
   "execution_count": 3,
   "metadata": {},
   "outputs": [],
   "source": [
    "# Add testing and result dataset for week 5\n",
    "df2=read_csv(\"Week 5 Test data.csv\")\n",
    "df3=read_csv(\"Week 5 Test result.csv\")"
   ]
  },
  {
   "cell_type": "code",
   "execution_count": 4,
   "metadata": {},
   "outputs": [
    {
     "data": {
      "text/html": [
       "<div>\n",
       "<style scoped>\n",
       "    .dataframe tbody tr th:only-of-type {\n",
       "        vertical-align: middle;\n",
       "    }\n",
       "\n",
       "    .dataframe tbody tr th {\n",
       "        vertical-align: top;\n",
       "    }\n",
       "\n",
       "    .dataframe thead th {\n",
       "        text-align: right;\n",
       "    }\n",
       "</style>\n",
       "<table border=\"1\" class=\"dataframe\">\n",
       "  <thead>\n",
       "    <tr style=\"text-align: right;\">\n",
       "      <th></th>\n",
       "      <th>Unnamed: 0</th>\n",
       "      <th>Completed_or_not</th>\n",
       "    </tr>\n",
       "  </thead>\n",
       "  <tbody>\n",
       "    <tr>\n",
       "      <th>0</th>\n",
       "      <td>56696</td>\n",
       "      <td>0</td>\n",
       "    </tr>\n",
       "    <tr>\n",
       "      <th>1</th>\n",
       "      <td>9210</td>\n",
       "      <td>0</td>\n",
       "    </tr>\n",
       "    <tr>\n",
       "      <th>2</th>\n",
       "      <td>37130</td>\n",
       "      <td>0</td>\n",
       "    </tr>\n",
       "    <tr>\n",
       "      <th>3</th>\n",
       "      <td>149</td>\n",
       "      <td>0</td>\n",
       "    </tr>\n",
       "    <tr>\n",
       "      <th>4</th>\n",
       "      <td>11965</td>\n",
       "      <td>0</td>\n",
       "    </tr>\n",
       "  </tbody>\n",
       "</table>\n",
       "</div>"
      ],
      "text/plain": [
       "   Unnamed: 0  Completed_or_not\n",
       "0       56696                 0\n",
       "1        9210                 0\n",
       "2       37130                 0\n",
       "3         149                 0\n",
       "4       11965                 0"
      ]
     },
     "execution_count": 4,
     "metadata": {},
     "output_type": "execute_result"
    }
   ],
   "source": [
    "df3.head()"
   ]
  },
  {
   "cell_type": "code",
   "execution_count": 5,
   "metadata": {},
   "outputs": [],
   "source": [
    "X5=df_week5.iloc[:,[0,1,2,3,4,5,6,7,8]]\n",
    "y5=df_week5.iloc[:,[9]]\n",
    "\n",
    "Z5=df2.iloc[:,[1,2,9,3,4,5,6,7,8]]\n",
    "yy=df3.iloc[:,[1]]"
   ]
  },
  {
   "cell_type": "code",
   "execution_count": 6,
   "metadata": {},
   "outputs": [
    {
     "data": {
      "text/plain": [
       "0    11528\n",
       "1      327\n",
       "Name: Completed_or_not, dtype: int64"
      ]
     },
     "execution_count": 6,
     "metadata": {},
     "output_type": "execute_result"
    }
   ],
   "source": [
    "yy['Completed_or_not'].value_counts()"
   ]
  },
  {
   "cell_type": "code",
   "execution_count": 7,
   "metadata": {},
   "outputs": [
    {
     "data": {
      "text/plain": [
       "0.0    81196\n",
       "1.0     3165\n",
       "Name: Completed_or_not, dtype: int64"
      ]
     },
     "execution_count": 7,
     "metadata": {},
     "output_type": "execute_result"
    }
   ],
   "source": [
    "y5['Completed_or_not'].value_counts()"
   ]
  },
  {
   "cell_type": "code",
   "execution_count": 9,
   "metadata": {},
   "outputs": [],
   "source": [
    "#Performing Z-Score Normalization\n",
    "\n",
    "X5=stats.zscore(X5)\n",
    "Z5=stats.zscore(Z5)"
   ]
  },
  {
   "cell_type": "code",
   "execution_count": 10,
   "metadata": {},
   "outputs": [],
   "source": [
    "from imblearn.under_sampling import TomekLinks\n",
    "\n",
    "tl = TomekLinks(return_indices=True, ratio='majority')\n",
    "X_tl, y_tl, id_tl = tl.fit_sample(X5, y5)"
   ]
  },
  {
   "cell_type": "code",
   "execution_count": 11,
   "metadata": {
    "scrolled": true
   },
   "outputs": [
    {
     "name": "stdout",
     "output_type": "stream",
     "text": [
      "[[0.0000e+00 8.1145e+04]\n",
      " [1.0000e+00 3.1650e+03]]\n"
     ]
    }
   ],
   "source": [
    "unique, counts = np.unique(y_tl, return_counts=True)\n",
    "\n",
    "print (np.asarray((unique, counts)).T)"
   ]
  },
  {
   "cell_type": "code",
   "execution_count": 12,
   "metadata": {},
   "outputs": [],
   "source": [
    "all_classes=['Not Completed','Completed']"
   ]
  },
  {
   "cell_type": "code",
   "execution_count": 13,
   "metadata": {},
   "outputs": [],
   "source": [
    "model = Sequential()\n",
    "#Adding dropout between the input layer and the first hidden layer\n",
    "model.add(Dense(12, input_dim=9, activation='softmax'))\n",
    "model.add(Dense(10, activation='relu'))\n",
    "model.add(Dense(8, activation='softmax'))\n",
    "model.add(Dense(6, activation='softmax'))\n",
    "model.add(Dense(4, activation='softmax'))\n",
    "model.add(Dense(1, activation='sigmoid'))\n",
    "#model.add(Dropout(0.2))"
   ]
  },
  {
   "cell_type": "code",
   "execution_count": 14,
   "metadata": {},
   "outputs": [],
   "source": [
    "#We will use logarithmic loss, which for a binary classification problem is defined as “binary_crossentropy“.\n",
    "model.compile(loss='binary_crossentropy', optimizer='adam', metrics=['accuracy'])"
   ]
  },
  {
   "cell_type": "code",
   "execution_count": 15,
   "metadata": {},
   "outputs": [
    {
     "name": "stdout",
     "output_type": "stream",
     "text": [
      "Epoch 1/150\n",
      "84310/84310 [==============================] - 3s 38us/step - loss: 0.1862 - acc: 0.9625\n",
      "Epoch 2/150\n",
      "84310/84310 [==============================] - 3s 36us/step - loss: 0.0335 - acc: 0.9965\n",
      "Epoch 3/150\n",
      "84310/84310 [==============================] - 3s 36us/step - loss: 0.0139 - acc: 0.9984\n",
      "Epoch 4/150\n",
      "84310/84310 [==============================] - 3s 35us/step - loss: 0.0072 - acc: 0.9988\n",
      "Epoch 5/150\n",
      "84310/84310 [==============================] - 3s 36us/step - loss: 0.0045 - acc: 0.9989\n",
      "Epoch 6/150\n",
      "84310/84310 [==============================] - 3s 34us/step - loss: 0.0035 - acc: 0.9990\n",
      "Epoch 7/150\n",
      "84310/84310 [==============================] - 3s 34us/step - loss: 0.0030 - acc: 0.9991\n",
      "Epoch 8/150\n",
      "84310/84310 [==============================] - 3s 36us/step - loss: 0.0026 - acc: 0.9992\n",
      "Epoch 9/150\n",
      "84310/84310 [==============================] - 3s 35us/step - loss: 0.0026 - acc: 0.9992\n",
      "Epoch 10/150\n",
      "84310/84310 [==============================] - 3s 37us/step - loss: 0.0022 - acc: 0.9993\n",
      "Epoch 11/150\n",
      "84310/84310 [==============================] - 3s 36us/step - loss: 0.0023 - acc: 0.9992\n",
      "Epoch 12/150\n",
      "84310/84310 [==============================] - 3s 35us/step - loss: 0.0021 - acc: 0.9993\n",
      "Epoch 13/150\n",
      "84310/84310 [==============================] - 3s 37us/step - loss: 0.0020 - acc: 0.9993\n",
      "Epoch 14/150\n",
      "84310/84310 [==============================] - 4s 50us/step - loss: 0.0018 - acc: 0.9994\n",
      "Epoch 15/150\n",
      "84310/84310 [==============================] - 3s 41us/step - loss: 0.0019 - acc: 0.9994\n",
      "Epoch 16/150\n",
      "84310/84310 [==============================] - 3s 30us/step - loss: 0.0020 - acc: 0.9994\n",
      "Epoch 17/150\n",
      "84310/84310 [==============================] - 3s 30us/step - loss: 0.0019 - acc: 0.9993\n",
      "Epoch 18/150\n",
      "84310/84310 [==============================] - 2s 29us/step - loss: 0.0018 - acc: 0.9993\n",
      "Epoch 19/150\n",
      "84310/84310 [==============================] - 3s 35us/step - loss: 0.0020 - acc: 0.9993\n",
      "Epoch 20/150\n",
      "84310/84310 [==============================] - 3s 30us/step - loss: 0.0017 - acc: 0.9995\n",
      "Epoch 21/150\n",
      "84310/84310 [==============================] - 2s 27us/step - loss: 0.0017 - acc: 0.9994\n",
      "Epoch 22/150\n",
      "84310/84310 [==============================] - 3s 41us/step - loss: 0.0017 - acc: 0.9994\n",
      "Epoch 23/150\n",
      "84310/84310 [==============================] - 4s 45us/step - loss: 0.0019 - acc: 0.9993\n",
      "Epoch 24/150\n",
      "84310/84310 [==============================] - 3s 31us/step - loss: 0.0018 - acc: 0.9993\n",
      "Epoch 25/150\n",
      "84310/84310 [==============================] - 3s 35us/step - loss: 0.0018 - acc: 0.9994\n",
      "Epoch 26/150\n",
      "84310/84310 [==============================] - 3s 33us/step - loss: 0.0019 - acc: 0.9993\n",
      "Epoch 27/150\n",
      "84310/84310 [==============================] - 2s 29us/step - loss: 0.0018 - acc: 0.9994\n",
      "Epoch 28/150\n",
      "84310/84310 [==============================] - 2s 29us/step - loss: 0.0016 - acc: 0.9995\n",
      "Epoch 29/150\n",
      "84310/84310 [==============================] - 3s 30us/step - loss: 0.0017 - acc: 0.9994\n",
      "Epoch 30/150\n",
      "84310/84310 [==============================] - 2s 29us/step - loss: 0.0018 - acc: 0.9994\n",
      "Epoch 31/150\n",
      "84310/84310 [==============================] - 3s 30us/step - loss: 0.0016 - acc: 0.9995\n",
      "Epoch 32/150\n",
      "84310/84310 [==============================] - 2s 27us/step - loss: 0.0017 - acc: 0.9993\n",
      "Epoch 33/150\n",
      "84310/84310 [==============================] - 2s 28us/step - loss: 0.0017 - acc: 0.9994\n",
      "Epoch 34/150\n",
      "84310/84310 [==============================] - 2s 30us/step - loss: 0.0016 - acc: 0.9994\n",
      "Epoch 35/150\n",
      "84310/84310 [==============================] - 2s 29us/step - loss: 0.0017 - acc: 0.9995\n",
      "Epoch 36/150\n",
      "84310/84310 [==============================] - 2s 29us/step - loss: 0.0016 - acc: 0.9994\n",
      "Epoch 37/150\n",
      "84310/84310 [==============================] - 2s 29us/step - loss: 0.0016 - acc: 0.9995\n",
      "Epoch 38/150\n",
      "84310/84310 [==============================] - 2s 29us/step - loss: 0.0017 - acc: 0.9994\n",
      "Epoch 39/150\n",
      "84310/84310 [==============================] - 2s 28us/step - loss: 0.0017 - acc: 0.9994\n",
      "Epoch 40/150\n",
      "84310/84310 [==============================] - 3s 33us/step - loss: 0.0016 - acc: 0.9994\n",
      "Epoch 41/150\n",
      "84310/84310 [==============================] - 2s 29us/step - loss: 0.0018 - acc: 0.9994\n",
      "Epoch 42/150\n",
      "84310/84310 [==============================] - 3s 30us/step - loss: 0.0015 - acc: 0.9995\n",
      "Epoch 43/150\n",
      "84310/84310 [==============================] - 2s 29us/step - loss: 0.0016 - acc: 0.9995\n",
      "Epoch 44/150\n",
      "84310/84310 [==============================] - 2s 29us/step - loss: 0.0016 - acc: 0.9995\n",
      "Epoch 45/150\n",
      "84310/84310 [==============================] - 4s 44us/step - loss: 0.0016 - acc: 0.9994\n",
      "Epoch 46/150\n",
      "84310/84310 [==============================] - 3s 38us/step - loss: 0.0015 - acc: 0.9994\n",
      "Epoch 47/150\n",
      "84310/84310 [==============================] - 4s 43us/step - loss: 0.0015 - acc: 0.9995\n",
      "Epoch 48/150\n",
      "84310/84310 [==============================] - 5s 61us/step - loss: 0.0014 - acc: 0.9995\n",
      "Epoch 49/150\n",
      "84310/84310 [==============================] - 5s 60us/step - loss: 0.0017 - acc: 0.9994\n",
      "Epoch 50/150\n",
      "84310/84310 [==============================] - 5s 65us/step - loss: 0.0015 - acc: 0.9995\n",
      "Epoch 51/150\n",
      "84310/84310 [==============================] - 6s 73us/step - loss: 0.0015 - acc: 0.9995\n",
      "Epoch 52/150\n",
      "84310/84310 [==============================] - 6s 76us/step - loss: 0.0014 - acc: 0.9995\n",
      "Epoch 53/150\n",
      "84310/84310 [==============================] - 5s 60us/step - loss: 0.0015 - acc: 0.9995\n",
      "Epoch 54/150\n",
      "84310/84310 [==============================] - 5s 64us/step - loss: 0.0015 - acc: 0.9995\n",
      "Epoch 55/150\n",
      "84310/84310 [==============================] - 5s 61us/step - loss: 0.0015 - acc: 0.9995\n",
      "Epoch 56/150\n",
      "84310/84310 [==============================] - 5s 61us/step - loss: 0.0016 - acc: 0.9994\n",
      "Epoch 57/150\n",
      "84310/84310 [==============================] - 7s 77us/step - loss: 0.0014 - acc: 0.9995\n",
      "Epoch 58/150\n",
      "84310/84310 [==============================] - 6s 75us/step - loss: 0.0014 - acc: 0.9995\n",
      "Epoch 59/150\n",
      "84310/84310 [==============================] - 4s 49us/step - loss: 0.0014 - acc: 0.9995\n",
      "Epoch 60/150\n",
      "84310/84310 [==============================] - 5s 58us/step - loss: 0.0015 - acc: 0.9995\n",
      "Epoch 61/150\n",
      "84310/84310 [==============================] - 4s 50us/step - loss: 0.0014 - acc: 0.9996\n",
      "Epoch 62/150\n",
      "84310/84310 [==============================] - 4s 48us/step - loss: 0.0014 - acc: 0.9994\n",
      "Epoch 63/150\n",
      "84310/84310 [==============================] - 4s 50us/step - loss: 0.0014 - acc: 0.9995\n",
      "Epoch 64/150\n",
      "84310/84310 [==============================] - 4s 47us/step - loss: 0.0015 - acc: 0.9994\n",
      "Epoch 65/150\n",
      "84310/84310 [==============================] - 5s 54us/step - loss: 0.0014 - acc: 0.9995\n",
      "Epoch 66/150\n",
      "84310/84310 [==============================] - 4s 51us/step - loss: 0.0015 - acc: 0.9994\n",
      "Epoch 67/150\n",
      "84310/84310 [==============================] - 6s 67us/step - loss: 0.0014 - acc: 0.9995\n",
      "Epoch 68/150\n",
      "84310/84310 [==============================] - 6s 66us/step - loss: 0.0014 - acc: 0.9996\n",
      "Epoch 69/150\n",
      "84310/84310 [==============================] - 5s 56us/step - loss: 0.0014 - acc: 0.9995\n",
      "Epoch 70/150\n",
      "84310/84310 [==============================] - 4s 48us/step - loss: 0.0014 - acc: 0.9996\n",
      "Epoch 71/150\n",
      "84310/84310 [==============================] - 4s 50us/step - loss: 0.0013 - acc: 0.9996\n",
      "Epoch 72/150\n",
      "84310/84310 [==============================] - 5s 61us/step - loss: 0.0013 - acc: 0.9995\n",
      "Epoch 73/150\n",
      "84310/84310 [==============================] - 5s 64us/step - loss: 0.0012 - acc: 0.9995\n",
      "Epoch 74/150\n",
      "84310/84310 [==============================] - 4s 50us/step - loss: 0.0015 - acc: 0.9995\n",
      "Epoch 75/150\n",
      "84310/84310 [==============================] - 4s 53us/step - loss: 0.0013 - acc: 0.9995\n",
      "Epoch 76/150\n",
      "84310/84310 [==============================] - 4s 50us/step - loss: 0.0014 - acc: 0.9995\n",
      "Epoch 77/150\n",
      "84310/84310 [==============================] - 4s 52us/step - loss: 0.0014 - acc: 0.9996\n",
      "Epoch 78/150\n",
      "84310/84310 [==============================] - 4s 53us/step - loss: 0.0014 - acc: 0.9995\n",
      "Epoch 79/150\n",
      "84310/84310 [==============================] - 5s 59us/step - loss: 0.0013 - acc: 0.9996\n",
      "Epoch 80/150\n",
      "84310/84310 [==============================] - 7s 79us/step - loss: 0.0014 - acc: 0.9995\n",
      "Epoch 81/150\n",
      "84310/84310 [==============================] - 6s 77us/step - loss: 0.0012 - acc: 0.9995\n",
      "Epoch 82/150\n",
      "84310/84310 [==============================] - 6s 71us/step - loss: 0.0014 - acc: 0.9995\n",
      "Epoch 83/150\n",
      "84310/84310 [==============================] - 6s 74us/step - loss: 0.0013 - acc: 0.9995\n",
      "Epoch 84/150\n",
      "84310/84310 [==============================] - 6s 75us/step - loss: 0.0014 - acc: 0.9995\n",
      "Epoch 85/150\n",
      "84310/84310 [==============================] - 5s 62us/step - loss: 0.0013 - acc: 0.9996\n",
      "Epoch 86/150\n",
      "84310/84310 [==============================] - 5s 65us/step - loss: 0.0013 - acc: 0.9996\n",
      "Epoch 87/150\n",
      "84310/84310 [==============================] - 5s 65us/step - loss: 0.0014 - acc: 0.9994\n",
      "Epoch 88/150\n",
      "84310/84310 [==============================] - 6s 66us/step - loss: 0.0014 - acc: 0.9995\n",
      "Epoch 89/150\n",
      "84310/84310 [==============================] - 5s 64us/step - loss: 0.0012 - acc: 0.9997\n",
      "Epoch 90/150\n",
      "84310/84310 [==============================] - 5s 64us/step - loss: 0.0014 - acc: 0.9996\n",
      "Epoch 91/150\n",
      "84310/84310 [==============================] - 5s 64us/step - loss: 0.0012 - acc: 0.9996\n",
      "Epoch 92/150\n",
      "84310/84310 [==============================] - 5s 65us/step - loss: 0.0015 - acc: 0.9995\n",
      "Epoch 93/150\n",
      "84310/84310 [==============================] - 6s 65us/step - loss: 0.0012 - acc: 0.9995\n",
      "Epoch 94/150\n",
      "84310/84310 [==============================] - 5s 65us/step - loss: 0.0013 - acc: 0.9995\n",
      "Epoch 95/150\n",
      "84310/84310 [==============================] - 5s 65us/step - loss: 0.0013 - acc: 0.9995\n",
      "Epoch 96/150\n",
      "84310/84310 [==============================] - 5s 64us/step - loss: 0.0013 - acc: 0.9995\n",
      "Epoch 97/150\n",
      "84310/84310 [==============================] - 6s 66us/step - loss: 0.0013 - acc: 0.9995\n",
      "Epoch 98/150\n",
      "84310/84310 [==============================] - 5s 65us/step - loss: 0.0013 - acc: 0.9995\n",
      "Epoch 99/150\n",
      "84310/84310 [==============================] - 5s 64us/step - loss: 0.0014 - acc: 0.9995\n",
      "Epoch 100/150\n",
      "84310/84310 [==============================] - 6s 68us/step - loss: 0.0013 - acc: 0.9995\n",
      "Epoch 101/150\n",
      "84310/84310 [==============================] - 6s 70us/step - loss: 0.0013 - acc: 0.9995\n",
      "Epoch 102/150\n",
      "84310/84310 [==============================] - 6s 68us/step - loss: 0.0012 - acc: 0.9995\n",
      "Epoch 103/150\n",
      "84310/84310 [==============================] - 6s 71us/step - loss: 0.0013 - acc: 0.9995\n",
      "Epoch 104/150\n",
      "84310/84310 [==============================] - 6s 73us/step - loss: 0.0014 - acc: 0.9995\n",
      "Epoch 105/150\n",
      "84310/84310 [==============================] - 6s 72us/step - loss: 0.0012 - acc: 0.9995\n",
      "Epoch 106/150\n",
      "84310/84310 [==============================] - 6s 67us/step - loss: 0.0013 - acc: 0.9995\n",
      "Epoch 107/150\n",
      "84310/84310 [==============================] - 6s 69us/step - loss: 0.0012 - acc: 0.9995\n",
      "Epoch 108/150\n",
      "84310/84310 [==============================] - 6s 68us/step - loss: 0.0014 - acc: 0.9995\n",
      "Epoch 109/150\n",
      "84310/84310 [==============================] - 6s 69us/step - loss: 0.0012 - acc: 0.9996\n",
      "Epoch 110/150\n",
      "84310/84310 [==============================] - 6s 71us/step - loss: 0.0012 - acc: 0.9996\n",
      "Epoch 111/150\n",
      "84310/84310 [==============================] - 6s 71us/step - loss: 0.0012 - acc: 0.9995\n",
      "Epoch 112/150\n",
      "84310/84310 [==============================] - 6s 71us/step - loss: 0.0014 - acc: 0.9995\n",
      "Epoch 113/150\n",
      "84310/84310 [==============================] - 6s 69us/step - loss: 0.0013 - acc: 0.9995\n",
      "Epoch 114/150\n",
      "84310/84310 [==============================] - 6s 70us/step - loss: 0.0013 - acc: 0.9996\n",
      "Epoch 115/150\n",
      "84310/84310 [==============================] - 6s 69us/step - loss: 0.0013 - acc: 0.9996\n",
      "Epoch 116/150\n",
      "84310/84310 [==============================] - 6s 72us/step - loss: 0.0011 - acc: 0.9997\n",
      "Epoch 117/150\n",
      "84310/84310 [==============================] - 6s 69us/step - loss: 0.0013 - acc: 0.9995\n",
      "Epoch 118/150\n",
      "84310/84310 [==============================] - 6s 72us/step - loss: 0.0012 - acc: 0.9996\n",
      "Epoch 119/150\n",
      "84310/84310 [==============================] - 6s 73us/step - loss: 0.0012 - acc: 0.9996\n",
      "Epoch 120/150\n",
      "84310/84310 [==============================] - 6s 71us/step - loss: 0.0012 - acc: 0.9996\n",
      "Epoch 121/150\n",
      "84310/84310 [==============================] - 6s 70us/step - loss: 0.0012 - acc: 0.9995\n",
      "Epoch 122/150\n",
      "84310/84310 [==============================] - 6s 72us/step - loss: 0.0012 - acc: 0.9996\n",
      "Epoch 123/150\n",
      "84310/84310 [==============================] - 6s 71us/step - loss: 0.0013 - acc: 0.9995\n",
      "Epoch 124/150\n",
      "84310/84310 [==============================] - 6s 74us/step - loss: 0.0013 - acc: 0.9996\n",
      "Epoch 125/150\n",
      "84310/84310 [==============================] - 6s 76us/step - loss: 0.0013 - acc: 0.9996\n",
      "Epoch 126/150\n",
      "84310/84310 [==============================] - 6s 72us/step - loss: 0.0011 - acc: 0.9997\n",
      "Epoch 127/150\n",
      "84310/84310 [==============================] - 6s 72us/step - loss: 0.0012 - acc: 0.9995\n",
      "Epoch 128/150\n",
      "84310/84310 [==============================] - 5s 65us/step - loss: 0.0012 - acc: 0.9996\n",
      "Epoch 129/150\n",
      "84310/84310 [==============================] - 5s 58us/step - loss: 0.0013 - acc: 0.9995\n",
      "Epoch 130/150\n",
      "84310/84310 [==============================] - 5s 58us/step - loss: 0.0011 - acc: 0.9997\n",
      "Epoch 131/150\n",
      "84310/84310 [==============================] - 5s 58us/step - loss: 0.0013 - acc: 0.9995\n",
      "Epoch 132/150\n",
      "84310/84310 [==============================] - 5s 58us/step - loss: 0.0011 - acc: 0.9997\n",
      "Epoch 133/150\n",
      "84310/84310 [==============================] - 5s 58us/step - loss: 0.0011 - acc: 0.9996\n",
      "Epoch 134/150\n",
      "84310/84310 [==============================] - 5s 58us/step - loss: 0.0014 - acc: 0.9996\n",
      "Epoch 135/150\n",
      "84310/84310 [==============================] - 5s 59us/step - loss: 0.0011 - acc: 0.9996\n",
      "Epoch 136/150\n",
      "84310/84310 [==============================] - 5s 58us/step - loss: 0.0014 - acc: 0.9995\n",
      "Epoch 137/150\n",
      "84310/84310 [==============================] - 5s 59us/step - loss: 0.0013 - acc: 0.9996\n",
      "Epoch 138/150\n",
      "84310/84310 [==============================] - 5s 60us/step - loss: 0.0012 - acc: 0.9995\n",
      "Epoch 139/150\n",
      "84310/84310 [==============================] - 5s 59us/step - loss: 0.0012 - acc: 0.9996\n",
      "Epoch 140/150\n",
      "84310/84310 [==============================] - 5s 58us/step - loss: 0.0013 - acc: 0.9996\n",
      "Epoch 141/150\n",
      "84310/84310 [==============================] - 5s 58us/step - loss: 0.0011 - acc: 0.9997\n",
      "Epoch 142/150\n",
      "84310/84310 [==============================] - 5s 60us/step - loss: 0.0013 - acc: 0.9994\n",
      "Epoch 143/150\n",
      "84310/84310 [==============================] - 6s 74us/step - loss: 0.0011 - acc: 0.9996\n",
      "Epoch 144/150\n",
      "84310/84310 [==============================] - 7s 82us/step - loss: 0.0012 - acc: 0.9996\n",
      "Epoch 145/150\n",
      "84310/84310 [==============================] - 6s 76us/step - loss: 0.0012 - acc: 0.9996\n",
      "Epoch 146/150\n",
      "84310/84310 [==============================] - 7s 82us/step - loss: 0.0010 - acc: 0.9997\n",
      "Epoch 147/150\n",
      "84310/84310 [==============================] - 6s 70us/step - loss: 0.0012 - acc: 0.9995\n",
      "Epoch 148/150\n",
      "84310/84310 [==============================] - 6s 73us/step - loss: 0.0013 - acc: 0.9996\n",
      "Epoch 149/150\n",
      "84310/84310 [==============================] - 6s 71us/step - loss: 0.0014 - acc: 0.9996\n",
      "Epoch 150/150\n",
      "84310/84310 [==============================] - 6s 70us/step - loss: 0.0011 - acc: 0.9996\n"
     ]
    }
   ],
   "source": [
    "# Fit the model\n",
    "history=model.fit(X_tl, y_tl, epochs=150, batch_size=35, class_weight='auto')"
   ]
  },
  {
   "cell_type": "code",
   "execution_count": 16,
   "metadata": {},
   "outputs": [
    {
     "data": {
      "image/png": "[encoded data removed]",
      "text/plain": [
       "<Figure size 720x720 with 1 Axes>"
      ]
     },
     "metadata": {
      "needs_background": "light"
     },
     "output_type": "display_data"
    }
   ],
   "source": [
    "# summarize history for accuracy\n",
    "plt.figure(figsize=(10,10))\n",
    "plt.plot(history.history['acc'])\n",
    "#plt.plot(history.history['val_acc'])\n",
    "plt.title('model accuracy')\n",
    "plt.ylabel('accuracy')\n",
    "plt.xlabel('epoch')\n",
    "plt.legend(['train'], loc='lower right')\n",
    "plt.show()"
   ]
  },
  {
   "cell_type": "code",
   "execution_count": 17,
   "metadata": {},
   "outputs": [
    {
     "data": {
      "image/png": "[encoded data removed]",
      "text/plain": [
       "<Figure size 720x720 with 1 Axes>"
      ]
     },
     "metadata": {
      "needs_background": "light"
     },
     "output_type": "display_data"
    }
   ],
   "source": [
    "# summarize history for loss\n",
    "plt.figure(figsize=(10,10))\n",
    "plt.plot(history.history['loss'])\n",
    "#plt.plot(history.history['val_loss'])\n",
    "plt.title('model loss')\n",
    "plt.ylabel('loss')\n",
    "plt.xlabel('epoch')\n",
    "plt.legend(['train'], loc='upper right')\n",
    "plt.show()"
   ]
  },
  {
   "cell_type": "code",
   "execution_count": 18,
   "metadata": {},
   "outputs": [],
   "source": [
    "# show the inputs and predicted outputs\n",
    "#predictions for test dataset\n",
    "predictions = model.predict_classes(Z5)\n",
    "#for i in range(len(Z)):\n",
    " #   print(\"X=%s, Predicted=%s\" % (Z[i].astype(int), predictions[i]))"
   ]
  },
  {
   "cell_type": "code",
   "execution_count": 19,
   "metadata": {},
   "outputs": [
    {
     "name": "stdout",
     "output_type": "stream",
     "text": [
      "[[    0 11443]\n",
      " [    1   412]]\n"
     ]
    }
   ],
   "source": [
    "unique, counts = np.unique(predictions, return_counts=True)\n",
    "\n",
    "print (np.asarray((unique, counts)).T)"
   ]
  },
  {
   "cell_type": "code",
   "execution_count": 37,
   "metadata": {},
   "outputs": [
    {
     "data": {
      "image/png": "[encoded data removed]",
      "text/plain": [
       "<Figure size 432x288 with 1 Axes>"
      ]
     },
     "metadata": {
      "needs_background": "light"
     },
     "output_type": "display_data"
    }
   ],
   "source": [
    "# Create bar chart comparison for expected vs actual incompletion in week 2\n",
    "actual=11528\n",
    "predicted=(predictions.shape[0]-np.count_nonzero(predictions))\n",
    "\n",
    "fig, ax = plt.subplots()\n",
    "low = min(actual,predicted)\n",
    "high = max(actual,predicted)\n",
    "plt.ylim([math.ceil(low-0.5*(high-low)), math.ceil(high+0.5*(high-low))])\n",
    "\n",
    "ind = np.arange(1)    # the x locations for the groups\n",
    "width = 0.15         # the width of the bars\n",
    "p1 = ax.bar(ind, actual, width, color='r')\n",
    "p2 = ax.bar(ind + width, predicted, width,color='y')\n",
    "\n",
    "ax.set_title('Comparison between number of dropouts in Week 5')\n",
    "ax.set_xticks(ind + width / 2)\n",
    "ax.set_xticklabels(('Week 2'))\n",
    "\n",
    "ax.legend((p1[0], p2[0]), ('Actual dropout', 'Predicted Dropout'))\n",
    "ax.autoscale_view()\n",
    "\n",
    "plt.show()\n"
   ]
  },
  {
   "cell_type": "code",
   "execution_count": 39,
   "metadata": {},
   "outputs": [],
   "source": [
    "ls=[]\n",
    "ls.append(predicted)\n",
    "dfpred = pd.DataFrame({'Dropout count':ls})\n",
    "\n",
    "dfpred1=read_csv(\"Dropout values.csv\")\n",
    "\n",
    "dfpred1=pd.concat([dfpred1,dfpred])\n",
    "\n",
    "dfpred1=dfpred1.drop(columns='Unnamed: 0')\n",
    "\n",
    "dfpred1.to_csv(\"Dropout values.csv\")"
   ]
  },
  {
   "cell_type": "code",
   "execution_count": 28,
   "metadata": {},
   "outputs": [],
   "source": [
    "probability = (model.predict_proba(Z5))\n",
    "#for i in range(len(Z)):\n",
    " #   print(\"X=%s, Predicted=%s\" % (Z[i].astype(int), probability[i]))"
   ]
  },
  {
   "cell_type": "code",
   "execution_count": 29,
   "metadata": {},
   "outputs": [
    {
     "name": "stdout",
     "output_type": "stream",
     "text": [
      "11855/11855 [==============================] - 0s 27us/step\n",
      "\n",
      "loss: 11.20%\n",
      "\n",
      "acc: 98.54%\n"
     ]
    }
   ],
   "source": [
    "# Evaluate the model\n",
    "scores = model.evaluate(Z5, yy)\n",
    "#print(history.history.keys())\n",
    "print(\"\\n%s: %.2f%%\" % (model.metrics_names[0], scores[0]*100))\n",
    "print(\"\\n%s: %.2f%%\" % (model.metrics_names[1], scores[1]*100))"
   ]
  },
  {
   "cell_type": "code",
   "execution_count": 30,
   "metadata": {},
   "outputs": [
    {
     "name": "stdout",
     "output_type": "stream",
     "text": [
      "Number of mislabeled points out of a total 11855 points : 173 \n",
      "\n",
      "\n"
     ]
    }
   ],
   "source": [
    "print(\"Number of mislabeled points out of a total %d points : %d \\n\\n\" % (Z5.shape[0],(yy != predictions).sum()))"
   ]
  },
  {
   "cell_type": "code",
   "execution_count": 31,
   "metadata": {},
   "outputs": [],
   "source": [
    "#pre_cls=model.predict_classes(X)    \n",
    "\n",
    "def plot_confusion_matrix(cm, classes,\n",
    "                          normalize=False,\n",
    "                          title='Confusion matrix',\n",
    "                          cmap=plt.cm.Greens):\n",
    "    if normalize:\n",
    "        cm = cm.astype('float') / cm.sum(axis=1)[:, np.newaxis]\n",
    "        print(\"Normalized confusion matrix\")\n",
    "    else:\n",
    "        print('Confusion matrix, without normalization')\n",
    "\n",
    "    print(cm)\n",
    "\n",
    "    plt.imshow(cm, interpolation='nearest', cmap=cmap)\n",
    "    plt.title(title)\n",
    "    plt.colorbar()\n",
    "    tick_marks = np.arange(len(classes))\n",
    "    plt.xticks(tick_marks, classes, rotation=90)\n",
    "    plt.yticks(tick_marks, classes)\n",
    "\n",
    "    fmt = '.2f' if normalize else 'd'\n",
    "    thresh = cm.max() / 2.\n",
    "    for i, j in itertools.product(range(cm.shape[0]), range(cm.shape[1])):\n",
    "        plt.text(j, i, format(cm[i, j], fmt),\n",
    "                 horizontalalignment=\"center\",\n",
    "                 color=\"white\" if cm[i, j] > thresh else \"black\")\n",
    "    plt.tight_layout()\n",
    "    plt.ylabel('True label')\n",
    "    plt.xlabel('Predicted label')"
   ]
  },
  {
   "cell_type": "code",
   "execution_count": 32,
   "metadata": {},
   "outputs": [
    {
     "name": "stdout",
     "output_type": "stream",
     "text": [
      "              precision    recall  f1-score   support\n",
      "\n",
      "           0       1.00      0.99      0.99     11528\n",
      "           1       0.69      0.87      0.77       327\n",
      "\n",
      "   micro avg       0.99      0.99      0.99     11855\n",
      "   macro avg       0.84      0.93      0.88     11855\n",
      "weighted avg       0.99      0.99      0.99     11855\n",
      "\n",
      "Recall score:  0.8654434250764526\n",
      "Precision score:  0.9876243981697241\n"
     ]
    }
   ],
   "source": [
    "print(classification_report(yy,predictions))\n",
    "print(\"Recall score: \", recall_score(yy,predictions))\n",
    "print(\"Precision score: \", precision_score(yy,predictions,average='weighted'))"
   ]
  },
  {
   "cell_type": "code",
   "execution_count": 33,
   "metadata": {},
   "outputs": [
    {
     "name": "stdout",
     "output_type": "stream",
     "text": [
      "Confusion matrix, without normalization\n",
      "[[11399   129]\n",
      " [   44   283]]\n"
     ]
    },
    {
     "data": {
      "image/png": "[encoded data removed]",
      "text/plain": [
       "<Figure size 432x288 with 2 Axes>"
      ]
     },
     "metadata": {
      "needs_background": "light"
     },
     "output_type": "display_data"
    }
   ],
   "source": [
    "cnf_matrix=confusion_matrix(yy,predictions)\n",
    "\n",
    "plot_confusion_matrix(cnf_matrix, classes=all_classes, title='Confusion matrix without normalization\\n')"
   ]
  },
  {
   "cell_type": "code",
   "execution_count": 34,
   "metadata": {},
   "outputs": [],
   "source": [
    "dftemp1=read_csv(\"Probability values.csv\")\n",
    "\n",
    "dftemp2 = pd.DataFrame({'Probability Week 5':probability[:,0]})\n",
    "\n",
    "dftemp1=pd.concat([dftemp1,dftemp2],axis=1)\n",
    "\n",
    "dftemp1.to_csv(\"Probability values.csv\")"
   ]
  },
  {
   "cell_type": "code",
   "execution_count": 38,
   "metadata": {},
   "outputs": [],
   "source": [
    "dftemp2.to_csv(\"Prob week5.csv\")"
   ]
  },
  {
   "cell_type": "code",
   "execution_count": null,
   "metadata": {},
   "outputs": [],
   "source": []
  }
 ],
 "metadata": {
  "kernelspec": {
   "display_name": "python3.6",
   "language": "python",
   "name": "python3.6"
  },
  "language_info": {
   "codemirror_mode": {
    "name": "ipython",
    "version": 3
   },
   "file_extension": ".py",
   "mimetype": "text/x-python",
   "name": "python",
   "nbconvert_exporter": "python",
   "pygments_lexer": "ipython3",
   "version": "3.6.8"
  }
 },
 "nbformat": 4,
 "nbformat_minor": 2
}
