{
 "cells": [
  {
   "cell_type": "code",
   "execution_count": 1,
   "metadata": {},
   "outputs": [
    {
     "name": "stderr",
     "output_type": "stream",
     "text": [
      "Using TensorFlow backend.\n"
     ]
    }
   ],
   "source": [
    "import numpy as np\n",
    "import pandas as pd\n",
    "import itertools\n",
    "import matplotlib.pyplot as plt\n",
    "import keras\n",
    "import tensorflow as tf\n",
    "\n",
    "from sklearn import metrics\n",
    "from sklearn import svm\n",
    "from matplotlib import pyplot\n",
    "from collections import Counter\n",
    "\n",
    "from sklearn.metrics import accuracy_score\n",
    "from sklearn.metrics import classification_report, confusion_matrix  \n",
    "from sklearn.metrics import accuracy_score\n",
    "from sklearn.metrics import mean_squared_error\n",
    "from sklearn.metrics import roc_curve\n",
    "from sklearn.metrics import roc_auc_score\n",
    "from sklearn.metrics import recall_score\n",
    "from sklearn.metrics import precision_score\n",
    "from sklearn.utils import class_weight\n",
    "\n",
    "from sklearn.ensemble import RandomForestClassifier\n",
    "from sklearn.linear_model import LogisticRegression\n",
    "from sklearn.neural_network import MLPClassifier\n",
    "\n",
    "from matplotlib.pyplot import *\n",
    "from scipy import stats\n",
    "\n",
    "from keras.models import Sequential\n",
    "from keras.layers import Dense\n",
    "from keras.layers import Dropout\n",
    "from keras.callbacks import Callback\n",
    "\n",
    "from pandas import read_csv\n",
    "\n",
    "from imblearn.over_sampling import SMOTE, ADASYN\n",
    "from imblearn.over_sampling import RandomOverSampler\n",
    "\n",
    "from sklearn.model_selection import train_test_split\n",
    "from sklearn.model_selection import KFold\n",
    "from sklearn.model_selection import cross_val_score"
   ]
  },
  {
   "cell_type": "code",
   "execution_count": 27,
   "metadata": {},
   "outputs": [],
   "source": [
    "dataset = read_csv(\"Week 1.csv\", encoding=\"ISO-8859-1\")\n",
    "dataset2 = read_csv(\"Week 2.csv\", encoding=\"ISO-8859-1\")\n",
    "dataset3 = read_csv(\"Week 3.csv\", encoding=\"ISO-8859-1\")\n",
    "dataset4 = read_csv(\"Week 4.csv\", encoding=\"ISO-8859-1\")\n",
    "dataset5 = read_csv(\"Week 5.csv\", encoding=\"ISO-8859-1\")\n",
    "\n",
    "\n",
    "df=dataset[['viewed','explored','certified','grade','nevents','ndays_act','nchapters','LoE_DI','Last event date','Completed_or_not']]\n",
    "df_week2=dataset2[['viewed','explored','certified','grade','nevents','ndays_act','nchapters','LoE_DI','Last event date','Completed_or_not']]\n",
    "df_week3=dataset3[['viewed','explored','certified','grade','nevents','ndays_act','nchapters','LoE_DI','Last event date','Completed_or_not']]\n",
    "df_week4=dataset4[['viewed','explored','certified','grade','nevents','ndays_act','nchapters','LoE_DI','Last event date','Completed_or_not']]\n",
    "df_week5=dataset5[['viewed','explored','certified','grade','nevents','ndays_act','nchapters','LoE_DI','Last event date','Completed_or_not']]\n",
    "\n",
    "\n",
    "df2=read_csv(\"Testing dataset.csv\", encoding=\"ISO-8859-1\")\n",
    "df3=read_csv(\"Testing result.csv\", encoding=\"ISO-8859-1\")\n",
    "\n",
    "\n",
    "warnings.filterwarnings(\"ignore\")"
   ]
  },
  {
   "cell_type": "code",
   "execution_count": 3,
   "metadata": {},
   "outputs": [
    {
     "data": {
      "text/html": [
       "<div>\n",
       "<style scoped>\n",
       "    .dataframe tbody tr th:only-of-type {\n",
       "        vertical-align: middle;\n",
       "    }\n",
       "\n",
       "    .dataframe tbody tr th {\n",
       "        vertical-align: top;\n",
       "    }\n",
       "\n",
       "    .dataframe thead th {\n",
       "        text-align: right;\n",
       "    }\n",
       "</style>\n",
       "<table border=\"1\" class=\"dataframe\">\n",
       "  <thead>\n",
       "    <tr style=\"text-align: right;\">\n",
       "      <th></th>\n",
       "      <th>viewed</th>\n",
       "      <th>explored</th>\n",
       "      <th>certified</th>\n",
       "      <th>grade</th>\n",
       "      <th>nevents</th>\n",
       "      <th>ndays_act</th>\n",
       "      <th>nchapters</th>\n",
       "      <th>LoE_DI</th>\n",
       "      <th>Last event date</th>\n",
       "      <th>Completed_or_not</th>\n",
       "    </tr>\n",
       "  </thead>\n",
       "  <tbody>\n",
       "    <tr>\n",
       "      <th>0</th>\n",
       "      <td>0.0</td>\n",
       "      <td>0.0</td>\n",
       "      <td>0.0</td>\n",
       "      <td>0.0</td>\n",
       "      <td>6.0</td>\n",
       "      <td>3.0</td>\n",
       "      <td>0.0</td>\n",
       "      <td>0.0</td>\n",
       "      <td>1.374863e+09</td>\n",
       "      <td>0.0</td>\n",
       "    </tr>\n",
       "    <tr>\n",
       "      <th>1</th>\n",
       "      <td>1.0</td>\n",
       "      <td>0.0</td>\n",
       "      <td>0.0</td>\n",
       "      <td>0.0</td>\n",
       "      <td>107.0</td>\n",
       "      <td>8.0</td>\n",
       "      <td>2.0</td>\n",
       "      <td>4.0</td>\n",
       "      <td>1.356287e+09</td>\n",
       "      <td>0.0</td>\n",
       "    </tr>\n",
       "    <tr>\n",
       "      <th>2</th>\n",
       "      <td>1.0</td>\n",
       "      <td>0.0</td>\n",
       "      <td>0.0</td>\n",
       "      <td>0.0</td>\n",
       "      <td>8.0</td>\n",
       "      <td>1.0</td>\n",
       "      <td>1.0</td>\n",
       "      <td>0.0</td>\n",
       "      <td>1.364409e+09</td>\n",
       "      <td>0.0</td>\n",
       "    </tr>\n",
       "    <tr>\n",
       "      <th>3</th>\n",
       "      <td>1.0</td>\n",
       "      <td>0.0</td>\n",
       "      <td>0.0</td>\n",
       "      <td>0.0</td>\n",
       "      <td>25.0</td>\n",
       "      <td>2.0</td>\n",
       "      <td>4.0</td>\n",
       "      <td>4.0</td>\n",
       "      <td>1.373827e+09</td>\n",
       "      <td>0.0</td>\n",
       "    </tr>\n",
       "    <tr>\n",
       "      <th>4</th>\n",
       "      <td>0.0</td>\n",
       "      <td>0.0</td>\n",
       "      <td>0.0</td>\n",
       "      <td>0.0</td>\n",
       "      <td>3.0</td>\n",
       "      <td>2.0</td>\n",
       "      <td>0.0</td>\n",
       "      <td>3.0</td>\n",
       "      <td>1.345833e+09</td>\n",
       "      <td>0.0</td>\n",
       "    </tr>\n",
       "  </tbody>\n",
       "</table>\n",
       "</div>"
      ],
      "text/plain": [
       "   viewed  explored  certified  grade  nevents  ndays_act  nchapters  LoE_DI  \\\n",
       "0     0.0       0.0        0.0    0.0      6.0        3.0        0.0     0.0   \n",
       "1     1.0       0.0        0.0    0.0    107.0        8.0        2.0     4.0   \n",
       "2     1.0       0.0        0.0    0.0      8.0        1.0        1.0     0.0   \n",
       "3     1.0       0.0        0.0    0.0     25.0        2.0        4.0     4.0   \n",
       "4     0.0       0.0        0.0    0.0      3.0        2.0        0.0     3.0   \n",
       "\n",
       "   Last event date  Completed_or_not  \n",
       "0     1.374863e+09               0.0  \n",
       "1     1.356287e+09               0.0  \n",
       "2     1.364409e+09               0.0  \n",
       "3     1.373827e+09               0.0  \n",
       "4     1.345833e+09               0.0  "
      ]
     },
     "execution_count": 3,
     "metadata": {},
     "output_type": "execute_result"
    }
   ],
   "source": [
    "df.head()"
   ]
  },
  {
   "cell_type": "code",
   "execution_count": 4,
   "metadata": {},
   "outputs": [
    {
     "name": "stdout",
     "output_type": "stream",
     "text": [
      "0.0    56930\n",
      "1.0     2348\n",
      "Name: certified, dtype: int64\n",
      "   Unnamed: 0  viewed  explored  grade  nevents  ndays_act  nchapters  LoE_DI  \\\n",
      "0           0     0.0       0.0   0.00      0.0        0.0        0.0     0.0   \n",
      "1           1     1.0       0.0   0.01    879.0        5.0        3.0     4.0   \n",
      "2           2     1.0       0.0   0.00    547.0        8.0        2.0     0.0   \n",
      "3           3     0.0       0.0   0.00      2.0        1.0        0.0     4.0   \n",
      "4           4     1.0       0.0   0.00    655.0        6.0        3.0     3.0   \n",
      "\n",
      "   last_event_DI  certified  \n",
      "0   1.325356e+09        0.0  \n",
      "1   1.350499e+09        0.0  \n",
      "2   1.334083e+09        0.0  \n",
      "3   1.348598e+09        0.0  \n",
      "4   1.350067e+09        0.0  \n",
      "   0  Completed_or_not\n",
      "0  1                 0\n",
      "1  2                 0\n",
      "2  3                 0\n",
      "3  4                 0\n",
      "4  5                 0\n",
      "59278\n",
      "59278\n"
     ]
    }
   ],
   "source": [
    "print(df2['certified'].value_counts())\n",
    "\n",
    "print(df2.head())\n",
    "print(df3.head())\n",
    "print(df2.shape[0])\n",
    "print(df3.shape[0])"
   ]
  },
  {
   "cell_type": "code",
   "execution_count": 5,
   "metadata": {},
   "outputs": [
    {
     "name": "stdout",
     "output_type": "stream",
     "text": [
      "0.0    81400\n",
      "1.0     2134\n",
      "Name: Completed_or_not, dtype: int64\n"
     ]
    }
   ],
   "source": [
    "X=df.iloc[:,[0,1,2,3,4,5,6,7,8]]\n",
    "y=df.iloc[:,[9]]\n",
    "print(y['Completed_or_not'].value_counts())"
   ]
  },
  {
   "cell_type": "code",
   "execution_count": 6,
   "metadata": {},
   "outputs": [
    {
     "name": "stdout",
     "output_type": "stream",
     "text": [
      "0    57538\n",
      "1     1740\n",
      "Name: Completed_or_not, dtype: int64\n"
     ]
    }
   ],
   "source": [
    "Z=df2.iloc[:,[1,2,9,3,4,5,6,7,8]]\n",
    "yy=df3.iloc[:,[1]]\n",
    "print(yy['Completed_or_not'].value_counts())\n",
    "#yy.shape[0]"
   ]
  },
  {
   "cell_type": "code",
   "execution_count": 7,
   "metadata": {},
   "outputs": [
    {
     "data": {
      "text/html": [
       "<div>\n",
       "<style scoped>\n",
       "    .dataframe tbody tr th:only-of-type {\n",
       "        vertical-align: middle;\n",
       "    }\n",
       "\n",
       "    .dataframe tbody tr th {\n",
       "        vertical-align: top;\n",
       "    }\n",
       "\n",
       "    .dataframe thead th {\n",
       "        text-align: right;\n",
       "    }\n",
       "</style>\n",
       "<table border=\"1\" class=\"dataframe\">\n",
       "  <thead>\n",
       "    <tr style=\"text-align: right;\">\n",
       "      <th></th>\n",
       "      <th>viewed</th>\n",
       "      <th>explored</th>\n",
       "      <th>certified</th>\n",
       "      <th>grade</th>\n",
       "      <th>nevents</th>\n",
       "      <th>ndays_act</th>\n",
       "      <th>nchapters</th>\n",
       "      <th>LoE_DI</th>\n",
       "      <th>last_event_DI</th>\n",
       "    </tr>\n",
       "  </thead>\n",
       "  <tbody>\n",
       "    <tr>\n",
       "      <th>0</th>\n",
       "      <td>0.0</td>\n",
       "      <td>0.0</td>\n",
       "      <td>0.0</td>\n",
       "      <td>0.00</td>\n",
       "      <td>0.0</td>\n",
       "      <td>0.0</td>\n",
       "      <td>0.0</td>\n",
       "      <td>0.0</td>\n",
       "      <td>1.325356e+09</td>\n",
       "    </tr>\n",
       "    <tr>\n",
       "      <th>1</th>\n",
       "      <td>1.0</td>\n",
       "      <td>0.0</td>\n",
       "      <td>0.0</td>\n",
       "      <td>0.01</td>\n",
       "      <td>879.0</td>\n",
       "      <td>5.0</td>\n",
       "      <td>3.0</td>\n",
       "      <td>4.0</td>\n",
       "      <td>1.350499e+09</td>\n",
       "    </tr>\n",
       "    <tr>\n",
       "      <th>2</th>\n",
       "      <td>1.0</td>\n",
       "      <td>0.0</td>\n",
       "      <td>0.0</td>\n",
       "      <td>0.00</td>\n",
       "      <td>547.0</td>\n",
       "      <td>8.0</td>\n",
       "      <td>2.0</td>\n",
       "      <td>0.0</td>\n",
       "      <td>1.334083e+09</td>\n",
       "    </tr>\n",
       "    <tr>\n",
       "      <th>3</th>\n",
       "      <td>0.0</td>\n",
       "      <td>0.0</td>\n",
       "      <td>0.0</td>\n",
       "      <td>0.00</td>\n",
       "      <td>2.0</td>\n",
       "      <td>1.0</td>\n",
       "      <td>0.0</td>\n",
       "      <td>4.0</td>\n",
       "      <td>1.348598e+09</td>\n",
       "    </tr>\n",
       "    <tr>\n",
       "      <th>4</th>\n",
       "      <td>1.0</td>\n",
       "      <td>0.0</td>\n",
       "      <td>0.0</td>\n",
       "      <td>0.00</td>\n",
       "      <td>655.0</td>\n",
       "      <td>6.0</td>\n",
       "      <td>3.0</td>\n",
       "      <td>3.0</td>\n",
       "      <td>1.350067e+09</td>\n",
       "    </tr>\n",
       "  </tbody>\n",
       "</table>\n",
       "</div>"
      ],
      "text/plain": [
       "   viewed  explored  certified  grade  nevents  ndays_act  nchapters  LoE_DI  \\\n",
       "0     0.0       0.0        0.0   0.00      0.0        0.0        0.0     0.0   \n",
       "1     1.0       0.0        0.0   0.01    879.0        5.0        3.0     4.0   \n",
       "2     1.0       0.0        0.0   0.00    547.0        8.0        2.0     0.0   \n",
       "3     0.0       0.0        0.0   0.00      2.0        1.0        0.0     4.0   \n",
       "4     1.0       0.0        0.0   0.00    655.0        6.0        3.0     3.0   \n",
       "\n",
       "   last_event_DI  \n",
       "0   1.325356e+09  \n",
       "1   1.350499e+09  \n",
       "2   1.334083e+09  \n",
       "3   1.348598e+09  \n",
       "4   1.350067e+09  "
      ]
     },
     "execution_count": 7,
     "metadata": {},
     "output_type": "execute_result"
    }
   ],
   "source": [
    "Z.head()"
   ]
  },
  {
   "cell_type": "code",
   "execution_count": 8,
   "metadata": {},
   "outputs": [
    {
     "data": {
      "text/html": [
       "<div>\n",
       "<style scoped>\n",
       "    .dataframe tbody tr th:only-of-type {\n",
       "        vertical-align: middle;\n",
       "    }\n",
       "\n",
       "    .dataframe tbody tr th {\n",
       "        vertical-align: top;\n",
       "    }\n",
       "\n",
       "    .dataframe thead th {\n",
       "        text-align: right;\n",
       "    }\n",
       "</style>\n",
       "<table border=\"1\" class=\"dataframe\">\n",
       "  <thead>\n",
       "    <tr style=\"text-align: right;\">\n",
       "      <th></th>\n",
       "      <th>Completed_or_not</th>\n",
       "    </tr>\n",
       "  </thead>\n",
       "  <tbody>\n",
       "    <tr>\n",
       "      <th>0</th>\n",
       "      <td>0</td>\n",
       "    </tr>\n",
       "    <tr>\n",
       "      <th>1</th>\n",
       "      <td>0</td>\n",
       "    </tr>\n",
       "    <tr>\n",
       "      <th>2</th>\n",
       "      <td>0</td>\n",
       "    </tr>\n",
       "    <tr>\n",
       "      <th>3</th>\n",
       "      <td>0</td>\n",
       "    </tr>\n",
       "    <tr>\n",
       "      <th>4</th>\n",
       "      <td>0</td>\n",
       "    </tr>\n",
       "  </tbody>\n",
       "</table>\n",
       "</div>"
      ],
      "text/plain": [
       "   Completed_or_not\n",
       "0                 0\n",
       "1                 0\n",
       "2                 0\n",
       "3                 0\n",
       "4                 0"
      ]
     },
     "execution_count": 8,
     "metadata": {},
     "output_type": "execute_result"
    }
   ],
   "source": [
    "yy.head()"
   ]
  },
  {
   "cell_type": "code",
   "execution_count": 9,
   "metadata": {},
   "outputs": [
    {
     "name": "stdout",
     "output_type": "stream",
     "text": [
      "<class 'pandas.core.frame.DataFrame'>\n",
      "<class 'pandas.core.frame.DataFrame'>\n",
      "<class 'pandas.core.frame.DataFrame'>\n",
      "<class 'pandas.core.frame.DataFrame'>\n"
     ]
    }
   ],
   "source": [
    "print(type(X))\n",
    "print(type(y))\n",
    "print(type(Z))\n",
    "print(type(yy))"
   ]
  },
  {
   "cell_type": "code",
   "execution_count": 10,
   "metadata": {},
   "outputs": [
    {
     "name": "stdout",
     "output_type": "stream",
     "text": [
      "<class 'numpy.ndarray'>\n"
     ]
    }
   ],
   "source": [
    "X=X.values\n",
    "#y=y.values\n",
    "print(type(X))\n",
    "Z=Z.values\n",
    "all_classes=['Not Completed','Completed']"
   ]
  },
  {
   "cell_type": "code",
   "execution_count": 11,
   "metadata": {},
   "outputs": [],
   "source": [
    "#Performing Z-Score Normalization\n",
    "\n",
    "X=stats.zscore(X)\n",
    "Z=stats.zscore(Z)"
   ]
  },
  {
   "cell_type": "code",
   "execution_count": 12,
   "metadata": {},
   "outputs": [],
   "source": [
    "model = Sequential()\n",
    "#First layer has  12 neurons with 9 input neurons from input layer\n",
    "\n",
    "#Adding dropout between the input layer and the first hidden layer\n",
    "model.add(Dense(12, input_dim=9, activation='softmax'))\n",
    "model.add(Dense(10, activation='relu'))\n",
    "#model.add(Dense(8, activation='softmax'))\n",
    "model.add(Dense(6, activation='tanh'))\n",
    "model.add(Dense(4, activation='softmax'))\n",
    "model.add(Dense(1, activation='sigmoid'))\n",
    "#model.add(Dropout(0.2))"
   ]
  },
  {
   "cell_type": "code",
   "execution_count": 13,
   "metadata": {},
   "outputs": [],
   "source": [
    "#We will use logarithmic loss, which for a binary classification problem is defined as “binary_crossentropy“.\n",
    "model.compile(loss='binary_crossentropy', optimizer='adam', metrics=['accuracy'])"
   ]
  },
  {
   "cell_type": "code",
   "execution_count": 14,
   "metadata": {},
   "outputs": [
    {
     "name": "stdout",
     "output_type": "stream",
     "text": [
      "Train on 62650 samples, validate on 20884 samples\n",
      "Epoch 1/150\n",
      "62650/62650 [==============================] - 4s 58us/step - loss: 0.2216 - acc: 0.9498 - val_loss: 0.0645 - val_acc: 0.9977\n",
      "Epoch 2/150\n",
      "62650/62650 [==============================] - 3s 41us/step - loss: 0.0559 - acc: 0.9956 - val_loss: 0.0220 - val_acc: 0.9996\n",
      "Epoch 3/150\n",
      "62650/62650 [==============================] - 3s 44us/step - loss: 0.0254 - acc: 0.9990 - val_loss: 0.0101 - val_acc: 0.9997\n",
      "Epoch 4/150\n",
      "62650/62650 [==============================] - 3s 40us/step - loss: 0.0131 - acc: 0.9992 - val_loss: 0.0057 - val_acc: 0.9994\n",
      "Epoch 5/150\n",
      "62650/62650 [==============================] - 3s 43us/step - loss: 0.0076 - acc: 0.9992 - val_loss: 0.0038 - val_acc: 0.9995\n",
      "Epoch 6/150\n",
      "62650/62650 [==============================] - 3s 47us/step - loss: 0.0051 - acc: 0.9992 - val_loss: 0.0024 - val_acc: 0.9996\n",
      "Epoch 7/150\n",
      "62650/62650 [==============================] - 3s 45us/step - loss: 0.0035 - acc: 0.9993 - val_loss: 0.0023 - val_acc: 0.9996\n",
      "Epoch 8/150\n",
      "62650/62650 [==============================] - 3s 46us/step - loss: 0.0036 - acc: 0.9991 - val_loss: 0.0015 - val_acc: 0.9997\n",
      "Epoch 9/150\n",
      "62650/62650 [==============================] - 2s 39us/step - loss: 0.0027 - acc: 0.9993 - val_loss: 0.0014 - val_acc: 0.9996\n",
      "Epoch 10/150\n",
      "62650/62650 [==============================] - 2s 39us/step - loss: 0.0023 - acc: 0.9994 - val_loss: 0.0014 - val_acc: 0.9995\n",
      "Epoch 11/150\n",
      "62650/62650 [==============================] - 3s 40us/step - loss: 0.0025 - acc: 0.9992 - val_loss: 0.0010 - val_acc: 0.9998\n",
      "Epoch 12/150\n",
      "62650/62650 [==============================] - 3s 40us/step - loss: 0.0020 - acc: 0.9994 - val_loss: 9.6225e-04 - val_acc: 0.9998\n",
      "Epoch 13/150\n",
      "62650/62650 [==============================] - 3s 42us/step - loss: 0.0022 - acc: 0.9994 - val_loss: 0.0011 - val_acc: 0.9996\n",
      "Epoch 14/150\n",
      "62650/62650 [==============================] - 2s 40us/step - loss: 0.0019 - acc: 0.9994 - val_loss: 8.7216e-04 - val_acc: 0.9999\n",
      "Epoch 15/150\n",
      "62650/62650 [==============================] - 2s 40us/step - loss: 0.0019 - acc: 0.9993 - val_loss: 7.9381e-04 - val_acc: 0.9999\n",
      "Epoch 16/150\n",
      "62650/62650 [==============================] - 2s 40us/step - loss: 0.0018 - acc: 0.9995 - val_loss: 7.8104e-04 - val_acc: 0.9999\n",
      "Epoch 17/150\n",
      "62650/62650 [==============================] - 3s 41us/step - loss: 0.0020 - acc: 0.9993 - val_loss: 9.7478e-04 - val_acc: 0.9997\n",
      "Epoch 18/150\n",
      "62650/62650 [==============================] - 3s 41us/step - loss: 0.0018 - acc: 0.9994 - val_loss: 8.3329e-04 - val_acc: 0.9998\n",
      "Epoch 19/150\n",
      "62650/62650 [==============================] - 3s 41us/step - loss: 0.0017 - acc: 0.9995 - val_loss: 8.5690e-04 - val_acc: 0.9998\n",
      "Epoch 20/150\n",
      "62650/62650 [==============================] - 3s 41us/step - loss: 0.0017 - acc: 0.9994 - val_loss: 0.0019 - val_acc: 0.9995\n",
      "Epoch 21/150\n",
      "62650/62650 [==============================] - 3s 41us/step - loss: 0.0015 - acc: 0.9995 - val_loss: 0.0010 - val_acc: 0.9997\n",
      "Epoch 22/150\n",
      "62650/62650 [==============================] - 3s 41us/step - loss: 0.0019 - acc: 0.9993 - val_loss: 8.9151e-04 - val_acc: 0.9998\n",
      "Epoch 23/150\n",
      "62650/62650 [==============================] - 3s 42us/step - loss: 0.0016 - acc: 0.9993 - val_loss: 7.4705e-04 - val_acc: 0.9999\n",
      "Epoch 24/150\n",
      "62650/62650 [==============================] - 3s 41us/step - loss: 0.0018 - acc: 0.9994 - val_loss: 0.0011 - val_acc: 0.9997\n",
      "Epoch 25/150\n",
      "62650/62650 [==============================] - 3s 41us/step - loss: 0.0014 - acc: 0.9995 - val_loss: 0.0015 - val_acc: 0.9996\n",
      "Epoch 26/150\n",
      "62650/62650 [==============================] - 3s 41us/step - loss: 0.0015 - acc: 0.9995 - val_loss: 9.2727e-04 - val_acc: 0.9998\n",
      "Epoch 27/150\n",
      "62650/62650 [==============================] - 3s 41us/step - loss: 0.0015 - acc: 0.9996 - val_loss: 7.9535e-04 - val_acc: 0.9998\n",
      "Epoch 28/150\n",
      "62650/62650 [==============================] - 3s 41us/step - loss: 0.0014 - acc: 0.9995 - val_loss: 0.0011 - val_acc: 0.9997\n",
      "Epoch 29/150\n",
      "62650/62650 [==============================] - 3s 42us/step - loss: 0.0014 - acc: 0.9996 - val_loss: 0.0016 - val_acc: 0.9996\n",
      "Epoch 30/150\n",
      "62650/62650 [==============================] - 3s 41us/step - loss: 0.0015 - acc: 0.9993 - val_loss: 9.6988e-04 - val_acc: 0.9997\n",
      "Epoch 31/150\n",
      "62650/62650 [==============================] - 3s 41us/step - loss: 0.0014 - acc: 0.9995 - val_loss: 8.6057e-04 - val_acc: 0.9998\n",
      "Epoch 32/150\n",
      "62650/62650 [==============================] - 3s 41us/step - loss: 0.0015 - acc: 0.9994 - val_loss: 8.4132e-04 - val_acc: 0.9998\n",
      "Epoch 33/150\n",
      "62650/62650 [==============================] - 3s 42us/step - loss: 0.0015 - acc: 0.9994 - val_loss: 0.0012 - val_acc: 0.9996\n",
      "Epoch 34/150\n",
      "62650/62650 [==============================] - 3s 42us/step - loss: 0.0014 - acc: 0.9995 - val_loss: 7.9252e-04 - val_acc: 0.9998\n",
      "Epoch 35/150\n",
      "62650/62650 [==============================] - 3s 42us/step - loss: 0.0012 - acc: 0.9995 - val_loss: 8.0741e-04 - val_acc: 0.9998\n",
      "Epoch 36/150\n",
      "62650/62650 [==============================] - 2s 38us/step - loss: 0.0015 - acc: 0.9994 - val_loss: 8.4892e-04 - val_acc: 0.9998\n",
      "Epoch 37/150\n",
      "62650/62650 [==============================] - 2s 37us/step - loss: 0.0013 - acc: 0.9996 - val_loss: 0.0014 - val_acc: 0.9996\n",
      "Epoch 38/150\n",
      "62650/62650 [==============================] - 2s 38us/step - loss: 0.0016 - acc: 0.9994 - val_loss: 8.7208e-04 - val_acc: 0.9998\n",
      "Epoch 39/150\n",
      "62650/62650 [==============================] - 2s 39us/step - loss: 0.0012 - acc: 0.9996 - val_loss: 8.8583e-04 - val_acc: 0.9998\n",
      "Epoch 40/150\n",
      "62650/62650 [==============================] - 2s 37us/step - loss: 0.0015 - acc: 0.9994 - val_loss: 0.0015 - val_acc: 0.9997\n",
      "Epoch 41/150\n",
      "62650/62650 [==============================] - 2s 37us/step - loss: 0.0014 - acc: 0.9995 - val_loss: 0.0011 - val_acc: 0.9997\n",
      "Epoch 42/150\n",
      "62650/62650 [==============================] - 2s 37us/step - loss: 0.0014 - acc: 0.9995 - val_loss: 9.8598e-04 - val_acc: 0.9998\n",
      "Epoch 43/150\n",
      "62650/62650 [==============================] - 2s 38us/step - loss: 0.0012 - acc: 0.9995 - val_loss: 0.0012 - val_acc: 0.9997\n",
      "Epoch 44/150\n",
      "62650/62650 [==============================] - 2s 38us/step - loss: 0.0012 - acc: 0.9996 - val_loss: 8.9494e-04 - val_acc: 0.9998\n",
      "Epoch 45/150\n",
      "62650/62650 [==============================] - 2s 37us/step - loss: 0.0012 - acc: 0.9995 - val_loss: 8.5511e-04 - val_acc: 0.9998\n",
      "Epoch 46/150\n",
      "62650/62650 [==============================] - 2s 37us/step - loss: 0.0014 - acc: 0.9995 - val_loss: 9.3114e-04 - val_acc: 0.9998\n",
      "Epoch 47/150\n",
      "62650/62650 [==============================] - 2s 38us/step - loss: 0.0013 - acc: 0.9995 - val_loss: 0.0012 - val_acc: 0.9997\n",
      "Epoch 48/150\n",
      "62650/62650 [==============================] - 2s 37us/step - loss: 0.0012 - acc: 0.9995 - val_loss: 9.5785e-04 - val_acc: 0.9998\n",
      "Epoch 49/150\n",
      "62650/62650 [==============================] - 2s 38us/step - loss: 0.0013 - acc: 0.9995 - val_loss: 8.5645e-04 - val_acc: 0.9999\n",
      "Epoch 50/150\n",
      "62650/62650 [==============================] - 2s 37us/step - loss: 0.0012 - acc: 0.9995 - val_loss: 0.0012 - val_acc: 0.9996\n",
      "Epoch 51/150\n",
      "62650/62650 [==============================] - 2s 38us/step - loss: 0.0013 - acc: 0.9995 - val_loss: 0.0014 - val_acc: 0.9996\n",
      "Epoch 52/150\n",
      "62650/62650 [==============================] - 2s 40us/step - loss: 0.0013 - acc: 0.9996 - val_loss: 0.0010 - val_acc: 0.9997\n",
      "Epoch 53/150\n",
      "62650/62650 [==============================] - 2s 38us/step - loss: 0.0011 - acc: 0.9996 - val_loss: 0.0011 - val_acc: 0.9997\n",
      "Epoch 54/150\n",
      "62650/62650 [==============================] - 2s 37us/step - loss: 0.0013 - acc: 0.9995 - val_loss: 9.0130e-04 - val_acc: 0.9999\n",
      "Epoch 55/150\n",
      "62650/62650 [==============================] - 2s 38us/step - loss: 0.0012 - acc: 0.9995 - val_loss: 0.0018 - val_acc: 0.9996\n",
      "Epoch 56/150\n",
      "62650/62650 [==============================] - 2s 38us/step - loss: 0.0012 - acc: 0.9996 - val_loss: 8.7381e-04 - val_acc: 0.9999\n",
      "Epoch 57/150\n",
      "62650/62650 [==============================] - 2s 38us/step - loss: 0.0012 - acc: 0.9995 - val_loss: 9.1664e-04 - val_acc: 0.9998\n",
      "Epoch 58/150\n",
      "62650/62650 [==============================] - 2s 38us/step - loss: 0.0011 - acc: 0.9996 - val_loss: 0.0011 - val_acc: 0.9998\n"
     ]
    },
    {
     "name": "stdout",
     "output_type": "stream",
     "text": [
      "Epoch 59/150\n",
      "62650/62650 [==============================] - 2s 36us/step - loss: 0.0014 - acc: 0.9994 - val_loss: 0.0013 - val_acc: 0.9997\n",
      "Epoch 60/150\n",
      "62650/62650 [==============================] - 2s 36us/step - loss: 0.0012 - acc: 0.9995 - val_loss: 0.0011 - val_acc: 0.9997\n",
      "Epoch 61/150\n",
      "62650/62650 [==============================] - 2s 36us/step - loss: 0.0012 - acc: 0.9995 - val_loss: 8.9848e-04 - val_acc: 0.9998\n",
      "Epoch 62/150\n",
      "62650/62650 [==============================] - 2s 36us/step - loss: 0.0011 - acc: 0.9995 - val_loss: 0.0011 - val_acc: 0.9998\n",
      "Epoch 63/150\n",
      "62650/62650 [==============================] - 2s 36us/step - loss: 0.0012 - acc: 0.9996 - val_loss: 9.2185e-04 - val_acc: 0.9998\n",
      "Epoch 64/150\n",
      "62650/62650 [==============================] - 2s 36us/step - loss: 0.0010 - acc: 0.9996 - val_loss: 9.3830e-04 - val_acc: 0.9998\n",
      "Epoch 65/150\n",
      "62650/62650 [==============================] - 2s 36us/step - loss: 0.0011 - acc: 0.9996 - val_loss: 9.1100e-04 - val_acc: 0.9999\n",
      "Epoch 66/150\n",
      "62650/62650 [==============================] - 2s 36us/step - loss: 0.0012 - acc: 0.9994 - val_loss: 0.0017 - val_acc: 0.9994\n",
      "Epoch 67/150\n",
      "62650/62650 [==============================] - 2s 36us/step - loss: 0.0011 - acc: 0.9995 - val_loss: 0.0011 - val_acc: 0.9996\n",
      "Epoch 68/150\n",
      "62650/62650 [==============================] - 2s 37us/step - loss: 0.0012 - acc: 0.9995 - val_loss: 9.6113e-04 - val_acc: 0.9998\n",
      "Epoch 69/150\n",
      "62650/62650 [==============================] - 2s 37us/step - loss: 0.0010 - acc: 0.9995 - val_loss: 9.8840e-04 - val_acc: 0.9998\n",
      "Epoch 70/150\n",
      "62650/62650 [==============================] - 2s 37us/step - loss: 0.0010 - acc: 0.9996 - val_loss: 9.3661e-04 - val_acc: 0.9998\n",
      "Epoch 71/150\n",
      "62650/62650 [==============================] - 2s 36us/step - loss: 0.0011 - acc: 0.9996 - val_loss: 0.0012 - val_acc: 0.9996\n",
      "Epoch 72/150\n",
      "62650/62650 [==============================] - 2s 36us/step - loss: 0.0011 - acc: 0.9995 - val_loss: 0.0010 - val_acc: 0.9997\n",
      "Epoch 73/150\n",
      "62650/62650 [==============================] - 2s 36us/step - loss: 0.0010 - acc: 0.9996 - val_loss: 0.0010 - val_acc: 0.9998\n",
      "Epoch 74/150\n",
      "62650/62650 [==============================] - 2s 37us/step - loss: 0.0012 - acc: 0.9996 - val_loss: 9.5381e-04 - val_acc: 0.9998\n",
      "Epoch 75/150\n",
      "62650/62650 [==============================] - 2s 37us/step - loss: 0.0011 - acc: 0.9995 - val_loss: 9.3646e-04 - val_acc: 0.9999\n",
      "Epoch 76/150\n",
      "62650/62650 [==============================] - 3s 43us/step - loss: 0.0011 - acc: 0.9995 - val_loss: 9.1461e-04 - val_acc: 0.9999\n",
      "Epoch 77/150\n",
      "62650/62650 [==============================] - 3s 43us/step - loss: 9.4351e-04 - acc: 0.9996 - val_loss: 9.2382e-04 - val_acc: 0.9998\n",
      "Epoch 78/150\n",
      "62650/62650 [==============================] - 3s 52us/step - loss: 9.9681e-04 - acc: 0.9996 - val_loss: 9.8435e-04 - val_acc: 0.9998\n",
      "Epoch 79/150\n",
      "62650/62650 [==============================] - 4s 61us/step - loss: 8.8050e-04 - acc: 0.9997 - val_loss: 0.0011 - val_acc: 0.9998\n",
      "Epoch 80/150\n",
      "62650/62650 [==============================] - 3s 43us/step - loss: 0.0012 - acc: 0.9995 - val_loss: 9.5110e-04 - val_acc: 0.9998\n",
      "Epoch 81/150\n",
      "62650/62650 [==============================] - 3s 44us/step - loss: 0.0010 - acc: 0.9996 - val_loss: 0.0012 - val_acc: 0.9998\n",
      "Epoch 82/150\n",
      "62650/62650 [==============================] - 3s 44us/step - loss: 0.0011 - acc: 0.9996 - val_loss: 9.7841e-04 - val_acc: 0.9998\n",
      "Epoch 83/150\n",
      "62650/62650 [==============================] - 3s 44us/step - loss: 0.0011 - acc: 0.9995 - val_loss: 0.0010 - val_acc: 0.9998\n",
      "Epoch 84/150\n",
      "62650/62650 [==============================] - 3s 44us/step - loss: 0.0012 - acc: 0.9995 - val_loss: 0.0011 - val_acc: 0.9998\n",
      "Epoch 85/150\n",
      "62650/62650 [==============================] - 3s 44us/step - loss: 9.7994e-04 - acc: 0.9996 - val_loss: 0.0013 - val_acc: 0.9997\n",
      "Epoch 86/150\n",
      "62650/62650 [==============================] - 3s 44us/step - loss: 0.0010 - acc: 0.9996 - val_loss: 0.0011 - val_acc: 0.9998\n",
      "Epoch 87/150\n",
      "62650/62650 [==============================] - 3s 45us/step - loss: 0.0011 - acc: 0.9996 - val_loss: 9.9869e-04 - val_acc: 0.9998\n",
      "Epoch 88/150\n",
      "62650/62650 [==============================] - 3s 45us/step - loss: 0.0012 - acc: 0.9994 - val_loss: 0.0010 - val_acc: 0.9998\n",
      "Epoch 89/150\n",
      "62650/62650 [==============================] - 3s 44us/step - loss: 9.6160e-04 - acc: 0.9996 - val_loss: 0.0016 - val_acc: 0.9996\n",
      "Epoch 90/150\n",
      "62650/62650 [==============================] - 3s 44us/step - loss: 0.0012 - acc: 0.9995 - val_loss: 9.9285e-04 - val_acc: 0.9998\n",
      "Epoch 91/150\n",
      "62650/62650 [==============================] - 3s 44us/step - loss: 9.8436e-04 - acc: 0.9996 - val_loss: 0.0012 - val_acc: 0.9997\n",
      "Epoch 92/150\n",
      "62650/62650 [==============================] - 3s 44us/step - loss: 9.2824e-04 - acc: 0.9997 - val_loss: 0.0022 - val_acc: 0.9994\n",
      "Epoch 93/150\n",
      "62650/62650 [==============================] - 3s 44us/step - loss: 0.0011 - acc: 0.9996 - val_loss: 0.0012 - val_acc: 0.9998\n",
      "Epoch 94/150\n",
      "62650/62650 [==============================] - 3s 45us/step - loss: 9.0242e-04 - acc: 0.9996 - val_loss: 9.6883e-04 - val_acc: 0.9998\n",
      "Epoch 95/150\n",
      "62650/62650 [==============================] - 3s 44us/step - loss: 9.7927e-04 - acc: 0.9996 - val_loss: 0.0013 - val_acc: 0.9997\n",
      "Epoch 96/150\n",
      "62650/62650 [==============================] - 3s 44us/step - loss: 0.0011 - acc: 0.9996 - val_loss: 9.4438e-04 - val_acc: 0.9998\n",
      "Epoch 97/150\n",
      "62650/62650 [==============================] - 3s 44us/step - loss: 9.6396e-04 - acc: 0.9996 - val_loss: 0.0017 - val_acc: 0.9995\n",
      "Epoch 98/150\n",
      "62650/62650 [==============================] - 3s 45us/step - loss: 0.0010 - acc: 0.9995 - val_loss: 9.5354e-04 - val_acc: 0.9998\n",
      "Epoch 99/150\n",
      "62650/62650 [==============================] - 3s 44us/step - loss: 0.0010 - acc: 0.9997 - val_loss: 9.7578e-04 - val_acc: 0.9998\n",
      "Epoch 100/150\n",
      "62650/62650 [==============================] - 3s 45us/step - loss: 9.6071e-04 - acc: 0.9997 - val_loss: 0.0014 - val_acc: 0.9997\n",
      "Epoch 101/150\n",
      "62650/62650 [==============================] - 3s 45us/step - loss: 9.0648e-04 - acc: 0.9996 - val_loss: 0.0012 - val_acc: 0.9997\n",
      "Epoch 102/150\n",
      "62650/62650 [==============================] - 3s 45us/step - loss: 0.0010 - acc: 0.9997 - val_loss: 0.0011 - val_acc: 0.9997\n",
      "Epoch 103/150\n",
      "62650/62650 [==============================] - 3s 44us/step - loss: 0.0010 - acc: 0.9995 - val_loss: 9.6563e-04 - val_acc: 0.9998\n",
      "Epoch 104/150\n",
      "62650/62650 [==============================] - 3s 45us/step - loss: 9.7055e-04 - acc: 0.9996 - val_loss: 9.5720e-04 - val_acc: 0.9998\n",
      "Epoch 105/150\n",
      "62650/62650 [==============================] - 3s 45us/step - loss: 9.3926e-04 - acc: 0.9996 - val_loss: 9.8211e-04 - val_acc: 0.9998\n",
      "Epoch 106/150\n",
      "62650/62650 [==============================] - 3s 45us/step - loss: 0.0010 - acc: 0.9997 - val_loss: 0.0011 - val_acc: 0.9997\n",
      "Epoch 107/150\n",
      "62650/62650 [==============================] - 3s 45us/step - loss: 8.8683e-04 - acc: 0.9996 - val_loss: 9.5046e-04 - val_acc: 0.9998\n",
      "Epoch 108/150\n",
      "62650/62650 [==============================] - 3s 45us/step - loss: 8.1564e-04 - acc: 0.9997 - val_loss: 0.0011 - val_acc: 0.9998\n",
      "Epoch 109/150\n",
      "62650/62650 [==============================] - 3s 44us/step - loss: 7.9271e-04 - acc: 0.9997 - val_loss: 0.0010 - val_acc: 0.9999\n",
      "Epoch 110/150\n",
      "62650/62650 [==============================] - 3s 47us/step - loss: 0.0011 - acc: 0.9996 - val_loss: 0.0010 - val_acc: 0.9998\n",
      "Epoch 111/150\n",
      "62650/62650 [==============================] - 3s 45us/step - loss: 9.4383e-04 - acc: 0.9996 - val_loss: 9.8090e-04 - val_acc: 0.9998\n",
      "Epoch 112/150\n",
      "62650/62650 [==============================] - 3s 45us/step - loss: 7.7356e-04 - acc: 0.9996 - val_loss: 0.0015 - val_acc: 0.9997\n",
      "Epoch 113/150\n",
      "62650/62650 [==============================] - 3s 45us/step - loss: 0.0010 - acc: 0.9995 - val_loss: 9.3660e-04 - val_acc: 0.9999\n",
      "Epoch 114/150\n",
      "62650/62650 [==============================] - 3s 45us/step - loss: 0.0011 - acc: 0.9995 - val_loss: 0.0011 - val_acc: 0.9998\n",
      "Epoch 115/150\n",
      "62650/62650 [==============================] - 3s 45us/step - loss: 9.3362e-04 - acc: 0.9997 - val_loss: 0.0012 - val_acc: 0.9997\n",
      "Epoch 116/150\n",
      "62650/62650 [==============================] - 2s 37us/step - loss: 8.6362e-04 - acc: 0.9996 - val_loss: 0.0013 - val_acc: 0.9998\n",
      "Epoch 117/150\n",
      "62650/62650 [==============================] - 2s 36us/step - loss: 9.1690e-04 - acc: 0.9997 - val_loss: 9.2994e-04 - val_acc: 0.9999\n",
      "Epoch 118/150\n",
      "62650/62650 [==============================] - 2s 36us/step - loss: 8.5498e-04 - acc: 0.9997 - val_loss: 9.7574e-04 - val_acc: 0.9998\n",
      "Epoch 119/150\n",
      "62650/62650 [==============================] - 2s 36us/step - loss: 9.2863e-04 - acc: 0.9996 - val_loss: 0.0012 - val_acc: 0.9998\n",
      "Epoch 120/150\n",
      "62650/62650 [==============================] - 2s 36us/step - loss: 0.0010 - acc: 0.9997 - val_loss: 9.4305e-04 - val_acc: 0.9999\n",
      "Epoch 121/150\n",
      "62650/62650 [==============================] - 2s 36us/step - loss: 8.7334e-04 - acc: 0.9996 - val_loss: 9.6204e-04 - val_acc: 0.9998\n",
      "Epoch 122/150\n",
      "62650/62650 [==============================] - 2s 36us/step - loss: 9.1564e-04 - acc: 0.9996 - val_loss: 0.0013 - val_acc: 0.9997\n",
      "Epoch 123/150\n",
      "62650/62650 [==============================] - 2s 36us/step - loss: 9.5143e-04 - acc: 0.9995 - val_loss: 9.8572e-04 - val_acc: 0.9998\n",
      "Epoch 124/150\n",
      "62650/62650 [==============================] - 2s 37us/step - loss: 9.3168e-04 - acc: 0.9996 - val_loss: 0.0010 - val_acc: 0.9998\n",
      "Epoch 125/150\n",
      "62650/62650 [==============================] - 2s 36us/step - loss: 9.7595e-04 - acc: 0.9996 - val_loss: 0.0013 - val_acc: 0.9997\n",
      "Epoch 126/150\n",
      "62650/62650 [==============================] - 2s 36us/step - loss: 9.8772e-04 - acc: 0.9996 - val_loss: 0.0016 - val_acc: 0.9996\n",
      "Epoch 127/150\n",
      "62650/62650 [==============================] - 2s 36us/step - loss: 7.9263e-04 - acc: 0.9997 - val_loss: 0.0013 - val_acc: 0.9997\n",
      "Epoch 128/150\n",
      "62650/62650 [==============================] - 2s 37us/step - loss: 9.0606e-04 - acc: 0.9996 - val_loss: 9.8769e-04 - val_acc: 0.9998\n",
      "Epoch 129/150\n",
      "62650/62650 [==============================] - 2s 36us/step - loss: 0.0010 - acc: 0.9996 - val_loss: 9.5048e-04 - val_acc: 0.9999\n",
      "Epoch 130/150\n",
      "62650/62650 [==============================] - 2s 37us/step - loss: 8.8227e-04 - acc: 0.9996 - val_loss: 9.3644e-04 - val_acc: 0.9998\n",
      "Epoch 131/150\n",
      "62650/62650 [==============================] - 2s 37us/step - loss: 0.0010 - acc: 0.9996 - val_loss: 9.7195e-04 - val_acc: 0.9998\n",
      "Epoch 132/150\n",
      "62650/62650 [==============================] - 2s 37us/step - loss: 9.2330e-04 - acc: 0.9996 - val_loss: 9.8016e-04 - val_acc: 0.9998\n",
      "Epoch 133/150\n",
      "62650/62650 [==============================] - 2s 37us/step - loss: 8.0569e-04 - acc: 0.9996 - val_loss: 9.8931e-04 - val_acc: 0.9999\n",
      "Epoch 134/150\n",
      "62650/62650 [==============================] - 2s 37us/step - loss: 0.0010 - acc: 0.9996 - val_loss: 9.4790e-04 - val_acc: 0.9999\n",
      "Epoch 135/150\n",
      "62650/62650 [==============================] - 2s 38us/step - loss: 0.0011 - acc: 0.9996 - val_loss: 9.6775e-04 - val_acc: 0.9999\n",
      "Epoch 136/150\n",
      "62650/62650 [==============================] - 2s 36us/step - loss: 9.0422e-04 - acc: 0.9996 - val_loss: 0.0013 - val_acc: 0.9997\n",
      "Epoch 137/150\n",
      "62650/62650 [==============================] - 2s 37us/step - loss: 0.0011 - acc: 0.9996 - val_loss: 0.0010 - val_acc: 0.9998\n",
      "Epoch 138/150\n",
      "62650/62650 [==============================] - 2s 37us/step - loss: 9.1499e-04 - acc: 0.9996 - val_loss: 9.7824e-04 - val_acc: 0.9998\n",
      "Epoch 139/150\n",
      "62650/62650 [==============================] - 2s 37us/step - loss: 9.8859e-04 - acc: 0.9997 - val_loss: 9.7072e-04 - val_acc: 0.9999\n",
      "Epoch 140/150\n",
      "62650/62650 [==============================] - 2s 37us/step - loss: 9.4666e-04 - acc: 0.9996 - val_loss: 0.0011 - val_acc: 0.9998\n",
      "Epoch 141/150\n",
      "62650/62650 [==============================] - 2s 37us/step - loss: 8.6015e-04 - acc: 0.9997 - val_loss: 0.0010 - val_acc: 0.9998\n",
      "Epoch 142/150\n",
      "62650/62650 [==============================] - 2s 37us/step - loss: 8.7727e-04 - acc: 0.9996 - val_loss: 0.0011 - val_acc: 0.9998\n",
      "Epoch 143/150\n",
      "62650/62650 [==============================] - 2s 37us/step - loss: 8.9781e-04 - acc: 0.9996 - val_loss: 0.0010 - val_acc: 0.9999\n",
      "Epoch 144/150\n",
      "62650/62650 [==============================] - 2s 37us/step - loss: 9.3780e-04 - acc: 0.9996 - val_loss: 0.0010 - val_acc: 0.9999\n",
      "Epoch 145/150\n",
      "62650/62650 [==============================] - 2s 37us/step - loss: 9.0500e-04 - acc: 0.9997 - val_loss: 0.0013 - val_acc: 0.9998\n",
      "Epoch 146/150\n",
      "62650/62650 [==============================] - 2s 37us/step - loss: 9.4095e-04 - acc: 0.9996 - val_loss: 0.0011 - val_acc: 0.9998\n",
      "Epoch 147/150\n",
      "62650/62650 [==============================] - 2s 37us/step - loss: 8.7041e-04 - acc: 0.9996 - val_loss: 0.0019 - val_acc: 0.9997\n",
      "Epoch 148/150\n",
      "62650/62650 [==============================] - 2s 37us/step - loss: 9.5932e-04 - acc: 0.9996 - val_loss: 0.0011 - val_acc: 0.9997\n",
      "Epoch 149/150\n",
      "62650/62650 [==============================] - 2s 37us/step - loss: 9.8526e-04 - acc: 0.9997 - val_loss: 0.0011 - val_acc: 0.9998\n",
      "Epoch 150/150\n",
      "62650/62650 [==============================] - 2s 38us/step - loss: 8.8695e-04 - acc: 0.9996 - val_loss: 0.0011 - val_acc: 0.9998\n"
     ]
    }
   ],
   "source": [
    "# Fit the model\n",
    "history=model.fit(X, y, epochs=150, batch_size=35, validation_split=0.25)"
   ]
  },
  {
   "cell_type": "code",
   "execution_count": 15,
   "metadata": {},
   "outputs": [
    {
     "data": {
      "image/png": "[encoded data removed]",
      "text/plain": [
       "<Figure size 720x720 with 1 Axes>"
      ]
     },
     "metadata": {
      "needs_background": "light"
     },
     "output_type": "display_data"
    }
   ],
   "source": [
    "# summarize history for accuracy\n",
    "plt.figure(figsize=(10,10))\n",
    "plt.plot(history.history['acc'])\n",
    "plt.plot(history.history['val_acc'])\n",
    "plt.title('model accuracy')\n",
    "plt.ylabel('accuracy')\n",
    "plt.xlabel('epoch')\n",
    "plt.legend(['train', 'validation'], loc='upper left')\n",
    "plt.show()"
   ]
  },
  {
   "cell_type": "code",
   "execution_count": 16,
   "metadata": {},
   "outputs": [
    {
     "data": {
      "image/png": "[encoded data removed]",
      "text/plain": [
       "<Figure size 720x720 with 1 Axes>"
      ]
     },
     "metadata": {
      "needs_background": "light"
     },
     "output_type": "display_data"
    }
   ],
   "source": [
    "# summarize history for loss\n",
    "plt.figure(figsize=(10,10))\n",
    "plt.plot(history.history['loss'])\n",
    "plt.plot(history.history['val_loss'])\n",
    "plt.title('model loss')\n",
    "plt.ylabel('loss')\n",
    "plt.xlabel('epoch')\n",
    "plt.legend(['train', 'validation'], loc='upper left')\n",
    "plt.show()"
   ]
  },
  {
   "cell_type": "code",
   "execution_count": null,
   "metadata": {},
   "outputs": [],
   "source": [
    "# show the inputs and predicted outputs\n",
    "#predictions for test dataset\n",
    "predictions = model.predict_classes(Z)\n",
    "#for i in range(len(Z)):\n",
    " #   print(\"X=%s, Predicted=%s\" % (Z[i].astype(int), predictions[i]))"
   ]
  },
  {
   "cell_type": "code",
   "execution_count": 17,
   "metadata": {},
   "outputs": [],
   "source": [
    "unique, counts = np.unique(predictions, return_counts=True)\n",
    "\n",
    "print (np.asarray((unique, counts)).T)"
   ]
  },
  {
   "cell_type": "code",
   "execution_count": 32,
   "metadata": {},
   "outputs": [],
   "source": [
    "probability = (model.predict_proba(Z))\n",
    "df_week1_prob=pd.DataFrame({'Week 1 Probability':probability[:,0]})\n",
    "#for i in range(len(Z)):\n",
    " #   print(\"X=%s, Predicted=%s\" % (Z[i].astype(int), probability[i]))\n",
    "    \n",
    "df2=pd.concat([df2,df_week1_prob],axis=1)"
   ]
  },
  {
   "cell_type": "code",
   "execution_count": 61,
   "metadata": {},
   "outputs": [],
   "source": [
    "probability = (model.predict_proba(X))\n",
    "\n",
    "df_week1_prob=pd.DataFrame({'Week 1 Probability':probability[:,0]})\n",
    "df_week1_prob.shape\n",
    "df_week2=pd.concat([df_week2,df_week1_prob],axis=1)"
   ]
  },
  {
   "cell_type": "code",
   "execution_count": 20,
   "metadata": {},
   "outputs": [
    {
     "name": "stdout",
     "output_type": "stream",
     "text": [
      "59278/59278 [==============================] - 1s 14us/step\n",
      "\n",
      "loss: 15.82%\n",
      "\n",
      "acc: 98.38%\n"
     ]
    }
   ],
   "source": [
    "# Evaluate the model\n",
    "scores = model.evaluate(Z, yy)\n",
    "#print(history.history.keys())\n",
    "print(\"\\n%s: %.2f%%\" % (model.metrics_names[0], scores[0]*100))\n",
    "print(\"\\n%s: %.2f%%\" % (model.metrics_names[1], scores[1]*100))"
   ]
  },
  {
   "cell_type": "code",
   "execution_count": 21,
   "metadata": {},
   "outputs": [
    {
     "name": "stdout",
     "output_type": "stream",
     "text": [
      "Number of mislabeled points out of a total 59278 points : 960 \n",
      "\n",
      "\n"
     ]
    }
   ],
   "source": [
    "print(\"Number of mislabeled points out of a total %d points : %d \\n\\n\" % (Z.shape[0],(yy != predictions).sum()))"
   ]
  },
  {
   "cell_type": "code",
   "execution_count": 22,
   "metadata": {},
   "outputs": [
    {
     "name": "stdout",
     "output_type": "stream",
     "text": [
      "Confusion matrix, without normalization\n",
      "[[57175   363]\n",
      " [  597  1143]]\n"
     ]
    },
    {
     "data": {
      "image/png": "[encoded data removed]",
      "text/plain": [
       "<Figure size 432x288 with 2 Axes>"
      ]
     },
     "metadata": {
      "needs_background": "light"
     },
     "output_type": "display_data"
    }
   ],
   "source": [
    "#pre_cls=model.predict_classes(X)    \n",
    "\n",
    "def plot_confusion_matrix(cm, classes,\n",
    "                          normalize=False,\n",
    "                          title='Confusion matrix',\n",
    "                          cmap=plt.cm.Greens):\n",
    "    if normalize:\n",
    "        cm = cm.astype('float') / cm.sum(axis=1)[:, np.newaxis]\n",
    "        print(\"Normalized confusion matrix\")\n",
    "    else:\n",
    "        print('Confusion matrix, without normalization')\n",
    "\n",
    "    print(cm)\n",
    "\n",
    "    plt.imshow(cm, interpolation='nearest', cmap=cmap)\n",
    "    plt.title(title)\n",
    "    plt.colorbar()\n",
    "    tick_marks = np.arange(len(classes))\n",
    "    plt.xticks(tick_marks, classes, rotation=90)\n",
    "    plt.yticks(tick_marks, classes)\n",
    "\n",
    "    fmt = '.2f' if normalize else 'd'\n",
    "    thresh = cm.max() / 2.\n",
    "    for i, j in itertools.product(range(cm.shape[0]), range(cm.shape[1])):\n",
    "        plt.text(j, i, format(cm[i, j], fmt),\n",
    "                 horizontalalignment=\"center\",\n",
    "                 color=\"white\" if cm[i, j] > thresh else \"black\")\n",
    "\n",
    "    plt.tight_layout()\n",
    "    plt.ylabel('True label')\n",
    "    plt.xlabel('Predicted label')\n",
    "    \n",
    "\n",
    "cnf_matrix=confusion_matrix(yy,predictions)\n",
    "plot_confusion_matrix(cnf_matrix,classes=all_classes, title='Confusion matrix without normalization\\n')"
   ]
  },
  {
   "cell_type": "code",
   "execution_count": 23,
   "metadata": {
    "scrolled": true
   },
   "outputs": [
    {
     "name": "stdout",
     "output_type": "stream",
     "text": [
      "              precision    recall  f1-score   support\n",
      "\n",
      "           0       0.99      0.99      0.99     57538\n",
      "           1       0.76      0.66      0.70      1740\n",
      "\n",
      "   micro avg       0.98      0.98      0.98     59278\n",
      "   macro avg       0.87      0.83      0.85     59278\n",
      "weighted avg       0.98      0.98      0.98     59278\n",
      "\n",
      "Recall score:  0.656896551724138\n",
      "Precision score:  0.9828944245988551\n"
     ]
    }
   ],
   "source": [
    "print(classification_report(yy,predictions))\n",
    "print(\"Recall score: \", recall_score(yy,predictions))\n",
    "print(\"Precision score: \", precision_score(yy,predictions,average='weighted'))"
   ]
  },
  {
   "cell_type": "code",
   "execution_count": 24,
   "metadata": {},
   "outputs": [
    {
     "name": "stdout",
     "output_type": "stream",
     "text": [
      "Area under Curve: 0.825\n"
     ]
    },
    {
     "data": {
      "image/png": "[encoded data removed]",
      "text/plain": [
       "<Figure size 432x288 with 1 Axes>"
      ]
     },
     "metadata": {
      "needs_background": "light"
     },
     "output_type": "display_data"
    }
   ],
   "source": [
    "# Plot the ROC curve for the model\n",
    "\n",
    "auc = roc_auc_score(yy, predictions)\n",
    "print('Area under Curve: %.3f' % auc)\n",
    "fpr, tpr, thresholds = roc_curve(yy, predictions)\n",
    "\n",
    "pyplot.plot([0, 1], [0, 1], linestyle='--')\n",
    "pyplot.plot(fpr,tpr, marker='*')\n",
    "pyplot.show()"
   ]
  },
  {
   "cell_type": "code",
   "execution_count": 63,
   "metadata": {},
   "outputs": [
    {
     "data": {
      "text/html": [
       "<div>\n",
       "<style scoped>\n",
       "    .dataframe tbody tr th:only-of-type {\n",
       "        vertical-align: middle;\n",
       "    }\n",
       "\n",
       "    .dataframe tbody tr th {\n",
       "        vertical-align: top;\n",
       "    }\n",
       "\n",
       "    .dataframe thead th {\n",
       "        text-align: right;\n",
       "    }\n",
       "</style>\n",
       "<table border=\"1\" class=\"dataframe\">\n",
       "  <thead>\n",
       "    <tr style=\"text-align: right;\">\n",
       "      <th></th>\n",
       "      <th>Unnamed: 0</th>\n",
       "      <th>viewed</th>\n",
       "      <th>explored</th>\n",
       "      <th>grade</th>\n",
       "      <th>nevents</th>\n",
       "      <th>ndays_act</th>\n",
       "      <th>nchapters</th>\n",
       "      <th>LoE_DI</th>\n",
       "      <th>last_event_DI</th>\n",
       "      <th>certified</th>\n",
       "      <th>Week 1 Probability</th>\n",
       "    </tr>\n",
       "  </thead>\n",
       "  <tbody>\n",
       "    <tr>\n",
       "      <th>0</th>\n",
       "      <td>0</td>\n",
       "      <td>0.0</td>\n",
       "      <td>0.0</td>\n",
       "      <td>0.00</td>\n",
       "      <td>0.0</td>\n",
       "      <td>0.0</td>\n",
       "      <td>0.0</td>\n",
       "      <td>0.0</td>\n",
       "      <td>1.325356e+09</td>\n",
       "      <td>0.0</td>\n",
       "      <td>0.000003</td>\n",
       "    </tr>\n",
       "    <tr>\n",
       "      <th>1</th>\n",
       "      <td>1</td>\n",
       "      <td>1.0</td>\n",
       "      <td>0.0</td>\n",
       "      <td>0.01</td>\n",
       "      <td>879.0</td>\n",
       "      <td>5.0</td>\n",
       "      <td>3.0</td>\n",
       "      <td>4.0</td>\n",
       "      <td>1.350499e+09</td>\n",
       "      <td>0.0</td>\n",
       "      <td>0.000003</td>\n",
       "    </tr>\n",
       "    <tr>\n",
       "      <th>2</th>\n",
       "      <td>2</td>\n",
       "      <td>1.0</td>\n",
       "      <td>0.0</td>\n",
       "      <td>0.00</td>\n",
       "      <td>547.0</td>\n",
       "      <td>8.0</td>\n",
       "      <td>2.0</td>\n",
       "      <td>0.0</td>\n",
       "      <td>1.334083e+09</td>\n",
       "      <td>0.0</td>\n",
       "      <td>0.000003</td>\n",
       "    </tr>\n",
       "    <tr>\n",
       "      <th>3</th>\n",
       "      <td>3</td>\n",
       "      <td>0.0</td>\n",
       "      <td>0.0</td>\n",
       "      <td>0.00</td>\n",
       "      <td>2.0</td>\n",
       "      <td>1.0</td>\n",
       "      <td>0.0</td>\n",
       "      <td>4.0</td>\n",
       "      <td>1.348598e+09</td>\n",
       "      <td>0.0</td>\n",
       "      <td>0.000003</td>\n",
       "    </tr>\n",
       "    <tr>\n",
       "      <th>4</th>\n",
       "      <td>4</td>\n",
       "      <td>1.0</td>\n",
       "      <td>0.0</td>\n",
       "      <td>0.00</td>\n",
       "      <td>655.0</td>\n",
       "      <td>6.0</td>\n",
       "      <td>3.0</td>\n",
       "      <td>3.0</td>\n",
       "      <td>1.350067e+09</td>\n",
       "      <td>0.0</td>\n",
       "      <td>0.000003</td>\n",
       "    </tr>\n",
       "  </tbody>\n",
       "</table>\n",
       "</div>"
      ],
      "text/plain": [
       "   Unnamed: 0  viewed  explored  grade  nevents  ndays_act  nchapters  LoE_DI  \\\n",
       "0           0     0.0       0.0   0.00      0.0        0.0        0.0     0.0   \n",
       "1           1     1.0       0.0   0.01    879.0        5.0        3.0     4.0   \n",
       "2           2     1.0       0.0   0.00    547.0        8.0        2.0     0.0   \n",
       "3           3     0.0       0.0   0.00      2.0        1.0        0.0     4.0   \n",
       "4           4     1.0       0.0   0.00    655.0        6.0        3.0     3.0   \n",
       "\n",
       "   last_event_DI  certified  Week 1 Probability  \n",
       "0   1.325356e+09        0.0            0.000003  \n",
       "1   1.350499e+09        0.0            0.000003  \n",
       "2   1.334083e+09        0.0            0.000003  \n",
       "3   1.348598e+09        0.0            0.000003  \n",
       "4   1.350067e+09        0.0            0.000003  "
      ]
     },
     "execution_count": 63,
     "metadata": {},
     "output_type": "execute_result"
    }
   ],
   "source": [
    "df2.head()"
   ]
  },
  {
   "cell_type": "code",
   "execution_count": null,
   "metadata": {},
   "outputs": [],
   "source": [
    "# Week 2 classification"
   ]
  },
  {
   "cell_type": "code",
   "execution_count": 77,
   "metadata": {},
   "outputs": [],
   "source": [
    "X2=df_week2.iloc[:,[0,1,2,3,4,5,6,7,8]]\n",
    "y2=df_week2.iloc[:,[9]]\n",
    "Z2=df2.iloc[:,[1,2,9,3,4,5,6,7,8]]"
   ]
  },
  {
   "cell_type": "code",
   "execution_count": 78,
   "metadata": {},
   "outputs": [],
   "source": [
    "#Performing Z-Score Normalization\n",
    "\n",
    "X2=stats.zscore(X2)\n",
    "Z2=stats.zscore(Z2)"
   ]
  },
  {
   "cell_type": "code",
   "execution_count": 79,
   "metadata": {},
   "outputs": [],
   "source": [
    "model = Sequential()\n",
    "#First layer has  12 neurons with 9 input neurons from input layer\n",
    "\n",
    "#Adding dropout between the input layer and the first hidden layer\n",
    "model.add(Dense(12, input_dim=9, activation='softmax'))\n",
    "model.add(Dense(10, activation='relu'))\n",
    "#model.add(Dense(8, activation='softmax'))\n",
    "model.add(Dense(6, activation='tanh'))\n",
    "model.add(Dense(4, activation='softmax'))\n",
    "model.add(Dense(1, activation='sigmoid'))\n",
    "#model.add(Dropout(0.2))"
   ]
  },
  {
   "cell_type": "code",
   "execution_count": 80,
   "metadata": {},
   "outputs": [],
   "source": [
    "#We will use logarithmic loss, which for a binary classification problem is defined as “binary_crossentropy“.\n",
    "model.compile(loss='binary_crossentropy', optimizer='adam', metrics=['accuracy'])"
   ]
  },
  {
   "cell_type": "code",
   "execution_count": 123,
   "metadata": {},
   "outputs": [
    {
     "name": "stdout",
     "output_type": "stream",
     "text": [
      "Train on 71003 samples, validate on 12531 samples\n",
      "Epoch 1/100\n",
      "71003/71003 [==============================] - 4s 52us/step - loss: 0.0113 - acc: 0.9972 - val_loss: 0.0033 - val_acc: 0.9987\n",
      "Epoch 2/100\n",
      "71003/71003 [==============================] - 4s 55us/step - loss: 0.0028 - acc: 0.9987 - val_loss: 0.0017 - val_acc: 0.9990\n",
      "Epoch 3/100\n",
      "71003/71003 [==============================] - 9s 132us/step - loss: 0.0016 - acc: 0.9994 - val_loss: 0.0014 - val_acc: 0.9994\n",
      "Epoch 4/100\n",
      "71003/71003 [==============================] - 4s 62us/step - loss: 0.0012 - acc: 0.9995 - val_loss: 0.0017 - val_acc: 0.9994\n",
      "Epoch 5/100\n",
      "71003/71003 [==============================] - 3s 46us/step - loss: 0.0010 - acc: 0.9996 - val_loss: 0.0014 - val_acc: 0.9995\n",
      "Epoch 6/100\n",
      "71003/71003 [==============================] - 6s 83us/step - loss: 7.5247e-04 - acc: 0.9996 - val_loss: 0.0024 - val_acc: 0.9994\n",
      "Epoch 7/100\n",
      "71003/71003 [==============================] - 5s 65us/step - loss: 7.4708e-04 - acc: 0.9997 - val_loss: 0.0026 - val_acc: 0.9994\n",
      "Epoch 8/100\n",
      "71003/71003 [==============================] - 4s 58us/step - loss: 5.3628e-04 - acc: 0.9998 - val_loss: 0.0023 - val_acc: 0.9995\n",
      "Epoch 9/100\n",
      "71003/71003 [==============================] - 4s 58us/step - loss: 5.3468e-04 - acc: 0.9997 - val_loss: 0.0014 - val_acc: 0.9995\n",
      "Epoch 10/100\n",
      "71003/71003 [==============================] - 4s 61us/step - loss: 4.9908e-04 - acc: 0.9998 - val_loss: 0.0028 - val_acc: 0.9995\n",
      "Epoch 11/100\n",
      "71003/71003 [==============================] - 5s 65us/step - loss: 5.7787e-04 - acc: 0.9997 - val_loss: 0.0031 - val_acc: 0.9994\n",
      "Epoch 12/100\n",
      "71003/71003 [==============================] - 4s 63us/step - loss: 5.2920e-04 - acc: 0.9998 - val_loss: 0.0022 - val_acc: 0.9995\n",
      "Epoch 13/100\n",
      "71003/71003 [==============================] - 4s 63us/step - loss: 5.5375e-04 - acc: 0.9998 - val_loss: 0.0022 - val_acc: 0.9995\n",
      "Epoch 14/100\n",
      "71003/71003 [==============================] - 5s 67us/step - loss: 5.4521e-04 - acc: 0.9998 - val_loss: 0.0022 - val_acc: 0.9995\n",
      "Epoch 15/100\n",
      "71003/71003 [==============================] - 4s 58us/step - loss: 4.7410e-04 - acc: 0.9998 - val_loss: 0.0023 - val_acc: 0.9995\n",
      "Epoch 16/100\n",
      "71003/71003 [==============================] - 4s 59us/step - loss: 4.3456e-04 - acc: 0.9998 - val_loss: 0.0027 - val_acc: 0.9994\n",
      "Epoch 17/100\n",
      "71003/71003 [==============================] - 4s 61us/step - loss: 4.0066e-04 - acc: 0.9998 - val_loss: 0.0021 - val_acc: 0.9996\n",
      "Epoch 18/100\n",
      "71003/71003 [==============================] - 4s 58us/step - loss: 3.6832e-04 - acc: 0.9998 - val_loss: 0.0021 - val_acc: 0.9996\n",
      "Epoch 19/100\n",
      "71003/71003 [==============================] - 4s 59us/step - loss: 4.3284e-04 - acc: 0.9998 - val_loss: 0.0024 - val_acc: 0.9994\n",
      "Epoch 20/100\n",
      "71003/71003 [==============================] - 4s 58us/step - loss: 2.9755e-04 - acc: 0.9999 - val_loss: 0.0027 - val_acc: 0.9995\n",
      "Epoch 21/100\n",
      "71003/71003 [==============================] - 4s 59us/step - loss: 3.9739e-04 - acc: 0.9998 - val_loss: 0.0022 - val_acc: 0.9995\n",
      "Epoch 22/100\n",
      "71003/71003 [==============================] - 4s 57us/step - loss: 3.6168e-04 - acc: 0.9999 - val_loss: 0.0030 - val_acc: 0.9994\n",
      "Epoch 23/100\n",
      "71003/71003 [==============================] - 4s 58us/step - loss: 3.7843e-04 - acc: 0.9998 - val_loss: 0.0019 - val_acc: 0.9996\n",
      "Epoch 24/100\n",
      "71003/71003 [==============================] - 4s 58us/step - loss: 3.6841e-04 - acc: 0.9998 - val_loss: 0.0025 - val_acc: 0.9995\n",
      "Epoch 25/100\n",
      "71003/71003 [==============================] - 4s 57us/step - loss: 3.9057e-04 - acc: 0.9998 - val_loss: 0.0020 - val_acc: 0.9996\n",
      "Epoch 26/100\n",
      "71003/71003 [==============================] - 4s 57us/step - loss: 3.6065e-04 - acc: 0.9998 - val_loss: 0.0024 - val_acc: 0.9994\n",
      "Epoch 27/100\n",
      "71003/71003 [==============================] - 4s 57us/step - loss: 3.0175e-04 - acc: 0.9999 - val_loss: 0.0027 - val_acc: 0.9996\n",
      "Epoch 28/100\n",
      "71003/71003 [==============================] - 4s 57us/step - loss: 3.2214e-04 - acc: 0.9998 - val_loss: 0.0029 - val_acc: 0.9995\n",
      "Epoch 29/100\n",
      "71003/71003 [==============================] - 4s 57us/step - loss: 3.8679e-04 - acc: 0.9999 - val_loss: 0.0027 - val_acc: 0.9995\n",
      "Epoch 30/100\n",
      "71003/71003 [==============================] - 4s 57us/step - loss: 2.9479e-04 - acc: 0.9999 - val_loss: 0.0035 - val_acc: 0.9994\n",
      "Epoch 31/100\n",
      "71003/71003 [==============================] - 4s 56us/step - loss: 3.1851e-04 - acc: 0.9998 - val_loss: 0.0022 - val_acc: 0.9996\n",
      "Epoch 32/100\n",
      "71003/71003 [==============================] - 4s 57us/step - loss: 4.1524e-04 - acc: 0.9998 - val_loss: 0.0029 - val_acc: 0.9995\n",
      "Epoch 33/100\n",
      "71003/71003 [==============================] - 4s 56us/step - loss: 3.1198e-04 - acc: 0.9999 - val_loss: 0.0029 - val_acc: 0.9995\n",
      "Epoch 34/100\n",
      "71003/71003 [==============================] - 4s 54us/step - loss: 5.5498e-04 - acc: 0.9998 - val_loss: 0.0016 - val_acc: 0.9995\n",
      "Epoch 35/100\n",
      "71003/71003 [==============================] - 4s 57us/step - loss: 2.6865e-04 - acc: 0.9999 - val_loss: 0.0028 - val_acc: 0.9995\n",
      "Epoch 36/100\n",
      "71003/71003 [==============================] - 4s 56us/step - loss: 2.1615e-04 - acc: 0.9999 - val_loss: 0.0033 - val_acc: 0.9996\n",
      "Epoch 37/100\n",
      "71003/71003 [==============================] - 4s 56us/step - loss: 4.2910e-04 - acc: 0.9999 - val_loss: 0.0025 - val_acc: 0.9996\n",
      "Epoch 38/100\n",
      "71003/71003 [==============================] - 4s 54us/step - loss: 2.2596e-04 - acc: 0.9999 - val_loss: 0.0041 - val_acc: 0.9994\n",
      "Epoch 39/100\n",
      "71003/71003 [==============================] - 4s 55us/step - loss: 3.5895e-04 - acc: 0.9998 - val_loss: 0.0036 - val_acc: 0.9994\n",
      "Epoch 40/100\n",
      "71003/71003 [==============================] - 4s 54us/step - loss: 3.5104e-04 - acc: 0.9998 - val_loss: 0.0024 - val_acc: 0.9996\n",
      "Epoch 41/100\n",
      "71003/71003 [==============================] - 4s 55us/step - loss: 2.7573e-04 - acc: 0.9998 - val_loss: 0.0025 - val_acc: 0.9995\n",
      "Epoch 42/100\n",
      "71003/71003 [==============================] - 4s 55us/step - loss: 2.9367e-04 - acc: 0.9999 - val_loss: 0.0030 - val_acc: 0.9994\n",
      "Epoch 43/100\n",
      "71003/71003 [==============================] - 4s 54us/step - loss: 2.6490e-04 - acc: 0.9999 - val_loss: 0.0028 - val_acc: 0.9996\n",
      "Epoch 44/100\n",
      "71003/71003 [==============================] - 4s 55us/step - loss: 2.5594e-04 - acc: 0.9999 - val_loss: 0.0033 - val_acc: 0.9994\n",
      "Epoch 45/100\n",
      "71003/71003 [==============================] - 4s 56us/step - loss: 3.5579e-04 - acc: 0.9999 - val_loss: 0.0024 - val_acc: 0.9996\n",
      "Epoch 46/100\n",
      "71003/71003 [==============================] - 4s 54us/step - loss: 4.0089e-04 - acc: 0.9999 - val_loss: 0.0032 - val_acc: 0.9994\n",
      "Epoch 47/100\n",
      "71003/71003 [==============================] - 4s 55us/step - loss: 2.2509e-04 - acc: 0.9999 - val_loss: 0.0031 - val_acc: 0.9995\n",
      "Epoch 48/100\n",
      "71003/71003 [==============================] - 4s 58us/step - loss: 4.1179e-04 - acc: 0.9999 - val_loss: 0.0020 - val_acc: 0.9996\n",
      "Epoch 49/100\n",
      "71003/71003 [==============================] - 4s 55us/step - loss: 2.2204e-04 - acc: 0.9999 - val_loss: 0.0035 - val_acc: 0.9995\n",
      "Epoch 50/100\n",
      "71003/71003 [==============================] - 4s 57us/step - loss: 3.5478e-04 - acc: 0.9999 - val_loss: 0.0023 - val_acc: 0.9995\n",
      "Epoch 51/100\n",
      "71003/71003 [==============================] - 4s 62us/step - loss: 2.3196e-04 - acc: 0.9999 - val_loss: 0.0031 - val_acc: 0.9995\n",
      "Epoch 52/100\n",
      "71003/71003 [==============================] - 4s 58us/step - loss: 2.7047e-04 - acc: 0.9999 - val_loss: 0.0031 - val_acc: 0.9996\n",
      "Epoch 53/100\n",
      "71003/71003 [==============================] - 4s 58us/step - loss: 1.5119e-04 - acc: 0.9999 - val_loss: 0.0031 - val_acc: 0.9995\n",
      "Epoch 54/100\n",
      "71003/71003 [==============================] - 4s 55us/step - loss: 4.1001e-04 - acc: 0.9999 - val_loss: 0.0028 - val_acc: 0.9995\n",
      "Epoch 55/100\n",
      "71003/71003 [==============================] - 4s 54us/step - loss: 2.5059e-04 - acc: 0.9999 - val_loss: 0.0029 - val_acc: 0.9996\n",
      "Epoch 56/100\n",
      "71003/71003 [==============================] - 4s 56us/step - loss: 2.5291e-04 - acc: 0.9999 - val_loss: 0.0030 - val_acc: 0.9996\n",
      "Epoch 57/100\n",
      "71003/71003 [==============================] - 4s 55us/step - loss: 2.6592e-04 - acc: 0.9999 - val_loss: 0.0034 - val_acc: 0.9994\n",
      "Epoch 58/100\n",
      "71003/71003 [==============================] - 4s 54us/step - loss: 2.3309e-04 - acc: 0.9999 - val_loss: 0.0035 - val_acc: 0.9995\n",
      "Epoch 59/100\n",
      "71003/71003 [==============================] - 5s 69us/step - loss: 3.9885e-04 - acc: 0.9999 - val_loss: 0.0030 - val_acc: 0.9995\n",
      "Epoch 60/100\n",
      "71003/71003 [==============================] - 5s 67us/step - loss: 2.6986e-04 - acc: 0.9999 - val_loss: 0.0027 - val_acc: 0.9996\n",
      "Epoch 61/100\n",
      "71003/71003 [==============================] - 4s 59us/step - loss: 3.3731e-04 - acc: 0.9999 - val_loss: 0.0030 - val_acc: 0.9996\n",
      "Epoch 62/100\n",
      "71003/71003 [==============================] - 5s 72us/step - loss: 2.4141e-04 - acc: 0.9999 - val_loss: 0.0033 - val_acc: 0.9994\n",
      "Epoch 63/100\n",
      "71003/71003 [==============================] - 5s 63us/step - loss: 2.4412e-04 - acc: 0.9999 - val_loss: 0.0029 - val_acc: 0.9996\n",
      "Epoch 64/100\n",
      "71003/71003 [==============================] - 4s 59us/step - loss: 2.3831e-04 - acc: 0.9999 - val_loss: 0.0032 - val_acc: 0.9996\n",
      "Epoch 65/100\n",
      "71003/71003 [==============================] - 4s 57us/step - loss: 1.9208e-04 - acc: 0.9999 - val_loss: 0.0035 - val_acc: 0.9994\n",
      "Epoch 66/100\n",
      "71003/71003 [==============================] - 4s 56us/step - loss: 2.9977e-04 - acc: 0.9999 - val_loss: 0.0033 - val_acc: 0.9996\n",
      "Epoch 67/100\n",
      "71003/71003 [==============================] - 4s 54us/step - loss: 1.7155e-04 - acc: 0.9999 - val_loss: 0.0042 - val_acc: 0.9994\n",
      "Epoch 68/100\n",
      "71003/71003 [==============================] - 4s 54us/step - loss: 2.6225e-04 - acc: 0.9999 - val_loss: 0.0031 - val_acc: 0.9996\n",
      "Epoch 69/100\n",
      "71003/71003 [==============================] - 4s 56us/step - loss: 2.5815e-04 - acc: 0.9999 - val_loss: 0.0028 - val_acc: 0.9995\n",
      "Epoch 70/100\n",
      "71003/71003 [==============================] - 4s 54us/step - loss: 1.1193e-04 - acc: 1.0000 - val_loss: 0.0034 - val_acc: 0.9995\n",
      "Epoch 71/100\n",
      "71003/71003 [==============================] - 4s 54us/step - loss: 2.3358e-04 - acc: 0.9999 - val_loss: 0.0029 - val_acc: 0.9995\n",
      "Epoch 72/100\n",
      "71003/71003 [==============================] - 4s 54us/step - loss: 3.2834e-04 - acc: 0.9999 - val_loss: 0.0047 - val_acc: 0.9994\n",
      "Epoch 73/100\n",
      "71003/71003 [==============================] - 4s 55us/step - loss: 1.6960e-04 - acc: 0.9999 - val_loss: 0.0035 - val_acc: 0.9994\n",
      "Epoch 74/100\n",
      "71003/71003 [==============================] - 4s 56us/step - loss: 1.3682e-04 - acc: 0.9999 - val_loss: 0.0036 - val_acc: 0.9996\n",
      "Epoch 75/100\n",
      "71003/71003 [==============================] - 4s 54us/step - loss: 5.0791e-04 - acc: 0.9999 - val_loss: 0.0028 - val_acc: 0.9996\n",
      "Epoch 76/100\n",
      "71003/71003 [==============================] - 4s 54us/step - loss: 3.5567e-04 - acc: 0.9999 - val_loss: 0.0023 - val_acc: 0.9996\n",
      "Epoch 77/100\n",
      "71003/71003 [==============================] - 4s 54us/step - loss: 1.3771e-04 - acc: 0.9999 - val_loss: 0.0035 - val_acc: 0.9994\n",
      "Epoch 78/100\n",
      "71003/71003 [==============================] - 4s 53us/step - loss: 2.0765e-04 - acc: 0.9999 - val_loss: 0.0031 - val_acc: 0.9995\n",
      "Epoch 79/100\n",
      "71003/71003 [==============================] - 4s 54us/step - loss: 2.2432e-04 - acc: 0.9999 - val_loss: 0.0030 - val_acc: 0.9996\n",
      "Epoch 80/100\n",
      "71003/71003 [==============================] - 4s 55us/step - loss: 2.6434e-04 - acc: 0.9999 - val_loss: 0.0030 - val_acc: 0.9995\n",
      "Epoch 81/100\n",
      "71003/71003 [==============================] - 4s 56us/step - loss: 1.9904e-04 - acc: 0.9999 - val_loss: 0.0038 - val_acc: 0.9994\n",
      "Epoch 82/100\n",
      "71003/71003 [==============================] - 4s 56us/step - loss: 2.3152e-04 - acc: 0.9999 - val_loss: 0.0034 - val_acc: 0.9995\n",
      "Epoch 83/100\n",
      "71003/71003 [==============================] - 4s 56us/step - loss: 1.9112e-04 - acc: 0.9999 - val_loss: 0.0031 - val_acc: 0.9996\n",
      "Epoch 84/100\n",
      "71003/71003 [==============================] - 4s 55us/step - loss: 3.6677e-04 - acc: 0.9999 - val_loss: 0.0024 - val_acc: 0.9996\n",
      "Epoch 85/100\n",
      "71003/71003 [==============================] - 4s 55us/step - loss: 1.5698e-04 - acc: 1.0000 - val_loss: 0.0032 - val_acc: 0.9994\n",
      "Epoch 86/100\n",
      "71003/71003 [==============================] - 5s 75us/step - loss: 1.2272e-04 - acc: 0.9999 - val_loss: 0.0039 - val_acc: 0.9994\n",
      "Epoch 87/100\n",
      "71003/71003 [==============================] - 6s 79us/step - loss: 2.6189e-04 - acc: 0.9999 - val_loss: 0.0032 - val_acc: 0.9994\n",
      "Epoch 88/100\n",
      "71003/71003 [==============================] - 4s 59us/step - loss: 1.6766e-04 - acc: 0.9999 - val_loss: 0.0046 - val_acc: 0.9994\n",
      "Epoch 89/100\n",
      "71003/71003 [==============================] - 4s 59us/step - loss: 2.9093e-04 - acc: 0.9999 - val_loss: 0.0026 - val_acc: 0.9996\n",
      "Epoch 90/100\n",
      "71003/71003 [==============================] - 4s 59us/step - loss: 9.8523e-05 - acc: 1.0000 - val_loss: 0.0042 - val_acc: 0.9994\n",
      "Epoch 91/100\n",
      "71003/71003 [==============================] - 4s 59us/step - loss: 2.3768e-04 - acc: 0.9999 - val_loss: 0.0031 - val_acc: 0.9995\n",
      "Epoch 92/100\n",
      "71003/71003 [==============================] - 4s 59us/step - loss: 2.7100e-04 - acc: 0.9999 - val_loss: 0.0033 - val_acc: 0.9994\n",
      "Epoch 93/100\n",
      "71003/71003 [==============================] - 4s 60us/step - loss: 1.2712e-04 - acc: 0.9999 - val_loss: 0.0039 - val_acc: 0.9994\n",
      "Epoch 94/100\n",
      "71003/71003 [==============================] - 4s 60us/step - loss: 2.8051e-04 - acc: 0.9999 - val_loss: 0.0025 - val_acc: 0.9996\n",
      "Epoch 95/100\n",
      "71003/71003 [==============================] - 4s 60us/step - loss: 2.0833e-04 - acc: 0.9999 - val_loss: 0.0030 - val_acc: 0.9995\n",
      "Epoch 96/100\n",
      "71003/71003 [==============================] - 4s 61us/step - loss: 1.9645e-04 - acc: 1.0000 - val_loss: 0.0033 - val_acc: 0.9995\n",
      "Epoch 97/100\n",
      "71003/71003 [==============================] - 4s 59us/step - loss: 2.2739e-04 - acc: 0.9999 - val_loss: 0.0027 - val_acc: 0.9996\n",
      "Epoch 98/100\n",
      "71003/71003 [==============================] - 4s 60us/step - loss: 1.8579e-04 - acc: 0.9999 - val_loss: 0.0032 - val_acc: 0.9995\n",
      "Epoch 99/100\n",
      "71003/71003 [==============================] - 4s 59us/step - loss: 1.9128e-04 - acc: 0.9999 - val_loss: 0.0031 - val_acc: 0.9995\n",
      "Epoch 100/100\n",
      "71003/71003 [==============================] - 4s 61us/step - loss: 1.6896e-04 - acc: 0.9999 - val_loss: 0.0038 - val_acc: 0.9994\n"
     ]
    }
   ],
   "source": [
    "# Fit the model\n",
    "history=model.fit(X2, y2, epochs=100, batch_size=35, validation_split=0.15)"
   ]
  },
  {
   "cell_type": "code",
   "execution_count": 124,
   "metadata": {},
   "outputs": [
    {
     "name": "stdout",
     "output_type": "stream",
     "text": [
      "[[    0 59146]\n",
      " [    1   132]]\n"
     ]
    }
   ],
   "source": [
    "# show the inputs and predicted outputs\n",
    "#predictions for test dataset\n",
    "predictions = model.predict_classes(Z2)\n",
    "#for i in range(len(Z)):\n",
    " #   print(\"X=%s, Predicted=%s\" % (Z[i].astype(int), predictions[i]))\n",
    "\n",
    "\n",
    "unique, counts = np.unique(predictions, return_counts=True)\n",
    "\n",
    "print (np.asarray((unique, counts)).T)"
   ]
  },
  {
   "cell_type": "code",
   "execution_count": 125,
   "metadata": {},
   "outputs": [
    {
     "name": "stdout",
     "output_type": "stream",
     "text": [
      "59278/59278 [==============================] - 2s 29us/step\n",
      "\n",
      "loss: 42.12%\n",
      "\n",
      "acc: 97.21%\n"
     ]
    }
   ],
   "source": [
    "# Evaluate the model\n",
    "scores = model.evaluate(Z2, yy)\n",
    "#print(history.history.keys())\n",
    "print(\"\\n%s: %.2f%%\" % (model.metrics_names[0], scores[0]*100))\n",
    "print(\"\\n%s: %.2f%%\" % (model.metrics_names[1], scores[1]*100))"
   ]
  },
  {
   "cell_type": "code",
   "execution_count": 126,
   "metadata": {
    "scrolled": true
   },
   "outputs": [
    {
     "name": "stdout",
     "output_type": "stream",
     "text": [
      "              precision    recall  f1-score   support\n",
      "\n",
      "           0       0.97      1.00      0.99     57538\n",
      "           1       0.83      0.06      0.12      1740\n",
      "\n",
      "   micro avg       0.97      0.97      0.97     59278\n",
      "   macro avg       0.90      0.53      0.55     59278\n",
      "weighted avg       0.97      0.97      0.96     59278\n",
      "\n",
      "Recall score:  0.06321839080459771\n",
      "Precision score:  0.9683578181881872\n"
     ]
    }
   ],
   "source": [
    "print(classification_report(yy,predictions))\n",
    "print(\"Recall score: \", recall_score(yy,predictions))\n",
    "print(\"Precision score: \", precision_score(yy,predictions,average='weighted'))"
   ]
  },
  {
   "cell_type": "code",
   "execution_count": 127,
   "metadata": {},
   "outputs": [
    {
     "name": "stdout",
     "output_type": "stream",
     "text": [
      "Confusion matrix, without normalization\n",
      "[[57516    22]\n",
      " [ 1630   110]]\n"
     ]
    },
    {
     "data": {
      "image/png": "[encoded data removed]",
      "text/plain": [
       "<Figure size 432x288 with 2 Axes>"
      ]
     },
     "metadata": {
      "needs_background": "light"
     },
     "output_type": "display_data"
    }
   ],
   "source": [
    "cnf_matrix=confusion_matrix(yy,predictions)\n",
    "plot_confusion_matrix(cnf_matrix,classes=all_classes, title='Confusion matrix without normalization\\n')"
   ]
  },
  {
   "cell_type": "code",
   "execution_count": null,
   "metadata": {},
   "outputs": [],
   "source": [
    "# WEEK 3 classification"
   ]
  },
  {
   "cell_type": "code",
   "execution_count": 86,
   "metadata": {},
   "outputs": [],
   "source": [
    "X3=df_week3.iloc[:,[0,1,2,3,4,5,6,7,8]]\n",
    "y3=df_week3.iloc[:,[9]]\n",
    "Z3=df2.iloc[:,[1,2,9,3,4,5,6,7,8]]"
   ]
  },
  {
   "cell_type": "code",
   "execution_count": 87,
   "metadata": {},
   "outputs": [],
   "source": [
    "#Performing Z-Score Normalization\n",
    "\n",
    "X3=stats.zscore(X3)\n",
    "Z3=stats.zscore(Z3)"
   ]
  },
  {
   "cell_type": "code",
   "execution_count": 88,
   "metadata": {},
   "outputs": [],
   "source": [
    "model = Sequential()\n",
    "#First layer has  12 neurons with 9 input neurons from input layer\n",
    "\n",
    "#Adding dropout between the input layer and the first hidden layer\n",
    "model.add(Dense(12, input_dim=9, activation='softmax'))\n",
    "model.add(Dense(10, activation='relu'))\n",
    "#model.add(Dense(8, activation='softmax'))\n",
    "model.add(Dense(6, activation='tanh'))\n",
    "model.add(Dense(4, activation='softmax'))\n",
    "model.add(Dense(1, activation='sigmoid'))\n",
    "#model.add(Dropout(0.2))"
   ]
  },
  {
   "cell_type": "code",
   "execution_count": 89,
   "metadata": {},
   "outputs": [],
   "source": [
    "#We will use logarithmic loss, which for a binary classification problem is defined as “binary_crossentropy“.\n",
    "model.compile(loss='binary_crossentropy', optimizer='adam', metrics=['accuracy'])"
   ]
  },
  {
   "cell_type": "code",
   "execution_count": 90,
   "metadata": {},
   "outputs": [
    {
     "name": "stdout",
     "output_type": "stream",
     "text": [
      "Train on 62650 samples, validate on 20884 samples\n",
      "Epoch 1/100\n",
      "62650/62650 [==============================] - 3s 53us/step - loss: 0.1700 - acc: 0.9642 - val_loss: 0.0830 - val_acc: 0.9965\n",
      "Epoch 2/100\n",
      "62650/62650 [==============================] - 3s 44us/step - loss: 0.0459 - acc: 0.9978 - val_loss: 0.0401 - val_acc: 0.9944\n",
      "Epoch 3/100\n",
      "62650/62650 [==============================] - 3s 45us/step - loss: 0.0215 - acc: 0.9985 - val_loss: 0.0201 - val_acc: 0.9970\n",
      "Epoch 4/100\n",
      "62650/62650 [==============================] - 3s 45us/step - loss: 0.0117 - acc: 0.9988 - val_loss: 0.0116 - val_acc: 0.9984\n",
      "Epoch 5/100\n",
      "62650/62650 [==============================] - 3s 45us/step - loss: 0.0070 - acc: 0.9989 - val_loss: 0.0064 - val_acc: 0.9990\n",
      "Epoch 6/100\n",
      "62650/62650 [==============================] - 3s 46us/step - loss: 0.0049 - acc: 0.9990 - val_loss: 0.0046 - val_acc: 0.9990\n",
      "Epoch 7/100\n",
      "62650/62650 [==============================] - 3s 52us/step - loss: 0.0037 - acc: 0.9990 - val_loss: 0.0030 - val_acc: 0.9994\n",
      "Epoch 8/100\n",
      "62650/62650 [==============================] - 4s 69us/step - loss: 0.0031 - acc: 0.9991 - val_loss: 0.0036 - val_acc: 0.9990\n",
      "Epoch 9/100\n",
      "62650/62650 [==============================] - 8s 133us/step - loss: 0.0029 - acc: 0.9992 - val_loss: 0.0057 - val_acc: 0.9978\n",
      "Epoch 10/100\n",
      "62650/62650 [==============================] - 6s 89us/step - loss: 0.0024 - acc: 0.9993 - val_loss: 0.0031 - val_acc: 0.9990\n",
      "Epoch 11/100\n",
      "62650/62650 [==============================] - 3s 49us/step - loss: 0.0024 - acc: 0.9993 - val_loss: 0.0030 - val_acc: 0.9989\n",
      "Epoch 12/100\n",
      "62650/62650 [==============================] - 3s 46us/step - loss: 0.0023 - acc: 0.9992 - val_loss: 0.0084 - val_acc: 0.9967\n",
      "Epoch 13/100\n",
      "62650/62650 [==============================] - 4s 61us/step - loss: 0.0023 - acc: 0.9992 - val_loss: 0.0112 - val_acc: 0.9962\n",
      "Epoch 14/100\n",
      "62650/62650 [==============================] - 3s 49us/step - loss: 0.0025 - acc: 0.9991 - val_loss: 0.0023 - val_acc: 0.9990\n",
      "Epoch 15/100\n",
      "62650/62650 [==============================] - 3s 42us/step - loss: 0.0018 - acc: 0.9993 - val_loss: 0.0022 - val_acc: 0.9990\n",
      "Epoch 16/100\n",
      "62650/62650 [==============================] - 3s 46us/step - loss: 0.0021 - acc: 0.9993 - val_loss: 0.0025 - val_acc: 0.9992\n",
      "Epoch 17/100\n",
      "62650/62650 [==============================] - 3s 50us/step - loss: 0.0019 - acc: 0.9993 - val_loss: 0.0043 - val_acc: 0.9980\n",
      "Epoch 18/100\n",
      "62650/62650 [==============================] - 3s 47us/step - loss: 0.0022 - acc: 0.9991 - val_loss: 0.0023 - val_acc: 0.9989\n",
      "Epoch 19/100\n",
      "62650/62650 [==============================] - 3s 47us/step - loss: 0.0018 - acc: 0.9993 - val_loss: 0.0029 - val_acc: 0.9986\n",
      "Epoch 20/100\n",
      "62650/62650 [==============================] - 2s 39us/step - loss: 0.0016 - acc: 0.9994 - val_loss: 0.0020 - val_acc: 0.9992\n",
      "Epoch 21/100\n",
      "62650/62650 [==============================] - 5s 74us/step - loss: 0.0017 - acc: 0.9993 - val_loss: 0.0025 - val_acc: 0.9990\n",
      "Epoch 22/100\n",
      "62650/62650 [==============================] - 8s 127us/step - loss: 0.0017 - acc: 0.9993 - val_loss: 0.0015 - val_acc: 0.9995\n",
      "Epoch 23/100\n",
      "62650/62650 [==============================] - 5s 74us/step - loss: 0.0017 - acc: 0.9992 - val_loss: 0.0052 - val_acc: 0.9977\n",
      "Epoch 24/100\n",
      "62650/62650 [==============================] - 4s 67us/step - loss: 0.0017 - acc: 0.9992 - val_loss: 0.0020 - val_acc: 0.9993\n",
      "Epoch 25/100\n",
      "62650/62650 [==============================] - 5s 74us/step - loss: 0.0015 - acc: 0.9994 - val_loss: 0.0030 - val_acc: 0.9987\n",
      "Epoch 26/100\n",
      "62650/62650 [==============================] - 4s 57us/step - loss: 0.0019 - acc: 0.9993 - val_loss: 0.0019 - val_acc: 0.9992\n",
      "Epoch 27/100\n",
      "62650/62650 [==============================] - 3s 51us/step - loss: 0.0015 - acc: 0.9994 - val_loss: 0.0021 - val_acc: 0.9992\n",
      "Epoch 28/100\n",
      "62650/62650 [==============================] - 3s 55us/step - loss: 0.0016 - acc: 0.9993 - val_loss: 0.0013 - val_acc: 0.9996\n",
      "Epoch 29/100\n",
      "62650/62650 [==============================] - 3s 47us/step - loss: 0.0016 - acc: 0.9993 - val_loss: 0.0016 - val_acc: 0.9992\n",
      "Epoch 30/100\n",
      "62650/62650 [==============================] - 4s 58us/step - loss: 0.0014 - acc: 0.9995 - val_loss: 0.0035 - val_acc: 0.9987\n",
      "Epoch 31/100\n",
      "62650/62650 [==============================] - 4s 56us/step - loss: 0.0015 - acc: 0.9994 - val_loss: 0.0017 - val_acc: 0.9994\n",
      "Epoch 32/100\n",
      "62650/62650 [==============================] - 3s 48us/step - loss: 0.0015 - acc: 0.9994 - val_loss: 0.0021 - val_acc: 0.9991\n",
      "Epoch 33/100\n",
      "62650/62650 [==============================] - 3s 50us/step - loss: 0.0016 - acc: 0.9994 - val_loss: 0.0023 - val_acc: 0.9991\n",
      "Epoch 34/100\n",
      "62650/62650 [==============================] - 3s 49us/step - loss: 0.0013 - acc: 0.9995 - val_loss: 0.0034 - val_acc: 0.9987\n",
      "Epoch 35/100\n",
      "62650/62650 [==============================] - 3s 49us/step - loss: 0.0014 - acc: 0.9995 - val_loss: 0.0020 - val_acc: 0.9990\n",
      "Epoch 36/100\n",
      "62650/62650 [==============================] - 4s 62us/step - loss: 0.0013 - acc: 0.9995 - val_loss: 0.0016 - val_acc: 0.9993\n",
      "Epoch 37/100\n",
      "62650/62650 [==============================] - 4s 58us/step - loss: 0.0015 - acc: 0.9993 - val_loss: 0.0013 - val_acc: 0.9996\n",
      "Epoch 38/100\n",
      "62650/62650 [==============================] - 4s 66us/step - loss: 0.0014 - acc: 0.9994 - val_loss: 0.0028 - val_acc: 0.9987\n",
      "Epoch 39/100\n",
      "62650/62650 [==============================] - 4s 57us/step - loss: 0.0015 - acc: 0.9995 - val_loss: 0.0030 - val_acc: 0.9987\n",
      "Epoch 40/100\n",
      "62650/62650 [==============================] - 4s 67us/step - loss: 0.0013 - acc: 0.9994 - val_loss: 0.0015 - val_acc: 0.9992\n",
      "Epoch 41/100\n",
      "62650/62650 [==============================] - 4s 63us/step - loss: 0.0013 - acc: 0.9994 - val_loss: 0.0017 - val_acc: 0.9994\n",
      "Epoch 42/100\n",
      "62650/62650 [==============================] - 8s 121us/step - loss: 0.0014 - acc: 0.9994 - val_loss: 0.0014 - val_acc: 0.9997\n",
      "Epoch 43/100\n",
      "62650/62650 [==============================] - 4s 61us/step - loss: 0.0014 - acc: 0.9995 - val_loss: 0.0014 - val_acc: 0.9995\n",
      "Epoch 44/100\n",
      "62650/62650 [==============================] - 3s 53us/step - loss: 0.0012 - acc: 0.9996 - val_loss: 0.0013 - val_acc: 0.9994\n",
      "Epoch 45/100\n",
      "62650/62650 [==============================] - 3s 42us/step - loss: 0.0015 - acc: 0.9993 - val_loss: 0.0019 - val_acc: 0.9991\n",
      "Epoch 46/100\n",
      "62650/62650 [==============================] - 2s 38us/step - loss: 0.0014 - acc: 0.9994 - val_loss: 0.0023 - val_acc: 0.9992\n",
      "Epoch 47/100\n",
      "62650/62650 [==============================] - 2s 36us/step - loss: 0.0014 - acc: 0.9994 - val_loss: 0.0014 - val_acc: 0.9995\n",
      "Epoch 48/100\n",
      "62650/62650 [==============================] - 2s 36us/step - loss: 0.0011 - acc: 0.9995 - val_loss: 0.0015 - val_acc: 0.9992\n",
      "Epoch 49/100\n",
      "62650/62650 [==============================] - 3s 46us/step - loss: 0.0013 - acc: 0.9993 - val_loss: 0.0015 - val_acc: 0.9995\n",
      "Epoch 50/100\n",
      "62650/62650 [==============================] - 2s 39us/step - loss: 0.0014 - acc: 0.9995 - val_loss: 0.0012 - val_acc: 0.9997\n",
      "Epoch 51/100\n",
      "62650/62650 [==============================] - 2s 35us/step - loss: 0.0013 - acc: 0.9995 - val_loss: 0.0031 - val_acc: 0.9987\n",
      "Epoch 52/100\n",
      "62650/62650 [==============================] - 3s 40us/step - loss: 0.0011 - acc: 0.9996 - val_loss: 0.0018 - val_acc: 0.9991\n",
      "Epoch 53/100\n",
      "62650/62650 [==============================] - 3s 49us/step - loss: 0.0013 - acc: 0.9994 - val_loss: 0.0013 - val_acc: 0.9995\n",
      "Epoch 54/100\n",
      "62650/62650 [==============================] - 3s 45us/step - loss: 0.0011 - acc: 0.9996 - val_loss: 0.0017 - val_acc: 0.9991\n",
      "Epoch 55/100\n",
      "62650/62650 [==============================] - 3s 48us/step - loss: 0.0011 - acc: 0.9995 - val_loss: 0.0011 - val_acc: 0.9997\n",
      "Epoch 56/100\n",
      "62650/62650 [==============================] - 3s 49us/step - loss: 0.0011 - acc: 0.9995 - val_loss: 0.0026 - val_acc: 0.9989\n",
      "Epoch 57/100\n",
      "62650/62650 [==============================] - 3s 45us/step - loss: 0.0012 - acc: 0.9995 - val_loss: 0.0018 - val_acc: 0.9991\n",
      "Epoch 58/100\n",
      "62650/62650 [==============================] - 3s 51us/step - loss: 0.0010 - acc: 0.9996 - val_loss: 0.0062 - val_acc: 0.9980\n",
      "Epoch 59/100\n",
      "62650/62650 [==============================] - 2s 35us/step - loss: 0.0015 - acc: 0.9995 - val_loss: 0.0021 - val_acc: 0.9991\n",
      "Epoch 60/100\n",
      "62650/62650 [==============================] - 3s 53us/step - loss: 0.0013 - acc: 0.9995 - val_loss: 0.0015 - val_acc: 0.9994\n",
      "Epoch 61/100\n",
      "62650/62650 [==============================] - 3s 56us/step - loss: 0.0011 - acc: 0.9995 - val_loss: 0.0047 - val_acc: 0.9983\n",
      "Epoch 62/100\n",
      "62650/62650 [==============================] - 6s 93us/step - loss: 0.0010 - acc: 0.9995 - val_loss: 0.0023 - val_acc: 0.9990\n",
      "Epoch 63/100\n",
      "62650/62650 [==============================] - 10s 152us/step - loss: 0.0012 - acc: 0.9995 - val_loss: 0.0019 - val_acc: 0.9989\n",
      "Epoch 64/100\n",
      "62650/62650 [==============================] - 8s 131us/step - loss: 0.0013 - acc: 0.9995 - val_loss: 0.0017 - val_acc: 0.9993\n",
      "Epoch 65/100\n",
      "62650/62650 [==============================] - 8s 132us/step - loss: 9.6361e-04 - acc: 0.9996 - val_loss: 0.0014 - val_acc: 0.9994\n",
      "Epoch 66/100\n",
      "62650/62650 [==============================] - 6s 90us/step - loss: 0.0011 - acc: 0.9996 - val_loss: 0.0019 - val_acc: 0.9993\n",
      "Epoch 67/100\n",
      "62650/62650 [==============================] - 3s 54us/step - loss: 0.0012 - acc: 0.9994 - val_loss: 0.0029 - val_acc: 0.9987\n",
      "Epoch 68/100\n",
      "62650/62650 [==============================] - 4s 59us/step - loss: 0.0011 - acc: 0.9996 - val_loss: 0.0019 - val_acc: 0.9992\n",
      "Epoch 69/100\n",
      "62650/62650 [==============================] - 4s 59us/step - loss: 0.0011 - acc: 0.9996 - val_loss: 0.0014 - val_acc: 0.9995\n",
      "Epoch 70/100\n",
      "62650/62650 [==============================] - 3s 52us/step - loss: 0.0013 - acc: 0.9995 - val_loss: 0.0012 - val_acc: 0.9997\n",
      "Epoch 71/100\n",
      "62650/62650 [==============================] - 3s 40us/step - loss: 0.0011 - acc: 0.9995 - val_loss: 0.0026 - val_acc: 0.9991\n",
      "Epoch 72/100\n",
      "62650/62650 [==============================] - 3s 40us/step - loss: 9.9431e-04 - acc: 0.9996 - val_loss: 0.0014 - val_acc: 0.9994\n",
      "Epoch 73/100\n",
      "62650/62650 [==============================] - 3s 41us/step - loss: 0.0012 - acc: 0.9995 - val_loss: 0.0013 - val_acc: 0.9993\n",
      "Epoch 74/100\n",
      "62650/62650 [==============================] - 3s 41us/step - loss: 9.9103e-04 - acc: 0.9995 - val_loss: 0.0013 - val_acc: 0.9994\n",
      "Epoch 75/100\n",
      "62650/62650 [==============================] - 3s 50us/step - loss: 0.0014 - acc: 0.9994 - val_loss: 0.0017 - val_acc: 0.9990\n",
      "Epoch 76/100\n",
      "62650/62650 [==============================] - 4s 57us/step - loss: 0.0011 - acc: 0.9996 - val_loss: 0.0022 - val_acc: 0.9989\n",
      "Epoch 77/100\n",
      "62650/62650 [==============================] - 3s 49us/step - loss: 0.0012 - acc: 0.9996 - val_loss: 0.0018 - val_acc: 0.9990\n",
      "Epoch 78/100\n",
      "62650/62650 [==============================] - 3s 55us/step - loss: 0.0011 - acc: 0.9995 - val_loss: 0.0058 - val_acc: 0.9984\n",
      "Epoch 79/100\n",
      "62650/62650 [==============================] - 3s 49us/step - loss: 0.0010 - acc: 0.9996 - val_loss: 0.0015 - val_acc: 0.9992\n",
      "Epoch 80/100\n",
      "62650/62650 [==============================] - 3s 48us/step - loss: 0.0011 - acc: 0.9995 - val_loss: 0.0014 - val_acc: 0.9993\n",
      "Epoch 81/100\n",
      "62650/62650 [==============================] - 3s 51us/step - loss: 0.0011 - acc: 0.9995 - val_loss: 0.0019 - val_acc: 0.9991\n",
      "Epoch 82/100\n",
      "62650/62650 [==============================] - 5s 76us/step - loss: 0.0012 - acc: 0.9996 - val_loss: 0.0013 - val_acc: 0.9994\n",
      "Epoch 83/100\n",
      "62650/62650 [==============================] - 4s 65us/step - loss: 0.0011 - acc: 0.9996 - val_loss: 0.0017 - val_acc: 0.9993\n",
      "Epoch 84/100\n",
      "62650/62650 [==============================] - 4s 60us/step - loss: 9.7484e-04 - acc: 0.9996 - val_loss: 0.0024 - val_acc: 0.9989\n",
      "Epoch 85/100\n",
      "62650/62650 [==============================] - 5s 76us/step - loss: 0.0012 - acc: 0.9996 - val_loss: 0.0015 - val_acc: 0.9994\n",
      "Epoch 86/100\n",
      "62650/62650 [==============================] - 3s 51us/step - loss: 0.0012 - acc: 0.9996 - val_loss: 0.0022 - val_acc: 0.9989\n",
      "Epoch 87/100\n",
      "62650/62650 [==============================] - 3s 45us/step - loss: 0.0012 - acc: 0.9995 - val_loss: 0.0013 - val_acc: 0.9996\n",
      "Epoch 88/100\n",
      "62650/62650 [==============================] - 3s 51us/step - loss: 8.6047e-04 - acc: 0.9996 - val_loss: 0.0031 - val_acc: 0.9988\n",
      "Epoch 89/100\n",
      "62650/62650 [==============================] - 3s 51us/step - loss: 0.0012 - acc: 0.9995 - val_loss: 0.0064 - val_acc: 0.9978\n",
      "Epoch 90/100\n",
      "62650/62650 [==============================] - 3s 55us/step - loss: 0.0012 - acc: 0.9996 - val_loss: 0.0014 - val_acc: 0.9993\n",
      "Epoch 91/100\n",
      "62650/62650 [==============================] - 3s 40us/step - loss: 8.5943e-04 - acc: 0.9997 - val_loss: 0.0043 - val_acc: 0.9986\n",
      "Epoch 92/100\n",
      "62650/62650 [==============================] - 3s 53us/step - loss: 0.0012 - acc: 0.9996 - val_loss: 0.0022 - val_acc: 0.9989\n",
      "Epoch 93/100\n",
      "62650/62650 [==============================] - 3s 51us/step - loss: 8.7470e-04 - acc: 0.9997 - val_loss: 0.0019 - val_acc: 0.9992\n",
      "Epoch 94/100\n",
      "62650/62650 [==============================] - 3s 51us/step - loss: 0.0012 - acc: 0.9996 - val_loss: 0.0022 - val_acc: 0.9989\n",
      "Epoch 95/100\n",
      "62650/62650 [==============================] - 3s 51us/step - loss: 0.0012 - acc: 0.9995 - val_loss: 0.0014 - val_acc: 0.9995\n",
      "Epoch 96/100\n",
      "62650/62650 [==============================] - 3s 43us/step - loss: 0.0010 - acc: 0.9996 - val_loss: 0.0014 - val_acc: 0.9994\n",
      "Epoch 97/100\n",
      "62650/62650 [==============================] - 2s 38us/step - loss: 8.7836e-04 - acc: 0.9996 - val_loss: 0.0014 - val_acc: 0.9994\n",
      "Epoch 98/100\n",
      "62650/62650 [==============================] - 2s 39us/step - loss: 0.0011 - acc: 0.9995 - val_loss: 0.0019 - val_acc: 0.9991\n",
      "Epoch 99/100\n",
      "62650/62650 [==============================] - 2s 39us/step - loss: 0.0011 - acc: 0.9996 - val_loss: 0.0012 - val_acc: 0.9996\n",
      "Epoch 100/100\n",
      "62650/62650 [==============================] - 2s 39us/step - loss: 9.7103e-04 - acc: 0.9996 - val_loss: 0.0015 - val_acc: 0.9994\n"
     ]
    }
   ],
   "source": [
    "# Fit the model\n",
    "history=model.fit(X3, y3, epochs=100, batch_size=35, validation_split=0.25)"
   ]
  },
  {
   "cell_type": "code",
   "execution_count": 91,
   "metadata": {},
   "outputs": [
    {
     "name": "stdout",
     "output_type": "stream",
     "text": [
      "[[    0 56768]\n",
      " [    1  2510]]\n"
     ]
    }
   ],
   "source": [
    "# show the inputs and predicted outputs\n",
    "#predictions for test dataset\n",
    "predictions = model.predict_classes(Z3)\n",
    "#for i in range(len(Z)):\n",
    " #   print(\"X=%s, Predicted=%s\" % (Z[i].astype(int), predictions[i]))\n",
    "\n",
    "\n",
    "unique, counts = np.unique(predictions, return_counts=True)\n",
    "\n",
    "print (np.asarray((unique, counts)).T)"
   ]
  },
  {
   "cell_type": "code",
   "execution_count": 92,
   "metadata": {},
   "outputs": [
    {
     "name": "stdout",
     "output_type": "stream",
     "text": [
      "59278/59278 [==============================] - 1s 19us/step\n",
      "\n",
      "loss: 15.93%\n",
      "\n",
      "acc: 98.19%\n"
     ]
    }
   ],
   "source": [
    "# Evaluate the model\n",
    "scores = model.evaluate(Z3, yy)\n",
    "#print(history.history.keys())\n",
    "print(\"\\n%s: %.2f%%\" % (model.metrics_names[0], scores[0]*100))\n",
    "print(\"\\n%s: %.2f%%\" % (model.metrics_names[1], scores[1]*100))"
   ]
  },
  {
   "cell_type": "code",
   "execution_count": 93,
   "metadata": {
    "scrolled": true
   },
   "outputs": [
    {
     "name": "stdout",
     "output_type": "stream",
     "text": [
      "              precision    recall  f1-score   support\n",
      "\n",
      "           0       1.00      0.98      0.99     57538\n",
      "           1       0.63      0.91      0.75      1740\n",
      "\n",
      "   micro avg       0.98      0.98      0.98     59278\n",
      "   macro avg       0.82      0.95      0.87     59278\n",
      "weighted avg       0.99      0.98      0.98     59278\n",
      "\n",
      "Recall score:  0.9132183908045977\n",
      "Precision score:  0.986647486211914\n"
     ]
    }
   ],
   "source": [
    "print(classification_report(yy,predictions))\n",
    "print(\"Recall score: \", recall_score(yy,predictions))\n",
    "print(\"Precision score: \", precision_score(yy,predictions,average='weighted'))"
   ]
  },
  {
   "cell_type": "code",
   "execution_count": 94,
   "metadata": {},
   "outputs": [
    {
     "name": "stdout",
     "output_type": "stream",
     "text": [
      "Confusion matrix, without normalization\n",
      "[[56617   921]\n",
      " [  151  1589]]\n"
     ]
    },
    {
     "data": {
      "image/png": "[encoded data removed]",
      "text/plain": [
       "<Figure size 432x288 with 2 Axes>"
      ]
     },
     "metadata": {
      "needs_background": "light"
     },
     "output_type": "display_data"
    }
   ],
   "source": [
    "cnf_matrix=confusion_matrix(yy,predictions)\n",
    "plot_confusion_matrix(cnf_matrix,classes=all_classes, title='Confusion matrix without normalization\\n')"
   ]
  },
  {
   "cell_type": "code",
   "execution_count": null,
   "metadata": {},
   "outputs": [],
   "source": [
    "# Week 4 classification"
   ]
  },
  {
   "cell_type": "code",
   "execution_count": 104,
   "metadata": {},
   "outputs": [],
   "source": [
    "X4=df_week4.iloc[:,[0,1,2,3,4,5,6,7,8]]\n",
    "y4=df_week4.iloc[:,[9]]\n",
    "Z4=df2.iloc[:,[1,2,9,3,4,5,6,7,8]]"
   ]
  },
  {
   "cell_type": "code",
   "execution_count": 105,
   "metadata": {},
   "outputs": [],
   "source": [
    "#Performing Z-Score Normalization\n",
    "\n",
    "X4=stats.zscore(X4)\n",
    "Z4=stats.zscore(Z4)"
   ]
  },
  {
   "cell_type": "code",
   "execution_count": 106,
   "metadata": {},
   "outputs": [],
   "source": [
    "model = Sequential()\n",
    "#First layer has  12 neurons with 9 input neurons from input layer\n",
    "\n",
    "#Adding dropout between the input layer and the first hidden layer\n",
    "model.add(Dense(12, input_dim=9, activation='softmax'))\n",
    "model.add(Dense(10, activation='relu'))\n",
    "#model.add(Dense(8, activation='softmax'))\n",
    "model.add(Dense(6, activation='tanh'))\n",
    "model.add(Dense(4, activation='softmax'))\n",
    "model.add(Dense(1, activation='sigmoid'))\n",
    "#model.add(Dropout(0.2))"
   ]
  },
  {
   "cell_type": "code",
   "execution_count": 107,
   "metadata": {},
   "outputs": [],
   "source": [
    "#We will use logarithmic loss, which for a binary classification problem is defined as “binary_crossentropy“.\n",
    "model.compile(loss='binary_crossentropy', optimizer='adam', metrics=['accuracy'])"
   ]
  },
  {
   "cell_type": "code",
   "execution_count": 108,
   "metadata": {},
   "outputs": [
    {
     "name": "stdout",
     "output_type": "stream",
     "text": [
      "Train on 62650 samples, validate on 20884 samples\n",
      "Epoch 1/100\n",
      "62650/62650 [==============================] - 4s 66us/step - loss: 0.2165 - acc: 0.9659 - val_loss: 0.0965 - val_acc: 0.9913\n",
      "Epoch 2/100\n",
      "62650/62650 [==============================] - 3s 53us/step - loss: 0.0535 - acc: 0.9970 - val_loss: 0.0460 - val_acc: 0.9925\n",
      "Epoch 3/100\n",
      "62650/62650 [==============================] - 4s 58us/step - loss: 0.0244 - acc: 0.9980 - val_loss: 0.0238 - val_acc: 0.9962\n",
      "Epoch 4/100\n",
      "62650/62650 [==============================] - 5s 74us/step - loss: 0.0137 - acc: 0.9983 - val_loss: 0.0162 - val_acc: 0.9963\n",
      "Epoch 5/100\n",
      "62650/62650 [==============================] - 3s 55us/step - loss: 0.0085 - acc: 0.9986 - val_loss: 0.0154 - val_acc: 0.9951\n",
      "Epoch 6/100\n",
      "62650/62650 [==============================] - 4s 56us/step - loss: 0.0065 - acc: 0.9985 - val_loss: 0.0097 - val_acc: 0.9969\n",
      "Epoch 7/100\n",
      "62650/62650 [==============================] - 3s 55us/step - loss: 0.0045 - acc: 0.9990 - val_loss: 0.0094 - val_acc: 0.9966\n",
      "Epoch 8/100\n",
      "62650/62650 [==============================] - 3s 52us/step - loss: 0.0046 - acc: 0.9985 - val_loss: 0.0047 - val_acc: 0.9988\n",
      "Epoch 9/100\n",
      "62650/62650 [==============================] - 3s 53us/step - loss: 0.0036 - acc: 0.9990 - val_loss: 0.0067 - val_acc: 0.9982\n",
      "Epoch 10/100\n",
      "62650/62650 [==============================] - 3s 55us/step - loss: 0.0033 - acc: 0.9989 - val_loss: 0.0063 - val_acc: 0.9976\n",
      "Epoch 11/100\n",
      "62650/62650 [==============================] - 3s 55us/step - loss: 0.0031 - acc: 0.9989 - val_loss: 0.0062 - val_acc: 0.9977\n",
      "Epoch 12/100\n",
      "62650/62650 [==============================] - 3s 53us/step - loss: 0.0027 - acc: 0.9991 - val_loss: 0.0042 - val_acc: 0.9987\n",
      "Epoch 13/100\n",
      "62650/62650 [==============================] - 4s 56us/step - loss: 0.0028 - acc: 0.9989 - val_loss: 0.0043 - val_acc: 0.9984\n",
      "Epoch 14/100\n",
      "62650/62650 [==============================] - 4s 57us/step - loss: 0.0026 - acc: 0.9990 - val_loss: 0.0038 - val_acc: 0.9989\n",
      "Epoch 15/100\n",
      "62650/62650 [==============================] - 4s 58us/step - loss: 0.0025 - acc: 0.9991 - val_loss: 0.0094 - val_acc: 0.9964\n",
      "Epoch 16/100\n",
      "62650/62650 [==============================] - 4s 58us/step - loss: 0.0025 - acc: 0.9990 - val_loss: 0.0042 - val_acc: 0.9986\n",
      "Epoch 17/100\n",
      "62650/62650 [==============================] - 3s 53us/step - loss: 0.0022 - acc: 0.9991 - val_loss: 0.0055 - val_acc: 0.9983\n",
      "Epoch 18/100\n",
      "62650/62650 [==============================] - 3s 55us/step - loss: 0.0026 - acc: 0.9990 - val_loss: 0.0041 - val_acc: 0.9987\n",
      "Epoch 19/100\n",
      "62650/62650 [==============================] - 4s 59us/step - loss: 0.0021 - acc: 0.9991 - val_loss: 0.0052 - val_acc: 0.9979\n",
      "Epoch 20/100\n",
      "62650/62650 [==============================] - 4s 61us/step - loss: 0.0021 - acc: 0.9992 - val_loss: 0.0074 - val_acc: 0.9977\n",
      "Epoch 21/100\n",
      "62650/62650 [==============================] - 4s 58us/step - loss: 0.0024 - acc: 0.9992 - val_loss: 0.0037 - val_acc: 0.9988\n",
      "Epoch 22/100\n",
      "62650/62650 [==============================] - 3s 55us/step - loss: 0.0022 - acc: 0.9992 - val_loss: 0.0061 - val_acc: 0.9976\n",
      "Epoch 23/100\n",
      "62650/62650 [==============================] - 4s 56us/step - loss: 0.0020 - acc: 0.9992 - val_loss: 0.0043 - val_acc: 0.9983\n",
      "Epoch 24/100\n",
      "62650/62650 [==============================] - 3s 56us/step - loss: 0.0022 - acc: 0.9992 - val_loss: 0.0040 - val_acc: 0.9984\n",
      "Epoch 25/100\n",
      "62650/62650 [==============================] - 3s 56us/step - loss: 0.0019 - acc: 0.9993 - val_loss: 0.0064 - val_acc: 0.9977\n",
      "Epoch 26/100\n",
      "62650/62650 [==============================] - 4s 58us/step - loss: 0.0019 - acc: 0.9992 - val_loss: 0.0035 - val_acc: 0.9990\n",
      "Epoch 27/100\n",
      "62650/62650 [==============================] - 4s 57us/step - loss: 0.0018 - acc: 0.9993 - val_loss: 0.0039 - val_acc: 0.9987\n",
      "Epoch 28/100\n",
      "62650/62650 [==============================] - 4s 57us/step - loss: 0.0020 - acc: 0.9992 - val_loss: 0.0030 - val_acc: 0.9993\n",
      "Epoch 29/100\n",
      "62650/62650 [==============================] - 3s 55us/step - loss: 0.0019 - acc: 0.9993 - val_loss: 0.0056 - val_acc: 0.9978\n",
      "Epoch 30/100\n",
      "62650/62650 [==============================] - 4s 56us/step - loss: 0.0019 - acc: 0.9992 - val_loss: 0.0056 - val_acc: 0.9983\n",
      "Epoch 31/100\n",
      "62650/62650 [==============================] - 4s 56us/step - loss: 0.0019 - acc: 0.9992 - val_loss: 0.0056 - val_acc: 0.9978\n",
      "Epoch 32/100\n",
      "62650/62650 [==============================] - 3s 55us/step - loss: 0.0017 - acc: 0.9993 - val_loss: 0.0048 - val_acc: 0.9984\n",
      "Epoch 33/100\n",
      "62650/62650 [==============================] - 4s 56us/step - loss: 0.0017 - acc: 0.9994 - val_loss: 0.0046 - val_acc: 0.9984\n",
      "Epoch 34/100\n",
      "62650/62650 [==============================] - 3s 56us/step - loss: 0.0017 - acc: 0.9993 - val_loss: 0.0051 - val_acc: 0.9985\n",
      "Epoch 35/100\n",
      "62650/62650 [==============================] - 4s 57us/step - loss: 0.0019 - acc: 0.9992 - val_loss: 0.0046 - val_acc: 0.9985\n",
      "Epoch 36/100\n",
      "62650/62650 [==============================] - 3s 51us/step - loss: 0.0018 - acc: 0.9994 - val_loss: 0.0037 - val_acc: 0.9990\n",
      "Epoch 37/100\n",
      "62650/62650 [==============================] - 3s 50us/step - loss: 0.0015 - acc: 0.9994 - val_loss: 0.0054 - val_acc: 0.9984\n",
      "Epoch 38/100\n",
      "62650/62650 [==============================] - 3s 50us/step - loss: 0.0017 - acc: 0.9994 - val_loss: 0.0051 - val_acc: 0.9981\n",
      "Epoch 39/100\n",
      "62650/62650 [==============================] - 3s 51us/step - loss: 0.0018 - acc: 0.9992 - val_loss: 0.0046 - val_acc: 0.9985\n",
      "Epoch 40/100\n",
      "62650/62650 [==============================] - 3s 51us/step - loss: 0.0016 - acc: 0.9994 - val_loss: 0.0046 - val_acc: 0.9984\n",
      "Epoch 41/100\n",
      "62650/62650 [==============================] - 3s 53us/step - loss: 0.0015 - acc: 0.9993 - val_loss: 0.0044 - val_acc: 0.9988\n",
      "Epoch 42/100\n",
      "62650/62650 [==============================] - 3s 50us/step - loss: 0.0019 - acc: 0.9993 - val_loss: 0.0048 - val_acc: 0.9989\n",
      "Epoch 43/100\n",
      "62650/62650 [==============================] - 3s 51us/step - loss: 0.0015 - acc: 0.9994 - val_loss: 0.0051 - val_acc: 0.9980\n",
      "Epoch 44/100\n",
      "62650/62650 [==============================] - 3s 50us/step - loss: 0.0016 - acc: 0.9995 - val_loss: 0.0058 - val_acc: 0.9981\n",
      "Epoch 45/100\n",
      "62650/62650 [==============================] - 3s 51us/step - loss: 0.0014 - acc: 0.9994 - val_loss: 0.0081 - val_acc: 0.9972\n",
      "Epoch 46/100\n",
      "62650/62650 [==============================] - 3s 51us/step - loss: 0.0016 - acc: 0.9993 - val_loss: 0.0047 - val_acc: 0.9988\n",
      "Epoch 47/100\n",
      "62650/62650 [==============================] - 4s 57us/step - loss: 0.0016 - acc: 0.9994 - val_loss: 0.0045 - val_acc: 0.9987\n",
      "Epoch 48/100\n",
      "62650/62650 [==============================] - 4s 71us/step - loss: 0.0013 - acc: 0.9995 - val_loss: 0.0039 - val_acc: 0.9989\n",
      "Epoch 49/100\n",
      "62650/62650 [==============================] - 5s 74us/step - loss: 0.0015 - acc: 0.9994 - val_loss: 0.0073 - val_acc: 0.9973\n",
      "Epoch 50/100\n",
      "62650/62650 [==============================] - 5s 72us/step - loss: 0.0015 - acc: 0.9993 - val_loss: 0.0063 - val_acc: 0.9978\n",
      "Epoch 51/100\n",
      "62650/62650 [==============================] - 4s 64us/step - loss: 0.0015 - acc: 0.9994 - val_loss: 0.0057 - val_acc: 0.9982\n",
      "Epoch 52/100\n",
      "62650/62650 [==============================] - 4s 62us/step - loss: 0.0015 - acc: 0.9994 - val_loss: 0.0086 - val_acc: 0.9970\n",
      "Epoch 53/100\n",
      "62650/62650 [==============================] - 4s 64us/step - loss: 0.0014 - acc: 0.9994 - val_loss: 0.0049 - val_acc: 0.9986\n",
      "Epoch 54/100\n",
      "62650/62650 [==============================] - 4s 61us/step - loss: 0.0015 - acc: 0.9994 - val_loss: 0.0064 - val_acc: 0.9985\n",
      "Epoch 55/100\n",
      "62650/62650 [==============================] - 4s 60us/step - loss: 0.0014 - acc: 0.9994 - val_loss: 0.0052 - val_acc: 0.9988\n",
      "Epoch 56/100\n",
      "62650/62650 [==============================] - 4s 60us/step - loss: 0.0014 - acc: 0.9994 - val_loss: 0.0055 - val_acc: 0.9985\n",
      "Epoch 57/100\n",
      "62650/62650 [==============================] - 4s 60us/step - loss: 0.0013 - acc: 0.9993 - val_loss: 0.0059 - val_acc: 0.9984\n",
      "Epoch 58/100\n",
      "62650/62650 [==============================] - 4s 60us/step - loss: 0.0013 - acc: 0.9995 - val_loss: 0.0074 - val_acc: 0.9977\n",
      "Epoch 59/100\n",
      "62650/62650 [==============================] - 3s 49us/step - loss: 0.0013 - acc: 0.9994 - val_loss: 0.0072 - val_acc: 0.9979\n",
      "Epoch 60/100\n",
      "62650/62650 [==============================] - 3s 49us/step - loss: 0.0013 - acc: 0.9994 - val_loss: 0.0049 - val_acc: 0.9986\n",
      "Epoch 61/100\n",
      "62650/62650 [==============================] - 3s 49us/step - loss: 0.0014 - acc: 0.9994 - val_loss: 0.0041 - val_acc: 0.9990\n",
      "Epoch 62/100\n",
      "62650/62650 [==============================] - 3s 49us/step - loss: 0.0012 - acc: 0.9995 - val_loss: 0.0048 - val_acc: 0.9987\n",
      "Epoch 63/100\n",
      "62650/62650 [==============================] - 3s 50us/step - loss: 0.0014 - acc: 0.9994 - val_loss: 0.0061 - val_acc: 0.9980\n",
      "Epoch 64/100\n",
      "62650/62650 [==============================] - 3s 49us/step - loss: 0.0012 - acc: 0.9995 - val_loss: 0.0103 - val_acc: 0.9965\n",
      "Epoch 65/100\n",
      "62650/62650 [==============================] - 3s 52us/step - loss: 0.0014 - acc: 0.9994 - val_loss: 0.0086 - val_acc: 0.9969\n",
      "Epoch 66/100\n",
      "62650/62650 [==============================] - 3s 50us/step - loss: 0.0013 - acc: 0.9994 - val_loss: 0.0082 - val_acc: 0.9977\n",
      "Epoch 67/100\n",
      "62650/62650 [==============================] - 4s 66us/step - loss: 0.0012 - acc: 0.9995 - val_loss: 0.0053 - val_acc: 0.9986\n",
      "Epoch 68/100\n",
      "62650/62650 [==============================] - 4s 62us/step - loss: 0.0015 - acc: 0.9995 - val_loss: 0.0062 - val_acc: 0.9985\n",
      "Epoch 69/100\n",
      "62650/62650 [==============================] - 5s 84us/step - loss: 0.0013 - acc: 0.9994 - val_loss: 0.0059 - val_acc: 0.9989\n",
      "Epoch 70/100\n",
      "62650/62650 [==============================] - 4s 58us/step - loss: 0.0014 - acc: 0.9994 - val_loss: 0.0074 - val_acc: 0.9978\n",
      "Epoch 71/100\n",
      "62650/62650 [==============================] - 3s 42us/step - loss: 0.0013 - acc: 0.9996 - val_loss: 0.0064 - val_acc: 0.9981\n",
      "Epoch 72/100\n",
      "62650/62650 [==============================] - 3s 41us/step - loss: 0.0013 - acc: 0.9996 - val_loss: 0.0054 - val_acc: 0.9986\n",
      "Epoch 73/100\n",
      "62650/62650 [==============================] - 3s 41us/step - loss: 0.0014 - acc: 0.9994 - val_loss: 0.0077 - val_acc: 0.9982\n",
      "Epoch 74/100\n",
      "62650/62650 [==============================] - 3s 52us/step - loss: 0.0013 - acc: 0.9995 - val_loss: 0.0073 - val_acc: 0.9979\n",
      "Epoch 75/100\n",
      "62650/62650 [==============================] - 3s 41us/step - loss: 0.0013 - acc: 0.9994 - val_loss: 0.0061 - val_acc: 0.9985\n",
      "Epoch 76/100\n",
      "62650/62650 [==============================] - 3s 41us/step - loss: 0.0014 - acc: 0.9995 - val_loss: 0.0065 - val_acc: 0.9984\n",
      "Epoch 77/100\n",
      "62650/62650 [==============================] - 3s 42us/step - loss: 0.0012 - acc: 0.9994 - val_loss: 0.0063 - val_acc: 0.9981\n",
      "Epoch 78/100\n",
      "62650/62650 [==============================] - 3s 53us/step - loss: 0.0013 - acc: 0.9994 - val_loss: 0.0058 - val_acc: 0.9987\n",
      "Epoch 79/100\n",
      "62650/62650 [==============================] - 4s 67us/step - loss: 0.0013 - acc: 0.9995 - val_loss: 0.0064 - val_acc: 0.9986\n",
      "Epoch 80/100\n",
      "62650/62650 [==============================] - 3s 52us/step - loss: 0.0015 - acc: 0.9995 - val_loss: 0.0059 - val_acc: 0.9987\n",
      "Epoch 81/100\n",
      "62650/62650 [==============================] - 3s 41us/step - loss: 9.8251e-04 - acc: 0.9996 - val_loss: 0.0072 - val_acc: 0.9981\n",
      "Epoch 82/100\n",
      "62650/62650 [==============================] - 3s 43us/step - loss: 0.0013 - acc: 0.9994 - val_loss: 0.0065 - val_acc: 0.9985\n",
      "Epoch 83/100\n",
      "62650/62650 [==============================] - 3s 41us/step - loss: 0.0012 - acc: 0.9995 - val_loss: 0.0065 - val_acc: 0.9986\n",
      "Epoch 84/100\n",
      "62650/62650 [==============================] - 3s 45us/step - loss: 0.0013 - acc: 0.9996 - val_loss: 0.0060 - val_acc: 0.9987\n",
      "Epoch 85/100\n",
      "62650/62650 [==============================] - 3s 44us/step - loss: 0.0013 - acc: 0.9994 - val_loss: 0.0063 - val_acc: 0.9988\n",
      "Epoch 86/100\n",
      "62650/62650 [==============================] - 4s 62us/step - loss: 0.0012 - acc: 0.9996 - val_loss: 0.0066 - val_acc: 0.9987\n",
      "Epoch 87/100\n",
      "62650/62650 [==============================] - 3s 44us/step - loss: 0.0012 - acc: 0.9995 - val_loss: 0.0056 - val_acc: 0.9987\n",
      "Epoch 88/100\n",
      "62650/62650 [==============================] - 3s 45us/step - loss: 0.0012 - acc: 0.9994 - val_loss: 0.0078 - val_acc: 0.9977\n",
      "Epoch 89/100\n",
      "62650/62650 [==============================] - 4s 58us/step - loss: 0.0013 - acc: 0.9994 - val_loss: 0.0062 - val_acc: 0.9986\n",
      "Epoch 90/100\n",
      "62650/62650 [==============================] - 5s 80us/step - loss: 0.0013 - acc: 0.9995 - val_loss: 0.0065 - val_acc: 0.9989\n",
      "Epoch 91/100\n",
      "62650/62650 [==============================] - 5s 73us/step - loss: 0.0013 - acc: 0.9995 - val_loss: 0.0058 - val_acc: 0.9988\n",
      "Epoch 92/100\n",
      "62650/62650 [==============================] - 4s 64us/step - loss: 0.0010 - acc: 0.9997 - val_loss: 0.0048 - val_acc: 0.9986\n",
      "Epoch 93/100\n",
      "62650/62650 [==============================] - 4s 62us/step - loss: 0.0015 - acc: 0.9994 - val_loss: 0.0058 - val_acc: 0.9987\n",
      "Epoch 94/100\n",
      "62650/62650 [==============================] - 4s 62us/step - loss: 0.0011 - acc: 0.9995 - val_loss: 0.0074 - val_acc: 0.9979\n",
      "Epoch 95/100\n",
      "62650/62650 [==============================] - 4s 62us/step - loss: 0.0012 - acc: 0.9995 - val_loss: 0.0076 - val_acc: 0.9984\n",
      "Epoch 96/100\n",
      "62650/62650 [==============================] - 4s 63us/step - loss: 0.0012 - acc: 0.9995 - val_loss: 0.0090 - val_acc: 0.9972\n",
      "Epoch 97/100\n",
      "62650/62650 [==============================] - 4s 62us/step - loss: 0.0014 - acc: 0.9995 - val_loss: 0.0068 - val_acc: 0.9983\n",
      "Epoch 98/100\n",
      "62650/62650 [==============================] - 4s 67us/step - loss: 0.0012 - acc: 0.9995 - val_loss: 0.0078 - val_acc: 0.9981\n",
      "Epoch 99/100\n",
      "62650/62650 [==============================] - 4s 66us/step - loss: 0.0012 - acc: 0.9995 - val_loss: 0.0083 - val_acc: 0.9981\n",
      "Epoch 100/100\n",
      "62650/62650 [==============================] - 4s 64us/step - loss: 0.0013 - acc: 0.9995 - val_loss: 0.0066 - val_acc: 0.9983\n"
     ]
    }
   ],
   "source": [
    "# Fit the model\n",
    "history=model.fit(X4, y4, epochs=100, batch_size=35, validation_split=0.25)"
   ]
  },
  {
   "cell_type": "code",
   "execution_count": 109,
   "metadata": {},
   "outputs": [
    {
     "name": "stdout",
     "output_type": "stream",
     "text": [
      "[[    0 57074]\n",
      " [    1  2204]]\n"
     ]
    }
   ],
   "source": [
    "# show the inputs and predicted outputs\n",
    "#predictions for test dataset\n",
    "predictions = model.predict_classes(Z4)\n",
    "#for i in range(len(Z)):\n",
    " #   print(\"X=%s, Predicted=%s\" % (Z[i].astype(int), predictions[i]))\n",
    "\n",
    "\n",
    "unique, counts = np.unique(predictions, return_counts=True)\n",
    "\n",
    "print (np.asarray((unique, counts)).T)"
   ]
  },
  {
   "cell_type": "code",
   "execution_count": 110,
   "metadata": {},
   "outputs": [
    {
     "name": "stdout",
     "output_type": "stream",
     "text": [
      "59278/59278 [==============================] - 1s 25us/step\n",
      "\n",
      "loss: 12.24%\n",
      "\n",
      "acc: 98.50%\n"
     ]
    }
   ],
   "source": [
    "# Evaluate the model\n",
    "scores = model.evaluate(Z4, yy)\n",
    "#print(history.history.keys())\n",
    "print(\"\\n%s: %.2f%%\" % (model.metrics_names[0], scores[0]*100))\n",
    "print(\"\\n%s: %.2f%%\" % (model.metrics_names[1], scores[1]*100))"
   ]
  },
  {
   "cell_type": "code",
   "execution_count": 111,
   "metadata": {
    "scrolled": true
   },
   "outputs": [
    {
     "name": "stdout",
     "output_type": "stream",
     "text": [
      "              precision    recall  f1-score   support\n",
      "\n",
      "           0       1.00      0.99      0.99     57538\n",
      "           1       0.69      0.88      0.77      1740\n",
      "\n",
      "   micro avg       0.99      0.99      0.99     59278\n",
      "   macro avg       0.84      0.93      0.88     59278\n",
      "weighted avg       0.99      0.99      0.99     59278\n",
      "\n",
      "Recall score:  0.8781609195402299\n",
      "Precision score:  0.9873914820445342\n"
     ]
    }
   ],
   "source": [
    "print(classification_report(yy,predictions))\n",
    "print(\"Recall score: \", recall_score(yy,predictions))\n",
    "print(\"Precision score: \", precision_score(yy,predictions,average='weighted'))"
   ]
  },
  {
   "cell_type": "code",
   "execution_count": 112,
   "metadata": {},
   "outputs": [
    {
     "name": "stdout",
     "output_type": "stream",
     "text": [
      "Confusion matrix, without normalization\n",
      "[[56862   676]\n",
      " [  212  1528]]\n"
     ]
    },
    {
     "data": {
      "image/png": "[encoded data removed]",
      "text/plain": [
       "<Figure size 432x288 with 2 Axes>"
      ]
     },
     "metadata": {
      "needs_background": "light"
     },
     "output_type": "display_data"
    }
   ],
   "source": [
    "cnf_matrix=confusion_matrix(yy,predictions)\n",
    "plot_confusion_matrix(cnf_matrix,classes=all_classes, title='Confusion matrix without normalization\\n')"
   ]
  },
  {
   "cell_type": "code",
   "execution_count": null,
   "metadata": {},
   "outputs": [],
   "source": [
    "#Week 5 classification"
   ]
  },
  {
   "cell_type": "code",
   "execution_count": 113,
   "metadata": {},
   "outputs": [],
   "source": [
    "X5=df_week5.iloc[:,[0,1,2,3,4,5,6,7,8]]\n",
    "y5=df_week5.iloc[:,[9]]\n",
    "Z5=df2.iloc[:,[1,2,9,3,4,5,6,7,8]]"
   ]
  },
  {
   "cell_type": "code",
   "execution_count": 114,
   "metadata": {},
   "outputs": [],
   "source": [
    "#Performing Z-Score Normalization\n",
    "\n",
    "X5=stats.zscore(X5)\n",
    "Z5=stats.zscore(Z5)"
   ]
  },
  {
   "cell_type": "code",
   "execution_count": 115,
   "metadata": {},
   "outputs": [],
   "source": [
    "model = Sequential()\n",
    "#First layer has  12 neurons with 9 input neurons from input layer\n",
    "\n",
    "#Adding dropout between the input layer and the first hidden layer\n",
    "model.add(Dense(12, input_dim=9, activation='softmax'))\n",
    "model.add(Dense(10, activation='relu'))\n",
    "#model.add(Dense(8, activation='softmax'))\n",
    "model.add(Dense(6, activation='tanh'))\n",
    "model.add(Dense(4, activation='softmax'))\n",
    "model.add(Dense(1, activation='sigmoid'))\n",
    "#model.add(Dropout(0.2))"
   ]
  },
  {
   "cell_type": "code",
   "execution_count": 116,
   "metadata": {},
   "outputs": [],
   "source": [
    "#We will use logarithmic loss, which for a binary classification problem is defined as “binary_crossentropy“.\n",
    "model.compile(loss='binary_crossentropy', optimizer='adam', metrics=['accuracy'])"
   ]
  },
  {
   "cell_type": "code",
   "execution_count": 118,
   "metadata": {},
   "outputs": [
    {
     "name": "stdout",
     "output_type": "stream",
     "text": [
      "Train on 71003 samples, validate on 12531 samples\n",
      "Epoch 1/100\n",
      "71003/71003 [==============================] - 4s 50us/step - loss: 0.0012 - acc: 0.9995 - val_loss: 0.0036 - val_acc: 0.9994\n",
      "Epoch 2/100\n",
      "71003/71003 [==============================] - 4s 50us/step - loss: 0.0014 - acc: 0.9994 - val_loss: 0.0033 - val_acc: 0.9995\n",
      "Epoch 3/100\n",
      "71003/71003 [==============================] - 4s 50us/step - loss: 0.0012 - acc: 0.9995 - val_loss: 0.0032 - val_acc: 0.9995\n",
      "Epoch 4/100\n",
      "71003/71003 [==============================] - 4s 55us/step - loss: 0.0013 - acc: 0.9994 - val_loss: 0.0049 - val_acc: 0.9991\n",
      "Epoch 5/100\n",
      "71003/71003 [==============================] - 4s 55us/step - loss: 0.0013 - acc: 0.9995 - val_loss: 0.0037 - val_acc: 0.9994\n",
      "Epoch 6/100\n",
      "71003/71003 [==============================] - 4s 58us/step - loss: 0.0012 - acc: 0.9995 - val_loss: 0.0037 - val_acc: 0.9994\n",
      "Epoch 7/100\n",
      "71003/71003 [==============================] - 4s 52us/step - loss: 0.0014 - acc: 0.9994 - val_loss: 0.0039 - val_acc: 0.9994\n",
      "Epoch 8/100\n",
      "71003/71003 [==============================] - 4s 53us/step - loss: 0.0012 - acc: 0.9996 - val_loss: 0.0037 - val_acc: 0.9994\n",
      "Epoch 9/100\n",
      "71003/71003 [==============================] - 4s 52us/step - loss: 0.0012 - acc: 0.9995 - val_loss: 0.0034 - val_acc: 0.9994\n",
      "Epoch 10/100\n",
      "71003/71003 [==============================] - 4s 53us/step - loss: 0.0012 - acc: 0.9995 - val_loss: 0.0042 - val_acc: 0.9991\n",
      "Epoch 11/100\n",
      "71003/71003 [==============================] - 4s 52us/step - loss: 0.0013 - acc: 0.9995 - val_loss: 0.0031 - val_acc: 0.9995\n",
      "Epoch 12/100\n",
      "71003/71003 [==============================] - 4s 61us/step - loss: 0.0013 - acc: 0.9994 - val_loss: 0.0036 - val_acc: 0.9994\n",
      "Epoch 13/100\n",
      "71003/71003 [==============================] - 5s 70us/step - loss: 0.0013 - acc: 0.9995 - val_loss: 0.0032 - val_acc: 0.9994\n",
      "Epoch 14/100\n",
      "71003/71003 [==============================] - 5s 64us/step - loss: 0.0012 - acc: 0.9994 - val_loss: 0.0034 - val_acc: 0.9995\n",
      "Epoch 15/100\n",
      "71003/71003 [==============================] - 3s 46us/step - loss: 0.0012 - acc: 0.9995 - val_loss: 0.0037 - val_acc: 0.9996\n",
      "Epoch 16/100\n",
      "71003/71003 [==============================] - 3s 40us/step - loss: 0.0013 - acc: 0.9995 - val_loss: 0.0033 - val_acc: 0.9995\n",
      "Epoch 17/100\n",
      "71003/71003 [==============================] - 3s 40us/step - loss: 0.0013 - acc: 0.9995 - val_loss: 0.0036 - val_acc: 0.9995\n",
      "Epoch 18/100\n",
      "71003/71003 [==============================] - 3s 40us/step - loss: 0.0013 - acc: 0.9994 - val_loss: 0.0038 - val_acc: 0.9995\n",
      "Epoch 19/100\n",
      "71003/71003 [==============================] - 3s 41us/step - loss: 0.0012 - acc: 0.9995 - val_loss: 0.0034 - val_acc: 0.9995\n",
      "Epoch 20/100\n",
      "71003/71003 [==============================] - 3s 41us/step - loss: 0.0012 - acc: 0.9995 - val_loss: 0.0037 - val_acc: 0.9994\n",
      "Epoch 21/100\n",
      "71003/71003 [==============================] - 3s 42us/step - loss: 0.0012 - acc: 0.9996 - val_loss: 0.0033 - val_acc: 0.9995\n",
      "Epoch 22/100\n",
      "71003/71003 [==============================] - 3s 40us/step - loss: 0.0013 - acc: 0.9994 - val_loss: 0.0036 - val_acc: 0.9994\n",
      "Epoch 23/100\n",
      "71003/71003 [==============================] - 3s 40us/step - loss: 0.0013 - acc: 0.9995 - val_loss: 0.0039 - val_acc: 0.9994\n",
      "Epoch 24/100\n",
      "71003/71003 [==============================] - 3s 39us/step - loss: 0.0013 - acc: 0.9994 - val_loss: 0.0041 - val_acc: 0.9994\n",
      "Epoch 25/100\n",
      "71003/71003 [==============================] - 3s 40us/step - loss: 0.0013 - acc: 0.9995 - val_loss: 0.0035 - val_acc: 0.9995\n",
      "Epoch 26/100\n",
      "71003/71003 [==============================] - 3s 40us/step - loss: 0.0012 - acc: 0.9995 - val_loss: 0.0051 - val_acc: 0.9991\n",
      "Epoch 27/100\n",
      "71003/71003 [==============================] - 3s 40us/step - loss: 0.0013 - acc: 0.9995 - val_loss: 0.0034 - val_acc: 0.9995\n",
      "Epoch 28/100\n",
      "71003/71003 [==============================] - 3s 39us/step - loss: 9.8752e-04 - acc: 0.9996 - val_loss: 0.0069 - val_acc: 0.9991\n",
      "Epoch 29/100\n",
      "71003/71003 [==============================] - 3s 40us/step - loss: 0.0013 - acc: 0.9994 - val_loss: 0.0032 - val_acc: 0.9994\n",
      "Epoch 30/100\n",
      "71003/71003 [==============================] - 3s 40us/step - loss: 0.0010 - acc: 0.9996 - val_loss: 0.0034 - val_acc: 0.9995\n",
      "Epoch 31/100\n",
      "71003/71003 [==============================] - 3s 40us/step - loss: 0.0012 - acc: 0.9995 - val_loss: 0.0041 - val_acc: 0.9994\n",
      "Epoch 32/100\n",
      "71003/71003 [==============================] - 3s 40us/step - loss: 0.0011 - acc: 0.9996 - val_loss: 0.0033 - val_acc: 0.9996\n",
      "Epoch 33/100\n",
      "71003/71003 [==============================] - 3s 40us/step - loss: 0.0012 - acc: 0.9995 - val_loss: 0.0032 - val_acc: 0.9995\n",
      "Epoch 34/100\n",
      "71003/71003 [==============================] - 3s 40us/step - loss: 0.0011 - acc: 0.9995 - val_loss: 0.0034 - val_acc: 0.9994\n",
      "Epoch 35/100\n",
      "71003/71003 [==============================] - 3s 41us/step - loss: 0.0011 - acc: 0.9995 - val_loss: 0.0037 - val_acc: 0.9995\n",
      "Epoch 36/100\n",
      "71003/71003 [==============================] - 3s 40us/step - loss: 9.4347e-04 - acc: 0.9996 - val_loss: 0.0059 - val_acc: 0.9991\n",
      "Epoch 37/100\n",
      "71003/71003 [==============================] - 3s 40us/step - loss: 0.0012 - acc: 0.9995 - val_loss: 0.0039 - val_acc: 0.9995\n",
      "Epoch 38/100\n",
      "71003/71003 [==============================] - 3s 45us/step - loss: 0.0011 - acc: 0.9995 - val_loss: 0.0035 - val_acc: 0.9995\n",
      "Epoch 39/100\n",
      "71003/71003 [==============================] - 3s 42us/step - loss: 0.0011 - acc: 0.9995 - val_loss: 0.0038 - val_acc: 0.9994\n",
      "Epoch 40/100\n",
      "71003/71003 [==============================] - 3s 39us/step - loss: 0.0012 - acc: 0.9995 - val_loss: 0.0041 - val_acc: 0.9994\n",
      "Epoch 41/100\n",
      "71003/71003 [==============================] - 3s 40us/step - loss: 0.0011 - acc: 0.9996 - val_loss: 0.0041 - val_acc: 0.9994\n",
      "Epoch 42/100\n",
      "71003/71003 [==============================] - 3s 40us/step - loss: 0.0011 - acc: 0.9996 - val_loss: 0.0042 - val_acc: 0.9994\n",
      "Epoch 43/100\n",
      "71003/71003 [==============================] - 3s 40us/step - loss: 0.0013 - acc: 0.9995 - val_loss: 0.0032 - val_acc: 0.9996\n",
      "Epoch 44/100\n",
      "71003/71003 [==============================] - 3s 40us/step - loss: 0.0011 - acc: 0.9995 - val_loss: 0.0037 - val_acc: 0.9995\n",
      "Epoch 45/100\n",
      "71003/71003 [==============================] - 3s 40us/step - loss: 0.0012 - acc: 0.9994 - val_loss: 0.0040 - val_acc: 0.9994\n",
      "Epoch 46/100\n",
      "71003/71003 [==============================] - 3s 40us/step - loss: 0.0011 - acc: 0.9995 - val_loss: 0.0039 - val_acc: 0.9994\n",
      "Epoch 47/100\n",
      "71003/71003 [==============================] - 3s 40us/step - loss: 0.0011 - acc: 0.9996 - val_loss: 0.0037 - val_acc: 0.9995\n",
      "Epoch 48/100\n",
      "71003/71003 [==============================] - 3s 40us/step - loss: 0.0011 - acc: 0.9995 - val_loss: 0.0046 - val_acc: 0.9994\n",
      "Epoch 49/100\n",
      "71003/71003 [==============================] - 3s 45us/step - loss: 0.0010 - acc: 0.9996 - val_loss: 0.0047 - val_acc: 0.9994\n",
      "Epoch 50/100\n",
      "71003/71003 [==============================] - 4s 52us/step - loss: 0.0012 - acc: 0.9995 - val_loss: 0.0042 - val_acc: 0.9995\n",
      "Epoch 51/100\n",
      "71003/71003 [==============================] - 5s 70us/step - loss: 0.0011 - acc: 0.9995 - val_loss: 0.0036 - val_acc: 0.9995\n",
      "Epoch 52/100\n",
      "71003/71003 [==============================] - 6s 87us/step - loss: 0.0011 - acc: 0.9996 - val_loss: 0.0039 - val_acc: 0.9994\n",
      "Epoch 53/100\n",
      "71003/71003 [==============================] - 4s 51us/step - loss: 0.0010 - acc: 0.9995 - val_loss: 0.0039 - val_acc: 0.9994\n",
      "Epoch 54/100\n",
      "71003/71003 [==============================] - 4s 53us/step - loss: 0.0012 - acc: 0.9995 - val_loss: 0.0035 - val_acc: 0.9995\n",
      "Epoch 55/100\n",
      "71003/71003 [==============================] - 3s 45us/step - loss: 0.0012 - acc: 0.9994 - val_loss: 0.0036 - val_acc: 0.9995\n",
      "Epoch 56/100\n",
      "71003/71003 [==============================] - 4s 55us/step - loss: 0.0012 - acc: 0.9995 - val_loss: 0.0037 - val_acc: 0.9994\n",
      "Epoch 57/100\n",
      "71003/71003 [==============================] - 4s 52us/step - loss: 9.4849e-04 - acc: 0.9996 - val_loss: 0.0041 - val_acc: 0.9995\n",
      "Epoch 58/100\n",
      "71003/71003 [==============================] - 3s 42us/step - loss: 0.0011 - acc: 0.9996 - val_loss: 0.0040 - val_acc: 0.9995\n",
      "Epoch 59/100\n",
      "71003/71003 [==============================] - 4s 52us/step - loss: 0.0010 - acc: 0.9996 - val_loss: 0.0035 - val_acc: 0.9995\n",
      "Epoch 60/100\n",
      "71003/71003 [==============================] - 4s 52us/step - loss: 0.0010 - acc: 0.9995 - val_loss: 0.0040 - val_acc: 0.9995\n",
      "Epoch 61/100\n",
      "71003/71003 [==============================] - 5s 65us/step - loss: 0.0011 - acc: 0.9995 - val_loss: 0.0043 - val_acc: 0.9994\n",
      "Epoch 62/100\n",
      "71003/71003 [==============================] - 7s 93us/step - loss: 8.8166e-04 - acc: 0.9997 - val_loss: 0.0041 - val_acc: 0.9995\n",
      "Epoch 63/100\n",
      "71003/71003 [==============================] - 4s 54us/step - loss: 0.0011 - acc: 0.9996 - val_loss: 0.0039 - val_acc: 0.9994\n",
      "Epoch 64/100\n",
      "71003/71003 [==============================] - 4s 62us/step - loss: 0.0010 - acc: 0.9996 - val_loss: 0.0051 - val_acc: 0.9994\n",
      "Epoch 65/100\n",
      "71003/71003 [==============================] - 6s 87us/step - loss: 0.0011 - acc: 0.9996 - val_loss: 0.0039 - val_acc: 0.9995\n",
      "Epoch 66/100\n",
      "71003/71003 [==============================] - 4s 57us/step - loss: 8.8625e-04 - acc: 0.9996 - val_loss: 0.0043 - val_acc: 0.9995\n",
      "Epoch 67/100\n",
      "71003/71003 [==============================] - 4s 53us/step - loss: 0.0011 - acc: 0.9995 - val_loss: 0.0044 - val_acc: 0.9994\n",
      "Epoch 68/100\n",
      "71003/71003 [==============================] - 4s 53us/step - loss: 9.5592e-04 - acc: 0.9995 - val_loss: 0.0038 - val_acc: 0.9995\n",
      "Epoch 69/100\n",
      "71003/71003 [==============================] - 4s 53us/step - loss: 0.0011 - acc: 0.9996 - val_loss: 0.0048 - val_acc: 0.9994\n",
      "Epoch 70/100\n",
      "71003/71003 [==============================] - 4s 52us/step - loss: 0.0012 - acc: 0.9994 - val_loss: 0.0040 - val_acc: 0.9994\n",
      "Epoch 71/100\n",
      "71003/71003 [==============================] - 4s 57us/step - loss: 0.0011 - acc: 0.9996 - val_loss: 0.0045 - val_acc: 0.9995\n",
      "Epoch 72/100\n",
      "71003/71003 [==============================] - 4s 53us/step - loss: 0.0010 - acc: 0.9996 - val_loss: 0.0040 - val_acc: 0.9995\n",
      "Epoch 73/100\n",
      "71003/71003 [==============================] - 4s 54us/step - loss: 0.0012 - acc: 0.9995 - val_loss: 0.0040 - val_acc: 0.9995\n",
      "Epoch 74/100\n",
      "71003/71003 [==============================] - 4s 54us/step - loss: 0.0010 - acc: 0.9996 - val_loss: 0.0038 - val_acc: 0.9994\n",
      "Epoch 75/100\n",
      "71003/71003 [==============================] - 4s 54us/step - loss: 0.0011 - acc: 0.9995 - val_loss: 0.0044 - val_acc: 0.9994\n",
      "Epoch 76/100\n",
      "71003/71003 [==============================] - 4s 53us/step - loss: 9.9689e-04 - acc: 0.9996 - val_loss: 0.0037 - val_acc: 0.9995\n",
      "Epoch 77/100\n",
      "71003/71003 [==============================] - 4s 57us/step - loss: 9.7656e-04 - acc: 0.9996 - val_loss: 0.0034 - val_acc: 0.9996\n",
      "Epoch 78/100\n",
      "71003/71003 [==============================] - 4s 50us/step - loss: 0.0011 - acc: 0.9996 - val_loss: 0.0035 - val_acc: 0.9996\n",
      "Epoch 79/100\n",
      "71003/71003 [==============================] - 4s 51us/step - loss: 0.0012 - acc: 0.9995 - val_loss: 0.0035 - val_acc: 0.9996\n",
      "Epoch 80/100\n",
      "71003/71003 [==============================] - 4s 52us/step - loss: 0.0010 - acc: 0.9996 - val_loss: 0.0046 - val_acc: 0.9994\n",
      "Epoch 81/100\n",
      "71003/71003 [==============================] - 4s 54us/step - loss: 0.0011 - acc: 0.9995 - val_loss: 0.0042 - val_acc: 0.9995\n",
      "Epoch 82/100\n",
      "71003/71003 [==============================] - 4s 51us/step - loss: 0.0010 - acc: 0.9996 - val_loss: 0.0040 - val_acc: 0.9996\n",
      "Epoch 83/100\n",
      "71003/71003 [==============================] - 4s 53us/step - loss: 0.0012 - acc: 0.9995 - val_loss: 0.0045 - val_acc: 0.9995\n",
      "Epoch 84/100\n",
      "71003/71003 [==============================] - 4s 52us/step - loss: 0.0013 - acc: 0.9995 - val_loss: 0.0040 - val_acc: 0.9995\n",
      "Epoch 85/100\n",
      "71003/71003 [==============================] - 4s 51us/step - loss: 8.8784e-04 - acc: 0.9996 - val_loss: 0.0045 - val_acc: 0.9994\n",
      "Epoch 86/100\n",
      "71003/71003 [==============================] - 4s 51us/step - loss: 0.0011 - acc: 0.9995 - val_loss: 0.0035 - val_acc: 0.9995\n",
      "Epoch 87/100\n",
      "71003/71003 [==============================] - 4s 51us/step - loss: 0.0010 - acc: 0.9996 - val_loss: 0.0043 - val_acc: 0.9994\n",
      "Epoch 88/100\n",
      "71003/71003 [==============================] - 4s 52us/step - loss: 9.6202e-04 - acc: 0.9996 - val_loss: 0.0046 - val_acc: 0.9994\n",
      "Epoch 89/100\n",
      "71003/71003 [==============================] - 4s 53us/step - loss: 0.0010 - acc: 0.9995 - val_loss: 0.0040 - val_acc: 0.9995\n",
      "Epoch 90/100\n",
      "71003/71003 [==============================] - 4s 52us/step - loss: 0.0010 - acc: 0.9996 - val_loss: 0.0036 - val_acc: 0.9994\n",
      "Epoch 91/100\n",
      "71003/71003 [==============================] - 4s 55us/step - loss: 9.4445e-04 - acc: 0.9996 - val_loss: 0.0045 - val_acc: 0.9994\n",
      "Epoch 92/100\n",
      "71003/71003 [==============================] - 4s 51us/step - loss: 9.2991e-04 - acc: 0.9996 - val_loss: 0.0049 - val_acc: 0.9994\n",
      "Epoch 93/100\n",
      "71003/71003 [==============================] - 4s 52us/step - loss: 0.0011 - acc: 0.9996 - val_loss: 0.0040 - val_acc: 0.9995\n",
      "Epoch 94/100\n",
      "71003/71003 [==============================] - 4s 50us/step - loss: 9.9638e-04 - acc: 0.9996 - val_loss: 0.0054 - val_acc: 0.9992\n",
      "Epoch 95/100\n",
      "71003/71003 [==============================] - 4s 50us/step - loss: 9.7787e-04 - acc: 0.9996 - val_loss: 0.0042 - val_acc: 0.9995\n",
      "Epoch 96/100\n",
      "71003/71003 [==============================] - 4s 50us/step - loss: 7.9157e-04 - acc: 0.9997 - val_loss: 0.0043 - val_acc: 0.9994\n",
      "Epoch 97/100\n",
      "71003/71003 [==============================] - 5s 69us/step - loss: 0.0011 - acc: 0.9996 - val_loss: 0.0047 - val_acc: 0.9993\n",
      "Epoch 98/100\n",
      "71003/71003 [==============================] - 3s 41us/step - loss: 9.2383e-04 - acc: 0.9996 - val_loss: 0.0038 - val_acc: 0.9996\n",
      "Epoch 99/100\n",
      "71003/71003 [==============================] - 3s 39us/step - loss: 9.3324e-04 - acc: 0.9997 - val_loss: 0.0049 - val_acc: 0.9994\n",
      "Epoch 100/100\n",
      "71003/71003 [==============================] - 3s 45us/step - loss: 9.5260e-04 - acc: 0.9996 - val_loss: 0.0038 - val_acc: 0.9995\n"
     ]
    }
   ],
   "source": [
    "# Fit the model\n",
    "history=model.fit(X5, y5, epochs=100, batch_size=35, validation_split=0.15)"
   ]
  },
  {
   "cell_type": "code",
   "execution_count": 119,
   "metadata": {},
   "outputs": [
    {
     "name": "stdout",
     "output_type": "stream",
     "text": [
      "[[    0 57378]\n",
      " [    1  1900]]\n"
     ]
    }
   ],
   "source": [
    "# show the inputs and predicted outputs\n",
    "#predictions for test dataset\n",
    "predictions = model.predict_classes(Z5)\n",
    "#for i in range(len(Z)):\n",
    " #   print(\"X=%s, Predicted=%s\" % (Z[i].astype(int), predictions[i]))\n",
    "\n",
    "\n",
    "unique, counts = np.unique(predictions, return_counts=True)\n",
    "\n",
    "print (np.asarray((unique, counts)).T)"
   ]
  },
  {
   "cell_type": "code",
   "execution_count": 120,
   "metadata": {},
   "outputs": [
    {
     "name": "stdout",
     "output_type": "stream",
     "text": [
      "59278/59278 [==============================] - 1s 23us/step\n",
      "\n",
      "loss: 13.80%\n",
      "\n",
      "acc: 98.65%\n"
     ]
    }
   ],
   "source": [
    "# Evaluate the model\n",
    "scores = model.evaluate(Z5, yy)\n",
    "#print(history.history.keys())\n",
    "print(\"\\n%s: %.2f%%\" % (model.metrics_names[0], scores[0]*100))\n",
    "print(\"\\n%s: %.2f%%\" % (model.metrics_names[1], scores[1]*100))"
   ]
  },
  {
   "cell_type": "code",
   "execution_count": 121,
   "metadata": {
    "scrolled": true
   },
   "outputs": [
    {
     "name": "stdout",
     "output_type": "stream",
     "text": [
      "              precision    recall  f1-score   support\n",
      "\n",
      "           0       0.99      0.99      0.99     57538\n",
      "           1       0.75      0.82      0.78      1740\n",
      "\n",
      "   micro avg       0.99      0.99      0.99     59278\n",
      "   macro avg       0.87      0.90      0.89     59278\n",
      "weighted avg       0.99      0.99      0.99     59278\n",
      "\n",
      "Recall score:  0.8166666666666667\n",
      "Precision score:  0.9872034701332786\n"
     ]
    }
   ],
   "source": [
    "print(classification_report(yy,predictions))\n",
    "print(\"Recall score: \", recall_score(yy,predictions))\n",
    "print(\"Precision score: \", precision_score(yy,predictions,average='weighted'))"
   ]
  },
  {
   "cell_type": "code",
   "execution_count": 122,
   "metadata": {},
   "outputs": [
    {
     "name": "stdout",
     "output_type": "stream",
     "text": [
      "Confusion matrix, without normalization\n",
      "[[57059   479]\n",
      " [  319  1421]]\n"
     ]
    },
    {
     "data": {
      "image/png": "[encoded data removed]",
      "text/plain": [
       "<Figure size 432x288 with 2 Axes>"
      ]
     },
     "metadata": {
      "needs_background": "light"
     },
     "output_type": "display_data"
    }
   ],
   "source": [
    "cnf_matrix=confusion_matrix(yy,predictions)\n",
    "plot_confusion_matrix(cnf_matrix,classes=all_classes, title='Confusion matrix without normalization\\n')"
   ]
  },
  {
   "cell_type": "code",
   "execution_count": null,
   "metadata": {},
   "outputs": [],
   "source": []
  }
 ],
 "metadata": {
  "kernelspec": {
   "display_name": "python3.6",
   "language": "python",
   "name": "python3.6"
  },
  "language_info": {
   "codemirror_mode": {
    "name": "ipython",
    "version": 3
   },
   "file_extension": ".py",
   "mimetype": "text/x-python",
   "name": "python",
   "nbconvert_exporter": "python",
   "pygments_lexer": "ipython3",
   "version": "3.6.8"
  }
 },
 "nbformat": 4,
 "nbformat_minor": 2
}
