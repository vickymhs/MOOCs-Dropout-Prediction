{
 "cells": [
  {
   "cell_type": "code",
   "execution_count": 41,
   "metadata": {},
   "outputs": [],
   "source": [
    "import numpy as np\n",
    "import pandas as pd\n",
    "import seaborn as sns\n",
    "import matplotlib.pyplot as plt\n",
    "import matplotlib.units as units\n",
    "import matplotlib.ticker as ticker\n",
    "import random\n",
    "import time                   # To time processes\n",
    "import warnings               # To suppress warnings\n",
    "import itertools\n",
    "import datetime\n",
    "import tensorflow as tf\n",
    "import csv\n",
    "import math\n",
    "\n",
    "from random import shuffle\n",
    "from pandas import read_csv\n",
    "from sklearn import metrics\n",
    "from sklearn import svm\n",
    "from matplotlib import pyplot\n",
    "from numpy import array\n",
    "from numpy import argmax\n",
    "from scipy import stats\n",
    "\n",
    "\n",
    "from sklearn.preprocessing import LabelEncoder\n",
    "from sklearn.preprocessing import OneHotEncoder\n",
    "\n",
    "from sklearn.metrics import accuracy_score\n",
    "from sklearn.metrics import classification_report, confusion_matrix  \n",
    "from sklearn.metrics import accuracy_score\n",
    "from sklearn.metrics import mean_squared_error\n",
    "from sklearn.metrics import roc_curve\n",
    "from sklearn.metrics import roc_auc_score\n",
    "from sklearn.metrics import recall_score\n",
    "from sklearn.metrics import precision_score\n",
    "from sklearn.cluster import KMeans\n",
    "from sklearn.metrics import precision_recall_curve\n",
    "\n",
    "from sklearn.utils import class_weight\n",
    "from sklearn.utils.fixes import signature\n",
    "from sklearn.ensemble import RandomForestClassifier\n",
    "from sklearn.tree import DecisionTreeClassifier\n",
    "from sklearn.linear_model import LogisticRegression\n",
    "from sklearn.neural_network import MLPClassifier\n",
    "from sklearn.base import TransformerMixin\n",
    "from sklearn.naive_bayes import GaussianNB\n",
    "from sklearn.naive_bayes import MultinomialNB\n",
    "from sklearn.discriminant_analysis import LinearDiscriminantAnalysis\n",
    "\n",
    "\n",
    "from sklearn.model_selection import train_test_split\n",
    "from sklearn.model_selection import KFold\n",
    "from sklearn.model_selection import cross_val_score\n",
    "from sklearn.feature_selection import SelectKBest\n",
    "from sklearn.feature_selection import chi2\n",
    "\n",
    "from keras.models import Sequential\n",
    "from keras.layers import Dense\n",
    "from keras.layers import Dropout\n",
    "from keras.callbacks import Callback\n",
    "\n",
    "from imblearn.over_sampling import SMOTE, ADASYN\n",
    "from imblearn.over_sampling import RandomOverSampler\n",
    "\n",
    "from matplotlib.pyplot import *\n",
    "\n",
    "warnings.filterwarnings(\"ignore\")"
   ]
  },
  {
   "cell_type": "code",
   "execution_count": 42,
   "metadata": {},
   "outputs": [],
   "source": [
    "df1=read_csv(\"Prob week1.csv\")\n",
    "df2=read_csv(\"Prob week2.csv\")\n",
    "df3=read_csv(\"Prob week3.csv\")\n",
    "df4=read_csv(\"Prob week4.csv\")\n",
    "df5=read_csv(\"Prob week5.csv\")\n"
   ]
  },
  {
   "cell_type": "code",
   "execution_count": 43,
   "metadata": {},
   "outputs": [],
   "source": [
    "df1=df1.sort_values(by=['Probability Week 1'], ascending=False)\n",
    "df2=df2.sort_values(by=['Probability Week 2'], ascending=False)\n",
    "df3=df3.sort_values(by=['Probability Week 3'], ascending=False)\n",
    "df4=df4.sort_values(by=['Probability Week 4'], ascending=False)\n",
    "df5=df5.sort_values(by=['Probability Week 5'], ascending=False)"
   ]
  },
  {
   "cell_type": "code",
   "execution_count": 44,
   "metadata": {},
   "outputs": [],
   "source": [
    "df1 = df1.reset_index(drop=True)\n",
    "df2 = df2.reset_index(drop=True)\n",
    "df3 = df3.reset_index(drop=True)\n",
    "df4 = df4.reset_index(drop=True)\n",
    "df5 = df5.reset_index(drop=True)"
   ]
  },
  {
   "cell_type": "code",
   "execution_count": 45,
   "metadata": {},
   "outputs": [
    {
     "data": {
      "text/html": [
       "<div>\n",
       "<style scoped>\n",
       "    .dataframe tbody tr th:only-of-type {\n",
       "        vertical-align: middle;\n",
       "    }\n",
       "\n",
       "    .dataframe tbody tr th {\n",
       "        vertical-align: top;\n",
       "    }\n",
       "\n",
       "    .dataframe thead th {\n",
       "        text-align: right;\n",
       "    }\n",
       "</style>\n",
       "<table border=\"1\" class=\"dataframe\">\n",
       "  <thead>\n",
       "    <tr style=\"text-align: right;\">\n",
       "      <th></th>\n",
       "      <th>Student number</th>\n",
       "      <th>Probability Week 3</th>\n",
       "    </tr>\n",
       "  </thead>\n",
       "  <tbody>\n",
       "    <tr>\n",
       "      <th>0</th>\n",
       "      <td>5152</td>\n",
       "      <td>0.99897</td>\n",
       "    </tr>\n",
       "    <tr>\n",
       "      <th>1</th>\n",
       "      <td>11059</td>\n",
       "      <td>0.99897</td>\n",
       "    </tr>\n",
       "    <tr>\n",
       "      <th>2</th>\n",
       "      <td>940</td>\n",
       "      <td>0.99897</td>\n",
       "    </tr>\n",
       "    <tr>\n",
       "      <th>3</th>\n",
       "      <td>9041</td>\n",
       "      <td>0.99897</td>\n",
       "    </tr>\n",
       "    <tr>\n",
       "      <th>4</th>\n",
       "      <td>1532</td>\n",
       "      <td>0.99897</td>\n",
       "    </tr>\n",
       "  </tbody>\n",
       "</table>\n",
       "</div>"
      ],
      "text/plain": [
       "   Student number  Probability Week 3\n",
       "0            5152             0.99897\n",
       "1           11059             0.99897\n",
       "2             940             0.99897\n",
       "3            9041             0.99897\n",
       "4            1532             0.99897"
      ]
     },
     "execution_count": 45,
     "metadata": {},
     "output_type": "execute_result"
    }
   ],
   "source": [
    "df3.head()"
   ]
  },
  {
   "cell_type": "code",
   "execution_count": 46,
   "metadata": {},
   "outputs": [],
   "source": [
    "x=random.randint(0,11844)"
   ]
  },
  {
   "cell_type": "code",
   "execution_count": 47,
   "metadata": {},
   "outputs": [],
   "source": [
    "p1=df1.loc[df1['Student number'] == x].index.values\n",
    "p2=df2.loc[df2['Student number'] == x].index.values\n",
    "p3=df3.loc[df3['Student number'] == x].index.values\n",
    "p4=df4.loc[df4['Student number'] == x].index.values\n",
    "p5=df5.loc[df5['Student number'] == x].index.values\n"
   ]
  },
  {
   "cell_type": "code",
   "execution_count": 48,
   "metadata": {},
   "outputs": [],
   "source": [
    "rank=[]\n",
    "rank.append(p1[0])\n",
    "rank.append(p2[0])\n",
    "rank.append(p3[0])\n",
    "rank.append(p4[0])\n",
    "rank.append(p5[0])"
   ]
  },
  {
   "cell_type": "code",
   "execution_count": 49,
   "metadata": {},
   "outputs": [],
   "source": [
    "l1=[]\n",
    "l1.append(p1[0])\n",
    "l1.append(p2[0]-p1[0])\n",
    "l1.append(p3[0]-p2[0])\n",
    "l1.append(p4[0]-p3[0])\n",
    "l1.append(p5[0]-p4[0])\n"
   ]
  },
  {
   "cell_type": "code",
   "execution_count": 50,
   "metadata": {},
   "outputs": [
    {
     "name": "stdout",
     "output_type": "stream",
     "text": [
      "Week:  1 - Rank:  5804\n",
      "It's a steady start\n",
      "\n",
      "Week:  2 - Rank:  1675\n",
      "That was a great improvement\n",
      "\n",
      "Week:  3 - Rank:  2968\n",
      "Watchout! You are slipping\n",
      "\n",
      "Week:  4 - Rank:  5428\n",
      "Watchout! You are slipping\n",
      "\n",
      "Week:  5 - Rank:  8153\n",
      "Watchout! You are slipping\n",
      "\n",
      "At this rate you are more likely to dropout\n"
     ]
    }
   ],
   "source": [
    "mini=1000000\n",
    "f=0\n",
    "for i in range(0,len(l1)):\n",
    "    print(\"Week: \",i+1,  \"- Rank: \",rank[i])\n",
    "    if(i==0):\n",
    "        d=l1[i]/11845\n",
    "        if(d<=0.3):\n",
    "            print(\"You are off to a flyer\\n\")\n",
    "        elif(d<=0.5):\n",
    "            print(\"It's a steady start\\n\")\n",
    "        elif(d<=0.7):\n",
    "            print(\"That was a shaky start\\n\")\n",
    "        else:\n",
    "            print(\"Buck up buddy\\n\")\n",
    "    else:\n",
    "        if(l1[i]>=0):\n",
    "            print(\"Watchout! You are slipping\\n\")\n",
    "            f=f+1\n",
    "        else:\n",
    "            f=0\n",
    "            if(l1[i]<mini):\n",
    "                mini=l1[i]\n",
    "                print(\"That was a great improvement\\n\")\n",
    "            else:\n",
    "                print(\"It's a steady growth! You can do better\\n\")\n",
    "    if(f==3):\n",
    "        print(\"At this rate you are more likely to dropout\")"
   ]
  }
 ],
 "metadata": {
  "kernelspec": {
   "display_name": "python3.6",
   "language": "python",
   "name": "python3.6"
  },
  "language_info": {
   "codemirror_mode": {
    "name": "ipython",
    "version": 3
   },
   "file_extension": ".py",
   "mimetype": "text/x-python",
   "name": "python",
   "nbconvert_exporter": "python",
   "pygments_lexer": "ipython3",
   "version": "3.6.8"
  }
 },
 "nbformat": 4,
 "nbformat_minor": 2
}
