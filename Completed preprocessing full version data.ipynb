{
 "cells": [
  {
   "cell_type": "code",
   "execution_count": 57,
   "metadata": {},
   "outputs": [],
   "source": [
    "import numpy as np\n",
    "import pandas as pd\n",
    "import seaborn as sns\n",
    "import matplotlib.pyplot as plt\n",
    "import random\n",
    "import time                   # To time processes\n",
    "import warnings               # To suppress warnings\n",
    "import itertools\n",
    "import datetime\n",
    "\n",
    "from random import shuffle\n",
    "from pandas import read_csv\n",
    "from sklearn import metrics\n",
    "from sklearn import svm\n",
    "from matplotlib import pyplot\n",
    "from numpy import array\n",
    "from numpy import argmax\n",
    "\n",
    "from sklearn.preprocessing import LabelEncoder\n",
    "from sklearn.preprocessing import OneHotEncoder\n",
    "\n",
    "from sklearn.metrics import accuracy_score\n",
    "from sklearn.metrics import classification_report, confusion_matrix  \n",
    "from sklearn.metrics import accuracy_score\n",
    "from sklearn.metrics import mean_squared_error\n",
    "from sklearn.metrics import roc_curve\n",
    "from sklearn.metrics import roc_auc_score\n",
    "from sklearn.cluster import KMeans\n",
    "\n",
    "from sklearn.ensemble import RandomForestClassifier\n",
    "from sklearn.linear_model import LogisticRegression\n",
    "from sklearn.base import TransformerMixin\n",
    "\n",
    "from sklearn.model_selection import train_test_split\n",
    "from sklearn.model_selection import KFold\n",
    "from sklearn.model_selection import cross_val_score\n",
    "from sklearn.feature_selection import SelectKBest\n",
    "from sklearn.feature_selection import chi2\n",
    "\n",
    "from matplotlib.pyplot import *"
   ]
  },
  {
   "cell_type": "code",
   "execution_count": 58,
   "metadata": {},
   "outputs": [],
   "source": [
    "dataset = read_csv(\"../Dataset/big_student_clear_third_version.csv\", encoding=\"ISO-8859-1\")\n",
    "#forum=read_csv(\"../Dataset/course_posts.csv\")"
   ]
  },
  {
   "cell_type": "code",
   "execution_count": 59,
   "metadata": {},
   "outputs": [],
   "source": [
    "df=dataset[['viewed','explored','certified','gender', 'grade', 'nevents', 'ndays_act', 'nchapters', 'nplay_video' ,'semester', 'LoE_DI','nforum_posts']]\n",
    "df_start=dataset[['start_time_DI']]\n",
    "df_end=dataset[['last_event_DI']]"
   ]
  },
  {
   "cell_type": "code",
   "execution_count": 60,
   "metadata": {},
   "outputs": [],
   "source": [
    "dataset.shape[0]\n",
    "warnings.filterwarnings(\"ignore\")"
   ]
  },
  {
   "cell_type": "code",
   "execution_count": 61,
   "metadata": {},
   "outputs": [],
   "source": [
    "# for normalizing grades and gender missing values\n",
    "\n",
    "class DataFrameImputer(TransformerMixin):\n",
    "\n",
    "    def __init__(self):\n",
    "        \"\"\"Impute missing values.\n",
    "\n",
    "        Columns of dtype object are imputed with the most frequent value \n",
    "        in column.\n",
    "\n",
    "        Columns of other types are imputed with mean of column.\n",
    "\n",
    "        \"\"\"\n",
    "    def fit(self, X, y=None):\n",
    "\n",
    "        self.fill = pd.Series([X[c].value_counts().index[0]\n",
    "            if X[c].dtype == np.dtype('O') else X[c].mean() for c in X],\n",
    "            index=X.columns)\n",
    "\n",
    "        return self\n",
    "\n",
    "    def transform(self, X, y=None):\n",
    "        return X.fillna(self.fill)\n",
    "\n",
    "\n",
    "df[['grade']] = DataFrameImputer().fit_transform(df[['grade']])\n",
    "df[['gender']]= DataFrameImputer().fit_transform(df[['gender']])"
   ]
  },
  {
   "cell_type": "code",
   "execution_count": 62,
   "metadata": {
    "scrolled": true
   },
   "outputs": [],
   "source": [
    "#One-hot encoding for converting gender m/f to 0/1\n",
    "data = df[['gender']]\n",
    "values = array(data)\n",
    "#print(values)\n",
    "values.ravel()\n",
    "# integer encode\n",
    "label_encoder = LabelEncoder()\n",
    "integer_encoded = label_encoder.fit_transform(values)\n",
    "integer_encoded = integer_encoded.reshape((integer_encoded.shape[0], 1))\n",
    "df[['gender']]=integer_encoded"
   ]
  },
  {
   "cell_type": "code",
   "execution_count": 63,
   "metadata": {},
   "outputs": [],
   "source": [
    "#One-hot encoding for converting Level of Education\n",
    "data = df[['LoE_DI']]\n",
    "values = array(data)\n",
    "#print(values)\n",
    "values.ravel()\n",
    "# integer encode\n",
    "label_encoder = LabelEncoder()\n",
    "integer_encoded = label_encoder.fit_transform(values)\n",
    "integer_encoded = integer_encoded.reshape((integer_encoded.shape[0], 1))\n",
    "df[['LoE_DI']]=integer_encoded"
   ]
  },
  {
   "cell_type": "code",
   "execution_count": 64,
   "metadata": {},
   "outputs": [],
   "source": [
    "#One-hot encoding for converting semester\n",
    "data = df[['semester']]\n",
    "values = array(data)\n",
    "#print(values)\n",
    "values.ravel()\n",
    "# integer encode\n",
    "label_encoder = LabelEncoder()\n",
    "integer_encoded = label_encoder.fit_transform(values)\n",
    "integer_encoded = integer_encoded.reshape((integer_encoded.shape[0], 1))\n",
    "df[['semester']]=integer_encoded"
   ]
  },
  {
   "cell_type": "code",
   "execution_count": 65,
   "metadata": {},
   "outputs": [],
   "source": [
    "#Converting Start date into unix timestamp\n",
    "df_start = df_start.applymap(str)\n",
    "start_temp= np.zeros(shape=(df_start.shape[0],1))\n",
    "for ix in df_start.index:\n",
    "    start_temp[ix]=int(time.mktime(datetime.datetime.strptime(df_start.loc[ix]['start_time_DI'], \"%Y-%m-%d\").timetuple()))\n",
    "\n",
    "df_temp1=pd.DataFrame({'Start date':start_temp[:,0]})\n",
    "df_temp1.head()\n",
    "\n",
    "df=pd.concat([df,df_temp1], axis=1)"
   ]
  },
  {
   "cell_type": "code",
   "execution_count": 66,
   "metadata": {},
   "outputs": [],
   "source": [
    "#Converting Last event date into unix timestamp\n",
    "df_end = df_end.applymap(str)\n",
    "end_temp= np.zeros(shape=(df_end.shape[0],1))\n",
    "for ix in df_end.index:\n",
    "    end_temp[ix]=int(time.mktime(datetime.datetime.strptime(df_end.loc[ix]['last_event_DI'], \"%Y-%m-%d\").timetuple()))\n",
    "\n",
    "df_temp2=pd.DataFrame({'Last event date':end_temp[:,0]})\n",
    "df_temp2.head()\n",
    "\n",
    "df=pd.concat([df,df_temp2], axis=1)"
   ]
  },
  {
   "cell_type": "code",
   "execution_count": 67,
   "metadata": {},
   "outputs": [
    {
     "data": {
      "text/plain": [
       "viewed             0\n",
       "explored           0\n",
       "certified          0\n",
       "gender             0\n",
       "grade              0\n",
       "nevents            0\n",
       "ndays_act          0\n",
       "nchapters          0\n",
       "nplay_video        0\n",
       "semester           0\n",
       "LoE_DI             0\n",
       "nforum_posts       0\n",
       "Start date         0\n",
       "Last event date    0\n",
       "dtype: int64"
      ]
     },
     "execution_count": 67,
     "metadata": {},
     "output_type": "execute_result"
    }
   ],
   "source": [
    "df.isnull().sum()"
   ]
  },
  {
   "cell_type": "code",
   "execution_count": 68,
   "metadata": {},
   "outputs": [
    {
     "data": {
      "text/html": [
       "<div>\n",
       "<style scoped>\n",
       "    .dataframe tbody tr th:only-of-type {\n",
       "        vertical-align: middle;\n",
       "    }\n",
       "\n",
       "    .dataframe tbody tr th {\n",
       "        vertical-align: top;\n",
       "    }\n",
       "\n",
       "    .dataframe thead th {\n",
       "        text-align: right;\n",
       "    }\n",
       "</style>\n",
       "<table border=\"1\" class=\"dataframe\">\n",
       "  <thead>\n",
       "    <tr style=\"text-align: right;\">\n",
       "      <th></th>\n",
       "      <th>viewed</th>\n",
       "      <th>explored</th>\n",
       "      <th>certified</th>\n",
       "      <th>gender</th>\n",
       "      <th>grade</th>\n",
       "      <th>nevents</th>\n",
       "      <th>ndays_act</th>\n",
       "      <th>nchapters</th>\n",
       "      <th>nplay_video</th>\n",
       "      <th>semester</th>\n",
       "      <th>LoE_DI</th>\n",
       "      <th>nforum_posts</th>\n",
       "      <th>Start date</th>\n",
       "      <th>Last event date</th>\n",
       "    </tr>\n",
       "  </thead>\n",
       "  <tbody>\n",
       "    <tr>\n",
       "      <th>0</th>\n",
       "      <td>0</td>\n",
       "      <td>0</td>\n",
       "      <td>0</td>\n",
       "      <td>1</td>\n",
       "      <td>0.0</td>\n",
       "      <td>6</td>\n",
       "      <td>3</td>\n",
       "      <td>0</td>\n",
       "      <td>197757</td>\n",
       "      <td>0</td>\n",
       "      <td>0</td>\n",
       "      <td>0</td>\n",
       "      <td>1.343068e+09</td>\n",
       "      <td>1.374863e+09</td>\n",
       "    </tr>\n",
       "    <tr>\n",
       "      <th>1</th>\n",
       "      <td>1</td>\n",
       "      <td>0</td>\n",
       "      <td>0</td>\n",
       "      <td>1</td>\n",
       "      <td>0.0</td>\n",
       "      <td>107</td>\n",
       "      <td>8</td>\n",
       "      <td>2</td>\n",
       "      <td>7</td>\n",
       "      <td>0</td>\n",
       "      <td>4</td>\n",
       "      <td>0</td>\n",
       "      <td>1.343068e+09</td>\n",
       "      <td>1.356287e+09</td>\n",
       "    </tr>\n",
       "    <tr>\n",
       "      <th>2</th>\n",
       "      <td>1</td>\n",
       "      <td>0</td>\n",
       "      <td>0</td>\n",
       "      <td>1</td>\n",
       "      <td>0.0</td>\n",
       "      <td>8</td>\n",
       "      <td>1</td>\n",
       "      <td>1</td>\n",
       "      <td>197757</td>\n",
       "      <td>2</td>\n",
       "      <td>0</td>\n",
       "      <td>0</td>\n",
       "      <td>1.343068e+09</td>\n",
       "      <td>1.364409e+09</td>\n",
       "    </tr>\n",
       "    <tr>\n",
       "      <th>3</th>\n",
       "      <td>1</td>\n",
       "      <td>0</td>\n",
       "      <td>0</td>\n",
       "      <td>1</td>\n",
       "      <td>0.0</td>\n",
       "      <td>25</td>\n",
       "      <td>2</td>\n",
       "      <td>4</td>\n",
       "      <td>197757</td>\n",
       "      <td>2</td>\n",
       "      <td>4</td>\n",
       "      <td>0</td>\n",
       "      <td>1.343068e+09</td>\n",
       "      <td>1.373827e+09</td>\n",
       "    </tr>\n",
       "    <tr>\n",
       "      <th>4</th>\n",
       "      <td>0</td>\n",
       "      <td>0</td>\n",
       "      <td>0</td>\n",
       "      <td>0</td>\n",
       "      <td>0.0</td>\n",
       "      <td>3</td>\n",
       "      <td>2</td>\n",
       "      <td>0</td>\n",
       "      <td>197757</td>\n",
       "      <td>0</td>\n",
       "      <td>3</td>\n",
       "      <td>0</td>\n",
       "      <td>1.343068e+09</td>\n",
       "      <td>1.345833e+09</td>\n",
       "    </tr>\n",
       "  </tbody>\n",
       "</table>\n",
       "</div>"
      ],
      "text/plain": [
       "   viewed  explored  certified  gender  grade  nevents  ndays_act  nchapters  \\\n",
       "0       0         0          0       1    0.0        6          3          0   \n",
       "1       1         0          0       1    0.0      107          8          2   \n",
       "2       1         0          0       1    0.0        8          1          1   \n",
       "3       1         0          0       1    0.0       25          2          4   \n",
       "4       0         0          0       0    0.0        3          2          0   \n",
       "\n",
       "   nplay_video  semester  LoE_DI  nforum_posts    Start date  Last event date  \n",
       "0       197757         0       0             0  1.343068e+09     1.374863e+09  \n",
       "1            7         0       4             0  1.343068e+09     1.356287e+09  \n",
       "2       197757         2       0             0  1.343068e+09     1.364409e+09  \n",
       "3       197757         2       4             0  1.343068e+09     1.373827e+09  \n",
       "4       197757         0       3             0  1.343068e+09     1.345833e+09  "
      ]
     },
     "execution_count": 68,
     "metadata": {},
     "output_type": "execute_result"
    }
   ],
   "source": [
    "df.head()"
   ]
  },
  {
   "cell_type": "code",
   "execution_count": 69,
   "metadata": {},
   "outputs": [
    {
     "data": {
      "text/plain": [
       "<matplotlib.axes._subplots.AxesSubplot at 0x7f7163e23588>"
      ]
     },
     "execution_count": 69,
     "metadata": {},
     "output_type": "execute_result"
    },
    {
     "data": {
      "image/png": "[encoded data removed]",
      "text/plain": [
       "<Figure size 432x288 with 2 Axes>"
      ]
     },
     "metadata": {
      "needs_background": "light"
     },
     "output_type": "display_data"
    }
   ],
   "source": [
    "cor = df.corr() #Calculate the correlation of the above variables\n",
    "sns.heatmap(cor, square = True) #Plot the correlation as heat map"
   ]
  },
  {
   "cell_type": "code",
   "execution_count": 70,
   "metadata": {},
   "outputs": [
    {
     "name": "stdout",
     "output_type": "stream",
     "text": [
      "[[     0 404741]\n",
      " [     1  12180]]\n"
     ]
    }
   ],
   "source": [
    "# Clustering for completed or not for all weeks dataset\n",
    "j=0\n",
    "week11=df[['viewed','explored','certified','gender', 'grade', 'nevents', 'ndays_act', 'nchapters']]\n",
    "week11=week11.values\n",
    "kmeans = KMeans(n_clusters=2)\n",
    "kmeans.fit(week11)\n",
    "y_km = kmeans.fit_predict(week11)\n",
    "df7= pd.DataFrame({'Completed_or_not':y_km})\n",
    "#df7=df7.values\n",
    "print(np.array(np.unique(y_km, return_counts=True)).T)\n",
    "df=pd.concat([df,df7],axis=1)"
   ]
  },
  {
   "cell_type": "code",
   "execution_count": 71,
   "metadata": {},
   "outputs": [
    {
     "data": {
      "text/html": [
       "<div>\n",
       "<style scoped>\n",
       "    .dataframe tbody tr th:only-of-type {\n",
       "        vertical-align: middle;\n",
       "    }\n",
       "\n",
       "    .dataframe tbody tr th {\n",
       "        vertical-align: top;\n",
       "    }\n",
       "\n",
       "    .dataframe thead th {\n",
       "        text-align: right;\n",
       "    }\n",
       "</style>\n",
       "<table border=\"1\" class=\"dataframe\">\n",
       "  <thead>\n",
       "    <tr style=\"text-align: right;\">\n",
       "      <th></th>\n",
       "      <th>viewed</th>\n",
       "      <th>explored</th>\n",
       "      <th>certified</th>\n",
       "      <th>gender</th>\n",
       "      <th>grade</th>\n",
       "      <th>nevents</th>\n",
       "      <th>ndays_act</th>\n",
       "      <th>nchapters</th>\n",
       "      <th>nplay_video</th>\n",
       "      <th>semester</th>\n",
       "      <th>LoE_DI</th>\n",
       "      <th>nforum_posts</th>\n",
       "      <th>Start date</th>\n",
       "      <th>Last event date</th>\n",
       "      <th>Completed_or_not</th>\n",
       "    </tr>\n",
       "  </thead>\n",
       "  <tbody>\n",
       "    <tr>\n",
       "      <th>0</th>\n",
       "      <td>0</td>\n",
       "      <td>0</td>\n",
       "      <td>0</td>\n",
       "      <td>1</td>\n",
       "      <td>0.0</td>\n",
       "      <td>6</td>\n",
       "      <td>3</td>\n",
       "      <td>0</td>\n",
       "      <td>197757</td>\n",
       "      <td>0</td>\n",
       "      <td>0</td>\n",
       "      <td>0</td>\n",
       "      <td>1.343068e+09</td>\n",
       "      <td>1.374863e+09</td>\n",
       "      <td>0</td>\n",
       "    </tr>\n",
       "    <tr>\n",
       "      <th>1</th>\n",
       "      <td>1</td>\n",
       "      <td>0</td>\n",
       "      <td>0</td>\n",
       "      <td>1</td>\n",
       "      <td>0.0</td>\n",
       "      <td>107</td>\n",
       "      <td>8</td>\n",
       "      <td>2</td>\n",
       "      <td>7</td>\n",
       "      <td>0</td>\n",
       "      <td>4</td>\n",
       "      <td>0</td>\n",
       "      <td>1.343068e+09</td>\n",
       "      <td>1.356287e+09</td>\n",
       "      <td>0</td>\n",
       "    </tr>\n",
       "    <tr>\n",
       "      <th>2</th>\n",
       "      <td>1</td>\n",
       "      <td>0</td>\n",
       "      <td>0</td>\n",
       "      <td>1</td>\n",
       "      <td>0.0</td>\n",
       "      <td>8</td>\n",
       "      <td>1</td>\n",
       "      <td>1</td>\n",
       "      <td>197757</td>\n",
       "      <td>2</td>\n",
       "      <td>0</td>\n",
       "      <td>0</td>\n",
       "      <td>1.343068e+09</td>\n",
       "      <td>1.364409e+09</td>\n",
       "      <td>0</td>\n",
       "    </tr>\n",
       "    <tr>\n",
       "      <th>3</th>\n",
       "      <td>1</td>\n",
       "      <td>0</td>\n",
       "      <td>0</td>\n",
       "      <td>1</td>\n",
       "      <td>0.0</td>\n",
       "      <td>25</td>\n",
       "      <td>2</td>\n",
       "      <td>4</td>\n",
       "      <td>197757</td>\n",
       "      <td>2</td>\n",
       "      <td>4</td>\n",
       "      <td>0</td>\n",
       "      <td>1.343068e+09</td>\n",
       "      <td>1.373827e+09</td>\n",
       "      <td>0</td>\n",
       "    </tr>\n",
       "    <tr>\n",
       "      <th>4</th>\n",
       "      <td>0</td>\n",
       "      <td>0</td>\n",
       "      <td>0</td>\n",
       "      <td>0</td>\n",
       "      <td>0.0</td>\n",
       "      <td>3</td>\n",
       "      <td>2</td>\n",
       "      <td>0</td>\n",
       "      <td>197757</td>\n",
       "      <td>0</td>\n",
       "      <td>3</td>\n",
       "      <td>0</td>\n",
       "      <td>1.343068e+09</td>\n",
       "      <td>1.345833e+09</td>\n",
       "      <td>0</td>\n",
       "    </tr>\n",
       "  </tbody>\n",
       "</table>\n",
       "</div>"
      ],
      "text/plain": [
       "   viewed  explored  certified  gender  grade  nevents  ndays_act  nchapters  \\\n",
       "0       0         0          0       1    0.0        6          3          0   \n",
       "1       1         0          0       1    0.0      107          8          2   \n",
       "2       1         0          0       1    0.0        8          1          1   \n",
       "3       1         0          0       1    0.0       25          2          4   \n",
       "4       0         0          0       0    0.0        3          2          0   \n",
       "\n",
       "   nplay_video  semester  LoE_DI  nforum_posts    Start date  Last event date  \\\n",
       "0       197757         0       0             0  1.343068e+09     1.374863e+09   \n",
       "1            7         0       4             0  1.343068e+09     1.356287e+09   \n",
       "2       197757         2       0             0  1.343068e+09     1.364409e+09   \n",
       "3       197757         2       4             0  1.343068e+09     1.373827e+09   \n",
       "4       197757         0       3             0  1.343068e+09     1.345833e+09   \n",
       "\n",
       "   Completed_or_not  \n",
       "0                 0  \n",
       "1                 0  \n",
       "2                 0  \n",
       "3                 0  \n",
       "4                 0  "
      ]
     },
     "execution_count": 71,
     "metadata": {},
     "output_type": "execute_result"
    }
   ],
   "source": [
    "df.head()"
   ]
  },
  {
   "cell_type": "code",
   "execution_count": 72,
   "metadata": {},
   "outputs": [
    {
     "name": "stdout",
     "output_type": "stream",
     "text": [
      "59278\n",
      "59278\n"
     ]
    }
   ],
   "source": [
    "df77=read_csv('Testing dataset.csv')\n",
    "df88=read_csv('Testing result.csv')\n",
    "print(df77.shape[0])\n",
    "print(df88.shape[0])"
   ]
  },
  {
   "cell_type": "code",
   "execution_count": 73,
   "metadata": {},
   "outputs": [],
   "source": [
    "df_minority = df[df['Completed_or_not']==1]\n",
    "df_majority = df[df['Completed_or_not']==0]"
   ]
  },
  {
   "cell_type": "code",
   "execution_count": 74,
   "metadata": {},
   "outputs": [],
   "source": [
    "from sklearn.utils import resample\n",
    "df_minority_upsampled = resample(df_minority, \n",
    "                                 replace=True,     # sample with replacement\n",
    "                                 n_samples=15576,    # to match majority class\n",
    "                                 random_state=123) # reproducible results"
   ]
  },
  {
   "cell_type": "code",
   "execution_count": 75,
   "metadata": {},
   "outputs": [],
   "source": [
    "df = pd.concat([df_majority, df_minority_upsampled])"
   ]
  },
  {
   "cell_type": "code",
   "execution_count": 76,
   "metadata": {},
   "outputs": [
    {
     "data": {
      "text/plain": [
       "420317"
      ]
     },
     "execution_count": 76,
     "metadata": {},
     "output_type": "execute_result"
    }
   ],
   "source": [
    "df.shape[0]"
   ]
  },
  {
   "cell_type": "code",
   "execution_count": 77,
   "metadata": {},
   "outputs": [
    {
     "data": {
      "text/plain": [
       "0    404741\n",
       "1     15576\n",
       "Name: Completed_or_not, dtype: int64"
      ]
     },
     "execution_count": 77,
     "metadata": {},
     "output_type": "execute_result"
    }
   ],
   "source": [
    "df['Completed_or_not'].value_counts()"
   ]
  },
  {
   "cell_type": "code",
   "execution_count": 78,
   "metadata": {},
   "outputs": [],
   "source": [
    "df=df.iloc[np.random.permutation(np.arange(len(df)))]"
   ]
  },
  {
   "cell_type": "code",
   "execution_count": 79,
   "metadata": {},
   "outputs": [],
   "source": [
    "week1=df[0:84064]\n",
    "week2=df[84064:168128]\n",
    "week3=df[168128:252192]\n",
    "week4=df[252192:336256]\n",
    "week5=df[336256:420320]"
   ]
  },
  {
   "cell_type": "code",
   "execution_count": 80,
   "metadata": {},
   "outputs": [
    {
     "data": {
      "text/plain": [
       "84064"
      ]
     },
     "execution_count": 80,
     "metadata": {},
     "output_type": "execute_result"
    }
   ],
   "source": [
    "week1.shape[0]"
   ]
  },
  {
   "cell_type": "code",
   "execution_count": 81,
   "metadata": {},
   "outputs": [
    {
     "data": {
      "text/plain": [
       "0    80899\n",
       "1     3162\n",
       "Name: Completed_or_not, dtype: int64"
      ]
     },
     "execution_count": 81,
     "metadata": {},
     "output_type": "execute_result"
    }
   ],
   "source": [
    "week5['Completed_or_not'].value_counts()"
   ]
  },
  {
   "cell_type": "code",
   "execution_count": 82,
   "metadata": {},
   "outputs": [],
   "source": [
    "week1=week1.drop(['gender','nplay_video','semester','nforum_posts','Start date'], axis=1)"
   ]
  },
  {
   "cell_type": "code",
   "execution_count": 83,
   "metadata": {},
   "outputs": [],
   "source": [
    "l=[]\n",
    "for i in range (0,5):\n",
    "    j=0\n",
    "    while(j<300):\n",
    "        x=random.randint(0,59278)\n",
    "        #print(x)\n",
    "        if(l.count(x)<=0):\n",
    "            l.append(x)\n",
    "            j=j+1\n",
    "            dftemp=df77.loc[x,['viewed','explored','grade','nevents','ndays_act','nchapters','LoE_DI','last_event_DI','certified']]\n",
    "            #print(dftemp)\n",
    "            dftemp=pd.concat([dftemp,df88.loc[x,['Completed_or_not']]],axis=0)\n",
    "            #print(type(dftemp))\n",
    "            dftemp = dftemp.to_frame().reset_index()\n",
    "            dftemp=dftemp.T\n",
    "            #print(type(dftemp))\n",
    "            #print(dftemp.shape)\n",
    "            dftemp.columns=['viewed','explored','grade','nevents','ndays_act','nchapters','LoE_DI','Last event date','certified','Completed_or_not']\n",
    "            dftemp=dftemp.drop(index='index')\n",
    "            if(i==0):\n",
    "                dftemp.rename(index={x:week1.shape[0]},inplace=True)\n",
    "                week1=pd.concat([week1,dftemp])\n",
    "                dftemp.iloc[0:0]\n",
    "            elif(i==1):\n",
    "                dftemp.rename(index={x:week2.shape[0]},inplace=True)\n",
    "                week2=pd.concat([week2,dftemp])\n",
    "                dftemp.iloc[0:0]\n",
    "            elif(i==2):\n",
    "                dftemp.rename(index={x:week3.shape[0]},inplace=True)\n",
    "                week3=pd.concat([week3,dftemp])\n",
    "                dftemp.iloc[0:0]\n",
    "            elif(i==3):\n",
    "                dftemp.rename(index={x:week4.shape[0]},inplace=True)\n",
    "                week4=pd.concat([week4,dftemp])\n",
    "                dftemp.iloc[0:0]\n",
    "            elif(i==4):\n",
    "                dftemp.rename(index={x:week5.shape[0]},inplace=True)\n",
    "                week5=pd.concat([week5,dftemp])\n",
    "                dftemp.iloc[0:0]"
   ]
  },
  {
   "cell_type": "code",
   "execution_count": 84,
   "metadata": {},
   "outputs": [
    {
     "data": {
      "text/plain": [
       "0    81196\n",
       "1     3165\n",
       "Name: Completed_or_not, dtype: int64"
      ]
     },
     "execution_count": 84,
     "metadata": {},
     "output_type": "execute_result"
    }
   ],
   "source": [
    "week5['Completed_or_not'].value_counts()"
   ]
  },
  {
   "cell_type": "code",
   "execution_count": 85,
   "metadata": {},
   "outputs": [],
   "source": [
    "week1.to_csv('Week 1.csv')\n",
    "week2.to_csv('Week 2.csv')\n",
    "week3.to_csv('Week 3.csv')\n",
    "week4.to_csv('Week 4.csv')\n",
    "week5.to_csv('Week 5.csv')"
   ]
  },
  {
   "cell_type": "code",
   "execution_count": null,
   "metadata": {},
   "outputs": [],
   "source": []
  }
 ],
 "metadata": {
  "kernelspec": {
   "display_name": "python3.6",
   "language": "python",
   "name": "python3.6"
  },
  "language_info": {
   "codemirror_mode": {
    "name": "ipython",
    "version": 3
   },
   "file_extension": ".py",
   "mimetype": "text/x-python",
   "name": "python",
   "nbconvert_exporter": "python",
   "pygments_lexer": "ipython3",
   "version": "3.6.8"
  }
 },
 "nbformat": 4,
 "nbformat_minor": 2
}
