{
 "cells": [
  {
   "cell_type": "code",
   "execution_count": 2,
   "metadata": {},
   "outputs": [],
   "source": [
    "import numpy as np\n",
    "import pandas as pd\n",
    "import seaborn as sns\n",
    "import matplotlib.pyplot as plt\n",
    "import random\n",
    "import time                   # To time processes\n",
    "import warnings               # To suppress warnings\n",
    "import itertools\n",
    "import datetime\n",
    "\n",
    "from random import shuffle\n",
    "from pandas import read_csv\n",
    "from sklearn import metrics\n",
    "from sklearn import svm\n",
    "from matplotlib import pyplot\n",
    "from numpy import array\n",
    "from numpy import argmax\n",
    "from scipy import stats\n",
    "import csv\n",
    "\n",
    "from sklearn.preprocessing import LabelEncoder\n",
    "from sklearn.preprocessing import OneHotEncoder\n",
    "\n",
    "from sklearn.metrics import accuracy_score\n",
    "from sklearn.metrics import classification_report, confusion_matrix  \n",
    "from sklearn.metrics import accuracy_score\n",
    "from sklearn.metrics import mean_squared_error\n",
    "from sklearn.metrics import roc_curve\n",
    "from sklearn.metrics import roc_auc_score\n",
    "from sklearn.metrics import recall_score\n",
    "from sklearn.metrics import precision_score\n",
    "from sklearn.cluster import KMeans\n",
    "from sklearn.metrics import precision_recall_curve\n",
    "from sklearn.metrics import average_precision_score\n",
    "\n",
    "from sklearn.utils import class_weight\n",
    "from sklearn.utils.fixes import signature\n",
    "from sklearn.ensemble import RandomForestClassifier\n",
    "from sklearn.tree import DecisionTreeClassifier\n",
    "from sklearn.linear_model import LogisticRegression\n",
    "from sklearn.neural_network import MLPClassifier\n",
    "from sklearn.base import TransformerMixin\n",
    "from sklearn.naive_bayes import GaussianNB\n",
    "from sklearn.naive_bayes import MultinomialNB\n",
    "from sklearn.discriminant_analysis import LinearDiscriminantAnalysis\n",
    "\n",
    "\n",
    "from sklearn.model_selection import train_test_split\n",
    "from sklearn.model_selection import KFold\n",
    "from sklearn.model_selection import cross_val_score\n",
    "from sklearn.feature_selection import SelectKBest\n",
    "from sklearn.feature_selection import chi2\n",
    "\n",
    "from keras.models import Sequential\n",
    "from keras.layers import Dense\n",
    "from keras.layers import Dropout\n",
    "from keras.callbacks import Callback\n",
    "\n",
    "from imblearn.over_sampling import SMOTE, ADASYN\n",
    "from imblearn.over_sampling import RandomOverSampler\n",
    "\n",
    "from matplotlib.pyplot import *\n",
    "\n",
    "warnings.filterwarnings(\"ignore\")"
   ]
  },
  {
   "cell_type": "code",
   "execution_count": 3,
   "metadata": {},
   "outputs": [],
   "source": [
    "dataset = read_csv(\"Week 1.csv\", encoding=\"ISO-8859-1\")\n",
    "df=dataset[['viewed','explored','certified','grade','nevents','ndays_act','nchapters','LoE_DI','Last event date','Completed_or_not']]\n",
    "df2=read_csv(\"Testing dataset.csv\", encoding=\"ISO-8859-1\")\n",
    "df3=read_csv(\"Testing result.csv\", encoding=\"ISO-8859-1\")"
   ]
  },
  {
   "cell_type": "code",
   "execution_count": 4,
   "metadata": {},
   "outputs": [],
   "source": [
    "X=df.iloc[:,[0,1,2,3,4,5,6,7,8]]\n",
    "y=df.iloc[:,9]\n",
    "\n",
    "Z=df2.iloc[:,[1,2,9,3,4,5,6,7,8]]\n",
    "yy=df3.iloc[:,[1]]"
   ]
  },
  {
   "cell_type": "code",
   "execution_count": 5,
   "metadata": {},
   "outputs": [],
   "source": [
    "all_classes=['Not Completed','Completed']"
   ]
  },
  {
   "cell_type": "code",
   "execution_count": 6,
   "metadata": {},
   "outputs": [],
   "source": [
    "def plot_confusion_matrix(cm, classes,\n",
    "                          normalize=False,\n",
    "                          title='Confusion matrix',\n",
    "                          cmap=plt.cm.Greens):\n",
    "    if normalize:\n",
    "        cm = cm.astype('float') / cm.sum(axis=1)[:, np.newaxis]\n",
    "        print(\"Normalized confusion matrix\")\n",
    "    else:\n",
    "        print('\\nConfusion matrix, without normalization')\n",
    "\n",
    "    print(cm)\n",
    "\n",
    "    plt.imshow(cm, interpolation='nearest', cmap=cmap)\n",
    "    plt.title(title)\n",
    "    plt.colorbar()\n",
    "    tick_marks = np.arange(len(classes))\n",
    "    plt.xticks(tick_marks, classes, rotation=90)\n",
    "    plt.yticks(tick_marks, classes)\n",
    "\n",
    "    fmt = '.2f' if normalize else 'd'\n",
    "    thresh = cm.max() / 2.\n",
    "    for i, j in itertools.product(range(cm.shape[0]), range(cm.shape[1])):\n",
    "        plt.text(j, i, format(cm[i, j], fmt),\n",
    "                 horizontalalignment=\"center\",\n",
    "                 color=\"white\" if cm[i, j] > thresh else \"black\")\n",
    "\n",
    "    plt.tight_layout()\n",
    "    plt.ylabel('True label')\n",
    "    plt.xlabel('Predicted label')"
   ]
  },
  {
   "cell_type": "code",
   "execution_count": 7,
   "metadata": {},
   "outputs": [
    {
     "name": "stdout",
     "output_type": "stream",
     "text": [
      "Number of mislabeled points out of a total 25310 points : 422 \n",
      "\n",
      "\n",
      "              precision    recall  f1-score   support\n",
      "\n",
      "         0.0       1.00      0.98      0.99     24381\n",
      "         1.0       0.69      1.00      0.81       929\n",
      "\n",
      "   micro avg       0.98      0.98      0.98     25310\n",
      "   macro avg       0.84      0.99      0.90     25310\n",
      "weighted avg       0.99      0.98      0.98     25310\n",
      "\n",
      "Recall score:  1.0\n",
      "Precision score:  0.9885348254552505\n",
      "\n",
      "Accuracy score  98.33267483208218 %\n",
      "RMS Error  1.667325167917819 %\n",
      "\n",
      "Area under Curve: 0.991\n"
     ]
    },
    {
     "data": {
      "image/png": "[encoded data removed]",
      "text/plain": [
       "<Figure size 432x288 with 1 Axes>"
      ]
     },
     "metadata": {
      "needs_background": "light"
     },
     "output_type": "display_data"
    },
    {
     "name": "stdout",
     "output_type": "stream",
     "text": [
      "\n",
      "Confusion matrix, without normalization\n",
      "[[23959   422]\n",
      " [    0   929]]\n"
     ]
    },
    {
     "data": {
      "image/png": "[encoded data removed]",
      "text/plain": [
       "<Figure size 432x288 with 2 Axes>"
      ]
     },
     "metadata": {
      "needs_background": "light"
     },
     "output_type": "display_data"
    }
   ],
   "source": [
    "#Gaussian Naive Bayes\n",
    "\n",
    "X_train, X_test, y_train, y_test= train_test_split(X, y, test_size=0.3, shuffle=True)\n",
    "clf = GaussianNB()\n",
    "predictions = clf.fit(X_train, y_train).predict(X_test)\n",
    "\n",
    "print(\"Number of mislabeled points out of a total %d points : %d \\n\\n\" % (X_test.shape[0],(y_test != predictions).sum()))\n",
    "print(classification_report(y_test,predictions))\n",
    "print(\"Recall score: \", recall_score(y_test,predictions))\n",
    "print(\"Precision score: \", precision_score(y_test,predictions,average='weighted'))\n",
    "print(\"\\nAccuracy score \",accuracy_score(y_test, predictions)*100,\"%\")\n",
    "print(\"RMS Error \", mean_squared_error(y_test, predictions, multioutput = 'uniform_average')*100, \"%\")\n",
    "\n",
    "auc = roc_auc_score(y_test, predictions)\n",
    "print('\\nArea under Curve: %.3f' % auc)\n",
    "fpr, tpr, thresholds = roc_curve(y_test, predictions)\n",
    "pyplot.plot([0, 1], [0, 1], linestyle='--')\n",
    "# plot the roc curve for the model\n",
    "pyplot.plot(fpr,tpr, marker='*')\n",
    "# show the plot\n",
    "pyplot.show()\n",
    "\n",
    "cnf_matrix=confusion_matrix(y_test,predictions)\n",
    "plot_confusion_matrix(cnf_matrix,classes=all_classes, title='Confusion matrix without normalization')"
   ]
  },
  {
   "cell_type": "code",
   "execution_count": 8,
   "metadata": {},
   "outputs": [
    {
     "name": "stdout",
     "output_type": "stream",
     "text": [
      "Accuracy score:  96.94321670771619 %\n",
      "RMS Error:  3.056783292283815 %\n",
      "Area under Curve: 0.967\n"
     ]
    },
    {
     "data": {
      "image/png": "[encoded data removed]",
      "text/plain": [
       "<Figure size 432x288 with 1 Axes>"
      ]
     },
     "metadata": {
      "needs_background": "light"
     },
     "output_type": "display_data"
    },
    {
     "name": "stdout",
     "output_type": "stream",
     "text": [
      "              precision    recall  f1-score   support\n",
      "\n",
      "           0       1.00      0.97      0.98     57538\n",
      "           1       0.49      0.96      0.65      1740\n",
      "\n",
      "   micro avg       0.97      0.97      0.97     59278\n",
      "   macro avg       0.74      0.97      0.82     59278\n",
      "weighted avg       0.98      0.97      0.97     59278\n",
      "\n",
      "Recall score:  0.9649425287356321\n",
      "Precision score:  0.9839551217342641\n",
      "\n",
      "Confusion matrix, without normalization\n",
      "[[55787  1751]\n",
      " [   61  1679]]\n"
     ]
    },
    {
     "data": {
      "image/png": "[encoded data removed]",
      "text/plain": [
       "<Figure size 432x288 with 2 Axes>"
      ]
     },
     "metadata": {
      "needs_background": "light"
     },
     "output_type": "display_data"
    }
   ],
   "source": [
    "#Predictions on different test dataset\n",
    "\n",
    "predictions=clf.predict(Z)\n",
    "\n",
    "print(\"Accuracy score: \",accuracy_score(yy, predictions)*100,\"%\")\n",
    "print(\"RMS Error: \", mean_squared_error(yy, predictions, multioutput = 'uniform_average')*100,\"%\")\n",
    "\n",
    "auc = roc_auc_score(yy, predictions)\n",
    "print('Area under Curve: %.3f' % auc)\n",
    "fpr, tpr, thresholds = roc_curve(yy, predictions)\n",
    "pyplot.plot([0, 1], [0, 1], linestyle='--')\n",
    "# plot the roc curve for the model\n",
    "pyplot.plot(fpr,tpr, marker='*')\n",
    "# show the plot\n",
    "pyplot.show()\n",
    "\n",
    "print(classification_report(yy,predictions))\n",
    "print(\"Recall score: \", recall_score(yy,predictions))\n",
    "print(\"Precision score: \", precision_score(yy,predictions,average='weighted'))\n",
    "\n",
    "cnf_matrix=confusion_matrix(yy,predictions)\n",
    "plot_confusion_matrix(cnf_matrix,classes=all_classes, title='Confusion matrix without normalization')"
   ]
  },
  {
   "cell_type": "code",
   "execution_count": null,
   "metadata": {},
   "outputs": [],
   "source": []
  }
 ],
 "metadata": {
  "kernelspec": {
   "display_name": "python3.6",
   "language": "python",
   "name": "python3.6"
  },
  "language_info": {
   "codemirror_mode": {
    "name": "ipython",
    "version": 3
   },
   "file_extension": ".py",
   "mimetype": "text/x-python",
   "name": "python",
   "nbconvert_exporter": "python",
   "pygments_lexer": "ipython3",
   "version": "3.6.8"
  }
 },
 "nbformat": 4,
 "nbformat_minor": 2
}
