{
 "cells": [
  {
   "cell_type": "code",
   "execution_count": 1,
   "metadata": {},
   "outputs": [
    {
     "name": "stderr",
     "output_type": "stream",
     "text": [
      "Using TensorFlow backend.\n"
     ]
    }
   ],
   "source": [
    "import numpy as np\n",
    "import pandas as pd\n",
    "import seaborn as sns\n",
    "import matplotlib.pyplot as plt\n",
    "import random\n",
    "import time                   # To time processes\n",
    "import warnings               # To suppress warnings\n",
    "import itertools\n",
    "import datetime\n",
    "import csv\n",
    "\n",
    "from random import shuffle\n",
    "from pandas import read_csv\n",
    "from sklearn import metrics\n",
    "from sklearn import svm\n",
    "from matplotlib import pyplot\n",
    "from numpy import array\n",
    "from numpy import argmax\n",
    "from scipy import stats\n",
    "\n",
    "from sklearn.preprocessing import LabelEncoder\n",
    "from sklearn.preprocessing import OneHotEncoder\n",
    "\n",
    "from sklearn.metrics import accuracy_score\n",
    "from sklearn.metrics import classification_report, confusion_matrix  \n",
    "from sklearn.metrics import accuracy_score\n",
    "from sklearn.metrics import mean_squared_error\n",
    "from sklearn.metrics import roc_curve\n",
    "from sklearn.metrics import roc_auc_score\n",
    "from sklearn.cluster import KMeans\n",
    "\n",
    "from sklearn.utils import class_weight\n",
    "from sklearn.ensemble import RandomForestClassifier\n",
    "from sklearn.linear_model import LogisticRegression\n",
    "from sklearn.neural_network import MLPClassifier\n",
    "from sklearn.base import TransformerMixin\n",
    "from sklearn.naive_bayes import GaussianNB\n",
    "from sklearn.naive_bayes import MultinomialNB\n",
    "\n",
    "\n",
    "from sklearn.model_selection import train_test_split\n",
    "from sklearn.model_selection import KFold\n",
    "from sklearn.model_selection import cross_val_score\n",
    "from sklearn.feature_selection import SelectKBest\n",
    "from sklearn.feature_selection import chi2\n",
    "\n",
    "from keras.models import Sequential\n",
    "from keras.layers import Dense\n",
    "from keras.layers import Dropout\n",
    "\n",
    "from imblearn.over_sampling import SMOTE, ADASYN\n",
    "from imblearn.over_sampling import RandomOverSampler\n",
    "\n",
    "from matplotlib.pyplot import *\n",
    "\n",
    "warnings.filterwarnings(\"ignore\")"
   ]
  },
  {
   "cell_type": "code",
   "execution_count": 2,
   "metadata": {},
   "outputs": [],
   "source": [
    "dataset = read_csv(\"cs_mitx.csv\", encoding=\"ISO-8859-1\")"
   ]
  },
  {
   "cell_type": "code",
   "execution_count": 3,
   "metadata": {},
   "outputs": [
    {
     "name": "stdout",
     "output_type": "stream",
     "text": [
      "0   2012-12-21\n",
      "1          NaT\n",
      "2   2012-10-18\n",
      "3   2012-04-11\n",
      "4   2012-09-26\n",
      "Name: last_event_DI, dtype: datetime64[ns]\n"
     ]
    }
   ],
   "source": [
    "df=dataset[['viewed','explored', 'grade', 'nevents', 'ndays_act', 'nchapters','LoE_DI','last_event_DI']]\n",
    "\n",
    "idx = pd.date_range('01-01-2012', '12-30-2013')\n",
    "df['last_event_DI'] = pd.to_datetime(df['last_event_DI'])\n",
    "print(df['last_event_DI'].head())"
   ]
  },
  {
   "cell_type": "code",
   "execution_count": 4,
   "metadata": {},
   "outputs": [
    {
     "name": "stdout",
     "output_type": "stream",
     "text": [
      "0   2012-12-21\n",
      "1   2012-01-01\n",
      "2   2012-10-18\n",
      "3   2012-04-11\n",
      "4   2012-09-26\n",
      "Name: last_event_DI, dtype: datetime64[ns]\n"
     ]
    }
   ],
   "source": [
    "#Impute missing dates\n",
    "j=0\n",
    "for ix in df.index:\n",
    "    #print(df.loc[ix]['last_event_DI'])\n",
    "    if(str(df.loc[ix]['last_event_DI']) == 'NaT'):\n",
    "        #print(ix,\"\\n\")\n",
    "        #print(idx[j%30])\n",
    "        df.at[ix, 'last_event_DI'] = idx[j%730]\n",
    "        j=j+1\n",
    "\n",
    "print(df['last_event_DI'].head())"
   ]
  },
  {
   "cell_type": "code",
   "execution_count": 5,
   "metadata": {},
   "outputs": [],
   "source": [
    "#Converting Last event date into unix timestamp\n",
    "df['last_event_DI'] = df['last_event_DI'].astype(str)\n",
    "end_temp= np.zeros(shape=(df['last_event_DI'].shape[0],1))\n",
    "for ix in df['last_event_DI'].index:\n",
    "    end_temp[ix]=int(time.mktime(datetime.datetime.strptime(df.loc[ix]['last_event_DI'], \"%Y-%m-%d\").timetuple()))\n",
    "\n",
    "df_temp2=pd.DataFrame({'Last event date':end_temp[:,0]})\n",
    "df_temp2.head()\n",
    "\n",
    "df=pd.concat([df,df_temp2], axis=1)"
   ]
  },
  {
   "cell_type": "code",
   "execution_count": 6,
   "metadata": {},
   "outputs": [],
   "source": [
    "#One-hot encoding for converting Level of Education\n",
    "data = df[['LoE_DI']]\n",
    "values = array(data)\n",
    "#print(values)\n",
    "values.ravel()\n",
    "# integer encode\n",
    "label_encoder = LabelEncoder()\n",
    "integer_encoded = label_encoder.fit_transform(values)\n",
    "integer_encoded = integer_encoded.reshape((integer_encoded.shape[0], 1))\n",
    "df[['LoE_DI']]=integer_encoded"
   ]
  },
  {
   "cell_type": "code",
   "execution_count": 7,
   "metadata": {},
   "outputs": [],
   "source": [
    "# for normalizing grades and gender missing values\n",
    "\n",
    "class DataFrameImputer(TransformerMixin):\n",
    "\n",
    "    def __init__(self):\n",
    "        \"\"\"Impute missing values.\n",
    "\n",
    "        Columns of dtype object are imputed with the most frequent value \n",
    "        in column.\n",
    "\n",
    "        Columns of other types are imputed with mean of column.\n",
    "\n",
    "        \"\"\"\n",
    "    def fit(self, X, y=None):\n",
    "\n",
    "        self.fill = pd.Series([X[c].value_counts().index[0]\n",
    "            if X[c].dtype == np.dtype('O') else X[c].mean() for c in X],\n",
    "            index=X.columns)\n",
    "\n",
    "        return self\n",
    "\n",
    "    def transform(self, X, y=None):\n",
    "        return X.fillna(self.fill)\n",
    "\n",
    "\n",
    "df[['grade']] = DataFrameImputer().fit_transform(df[['grade']])"
   ]
  },
  {
   "cell_type": "code",
   "execution_count": 8,
   "metadata": {},
   "outputs": [
    {
     "data": {
      "text/plain": [
       "viewed             0\n",
       "explored           0\n",
       "grade              0\n",
       "nevents            0\n",
       "ndays_act          0\n",
       "nchapters          0\n",
       "LoE_DI             0\n",
       "last_event_DI      0\n",
       "Last event date    0\n",
       "dtype: int64"
      ]
     },
     "execution_count": 8,
     "metadata": {},
     "output_type": "execute_result"
    }
   ],
   "source": [
    "df.isnull().sum()"
   ]
  },
  {
   "cell_type": "code",
   "execution_count": 9,
   "metadata": {},
   "outputs": [
    {
     "data": {
      "text/html": [
       "<div>\n",
       "<style scoped>\n",
       "    .dataframe tbody tr th:only-of-type {\n",
       "        vertical-align: middle;\n",
       "    }\n",
       "\n",
       "    .dataframe tbody tr th {\n",
       "        vertical-align: top;\n",
       "    }\n",
       "\n",
       "    .dataframe thead th {\n",
       "        text-align: right;\n",
       "    }\n",
       "</style>\n",
       "<table border=\"1\" class=\"dataframe\">\n",
       "  <thead>\n",
       "    <tr style=\"text-align: right;\">\n",
       "      <th></th>\n",
       "      <th>viewed</th>\n",
       "      <th>explored</th>\n",
       "      <th>grade</th>\n",
       "      <th>nevents</th>\n",
       "      <th>ndays_act</th>\n",
       "      <th>nchapters</th>\n",
       "      <th>LoE_DI</th>\n",
       "      <th>last_event_DI</th>\n",
       "      <th>Last event date</th>\n",
       "    </tr>\n",
       "  </thead>\n",
       "  <tbody>\n",
       "    <tr>\n",
       "      <th>0</th>\n",
       "      <td>1</td>\n",
       "      <td>0</td>\n",
       "      <td>0.00</td>\n",
       "      <td>43</td>\n",
       "      <td>1</td>\n",
       "      <td>3</td>\n",
       "      <td>0</td>\n",
       "      <td>2012-12-21</td>\n",
       "      <td>1.356028e+09</td>\n",
       "    </tr>\n",
       "    <tr>\n",
       "      <th>1</th>\n",
       "      <td>0</td>\n",
       "      <td>0</td>\n",
       "      <td>0.00</td>\n",
       "      <td>0</td>\n",
       "      <td>0</td>\n",
       "      <td>0</td>\n",
       "      <td>0</td>\n",
       "      <td>2012-01-01</td>\n",
       "      <td>1.325356e+09</td>\n",
       "    </tr>\n",
       "    <tr>\n",
       "      <th>2</th>\n",
       "      <td>1</td>\n",
       "      <td>0</td>\n",
       "      <td>0.01</td>\n",
       "      <td>879</td>\n",
       "      <td>5</td>\n",
       "      <td>3</td>\n",
       "      <td>4</td>\n",
       "      <td>2012-10-18</td>\n",
       "      <td>1.350499e+09</td>\n",
       "    </tr>\n",
       "    <tr>\n",
       "      <th>3</th>\n",
       "      <td>1</td>\n",
       "      <td>0</td>\n",
       "      <td>0.00</td>\n",
       "      <td>547</td>\n",
       "      <td>8</td>\n",
       "      <td>2</td>\n",
       "      <td>0</td>\n",
       "      <td>2012-04-11</td>\n",
       "      <td>1.334083e+09</td>\n",
       "    </tr>\n",
       "    <tr>\n",
       "      <th>4</th>\n",
       "      <td>0</td>\n",
       "      <td>0</td>\n",
       "      <td>0.00</td>\n",
       "      <td>2</td>\n",
       "      <td>1</td>\n",
       "      <td>0</td>\n",
       "      <td>4</td>\n",
       "      <td>2012-09-26</td>\n",
       "      <td>1.348598e+09</td>\n",
       "    </tr>\n",
       "  </tbody>\n",
       "</table>\n",
       "</div>"
      ],
      "text/plain": [
       "   viewed  explored  grade  nevents  ndays_act  nchapters  LoE_DI  \\\n",
       "0       1         0   0.00       43          1          3       0   \n",
       "1       0         0   0.00        0          0          0       0   \n",
       "2       1         0   0.01      879          5          3       4   \n",
       "3       1         0   0.00      547          8          2       0   \n",
       "4       0         0   0.00        2          1          0       4   \n",
       "\n",
       "  last_event_DI  Last event date  \n",
       "0    2012-12-21     1.356028e+09  \n",
       "1    2012-01-01     1.325356e+09  \n",
       "2    2012-10-18     1.350499e+09  \n",
       "3    2012-04-11     1.334083e+09  \n",
       "4    2012-09-26     1.348598e+09  "
      ]
     },
     "execution_count": 9,
     "metadata": {},
     "output_type": "execute_result"
    }
   ],
   "source": [
    "df.head()"
   ]
  },
  {
   "cell_type": "code",
   "execution_count": 10,
   "metadata": {},
   "outputs": [],
   "source": [
    "df=df.drop(['last_event_DI'], axis=1)"
   ]
  },
  {
   "cell_type": "code",
   "execution_count": 11,
   "metadata": {},
   "outputs": [
    {
     "name": "stdout",
     "output_type": "stream",
     "text": [
      "<class 'pandas.core.frame.DataFrame'>\n",
      "Week  4105 \n",
      " [[    0 56931]\n",
      " [    1  2348]]\n"
     ]
    }
   ],
   "source": [
    "#Clustering for certified or not\n",
    "\n",
    "df11=df[['viewed','explored','grade','ndays_act','nchapters','LoE_DI']]\n",
    "print(type(df11))\n",
    "\n",
    "kmeans = KMeans(n_clusters=2)\n",
    "kmeans.fit(df11)\n",
    "y_km = kmeans.fit_predict(df11)\n",
    "\n",
    "df7= pd.DataFrame({'certified':y_km})\n",
    "df7=df7.values\n",
    "\n",
    "print(\"Week \",j+1,\"\\n\",np.array(np.unique(y_km, return_counts=True)).T)\n",
    "df=np.concatenate((df,df7),axis=1)"
   ]
  },
  {
   "cell_type": "code",
   "execution_count": 12,
   "metadata": {},
   "outputs": [
    {
     "data": {
      "text/plain": [
       "numpy.ndarray"
      ]
     },
     "execution_count": 12,
     "metadata": {},
     "output_type": "execute_result"
    }
   ],
   "source": [
    "type(df)"
   ]
  },
  {
   "cell_type": "code",
   "execution_count": 13,
   "metadata": {
    "scrolled": true
   },
   "outputs": [
    {
     "name": "stdout",
     "output_type": "stream",
     "text": [
      "[1.0000000e+00 0.0000000e+00 0.0000000e+00 4.3000000e+01 1.0000000e+00\n",
      " 3.0000000e+00 0.0000000e+00 1.3560282e+09 0.0000000e+00]\n"
     ]
    }
   ],
   "source": [
    "print(df[0])"
   ]
  },
  {
   "cell_type": "code",
   "execution_count": 14,
   "metadata": {},
   "outputs": [],
   "source": [
    "#Creating file for test dataset from cs_mitx\n",
    "np.savetxt(\"Testing dataset.csv\", df, delimiter=\",\")\n",
    "\n",
    "df5 = read_csv('Testing dataset.csv')\n",
    "df5.columns=['viewed','explored', 'grade', 'nevents', 'ndays_act', 'nchapters','LoE_DI','last_event_DI', 'certified']\n",
    "df5.to_csv('Testing dataset.csv')\n",
    "df5 = df5.drop(df5.index, inplace=True)"
   ]
  },
  {
   "cell_type": "code",
   "execution_count": 15,
   "metadata": {
    "scrolled": true
   },
   "outputs": [
    {
     "name": "stdout",
     "output_type": "stream",
     "text": [
      "0    57539\n",
      "1     1740\n",
      "Name: Completed_or_Not, dtype: int64\n"
     ]
    }
   ],
   "source": [
    "print(dataset['Completed_or_Not'].value_counts())"
   ]
  },
  {
   "cell_type": "code",
   "execution_count": 16,
   "metadata": {},
   "outputs": [],
   "source": [
    "df77=dataset['Completed_or_Not']\n",
    "df77.to_csv('Testing result.csv')"
   ]
  },
  {
   "cell_type": "code",
   "execution_count": 17,
   "metadata": {},
   "outputs": [
    {
     "name": "stdout",
     "output_type": "stream",
     "text": [
      "0    57538\n",
      "1     1740\n",
      "Name: Completed_or_not, dtype: int64\n"
     ]
    }
   ],
   "source": [
    "df88=read_csv('Testing result.csv')\n",
    "print(df88['Completed_or_not'].value_counts())"
   ]
  },
  {
   "cell_type": "code",
   "execution_count": null,
   "metadata": {},
   "outputs": [],
   "source": []
  }
 ],
 "metadata": {
  "kernelspec": {
   "display_name": "python3.6",
   "language": "python",
   "name": "python3.6"
  },
  "language_info": {
   "codemirror_mode": {
    "name": "ipython",
    "version": 3
   },
   "file_extension": ".py",
   "mimetype": "text/x-python",
   "name": "python",
   "nbconvert_exporter": "python",
   "pygments_lexer": "ipython3",
   "version": "3.6.8"
  }
 },
 "nbformat": 4,
 "nbformat_minor": 2
}
